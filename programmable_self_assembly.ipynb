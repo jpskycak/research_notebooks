{
  "nbformat": 4,
  "nbformat_minor": 0,
  "metadata": {
    "colab": {
      "name": "programmable_self_assembly.ipynb",
      "version": "0.3.2",
      "provenance": [],
      "collapsed_sections": [],
      "include_colab_link": true
    },
    "kernelspec": {
      "name": "python2",
      "display_name": "Python 2"
    }
  },
  "cells": [
    {
      "cell_type": "markdown",
      "metadata": {
        "id": "view-in-github",
        "colab_type": "text"
      },
      "source": [
        "[View in Colaboratory](https://colab.research.google.com/github/jpskycak/research_notebooks/blob/master/programmable_self_assembly.ipynb)"
      ]
    },
    {
      "metadata": {
        "id": "lULJBcZs-qHm",
        "colab_type": "code",
        "colab": {}
      },
      "cell_type": "code",
      "source": [
        "import numpy as np\n",
        "import matplotlib.pyplot as plt\n",
        "import itertools\n",
        "import random\n",
        "  \n",
        "def linf_distance((a,b),(x,y)):\n",
        "  return max(abs(a-x),abs(b-y))\n",
        "def l1_distance((a,b),(x,y)):\n",
        "  return abs(a-x)+abs(b-y)\n",
        "def displacement(initial,terminal):\n",
        "  return (terminal[0]-initial[0], terminal[1]-initial[1])\n",
        "def get_coordinates(array):\n",
        "  return [(i,j) for i,row in enumerate(array) for j,val in enumerate(row) if val==1]\n",
        "def arrow(direction):\n",
        "  # arrows: http://xahlee.info/comp/unicode_arrows.html\n",
        "  arrowdict = {'(-1, 0)':'🡑',\n",
        "              '(-1, 1)':'🡕',\n",
        "              '(0, 1)':'🡒',\n",
        "              '(1, 1)':'🡖',\n",
        "              '(1, 0)':'🡓',\n",
        "              '(1, -1)':'🡗',\n",
        "              '(0, -1)':'🡐',\n",
        "              '(-1, -1)':'🡔'}\n",
        "  return arrowdict[str(direction)]\n",
        "def is_connected(pointlist,center):\n",
        "  displist = [displacement(center,p) for p in pointlist]\n",
        "  full_clockwise = [(-1,0),(-1,1),(0,1),(1,1),(1,0),(1,-1),(0,-1),(-1,-1)]\n",
        "  clockwise = [p for p in full_clockwise if p in displist]\n",
        "  n = len(clockwise)\n",
        "  distance_to_next = [linf_distance(clockwise[i],clockwise[(i+1)%n]) for i in range(n)]\n",
        "  num_breaks = sum([bool(d>1) for d in distance_to_next])\n",
        "  if num_breaks>1:\n",
        "    return False\n",
        "  else:\n",
        "    return True\n",
        "  \n",
        "class Agents:\n",
        "  \n",
        "  ##########################\n",
        "  ### PLOTTING / LOGGING ###\n",
        "  ##########################\n",
        "  \n",
        "  def make_grid(self,highlight_agents_by_index=[],gradient=False):\n",
        "    grid = np.ones((self.grid_shape[0],self.grid_shape[1],3))\n",
        "    for p in self.template_coordinates:\n",
        "      grid[p][0] = 1\n",
        "      grid[p][1] = 1\n",
        "      grid[p][2] = 125\n",
        "      \n",
        "    if gradient:\n",
        "      max_gradient = max(self.gradient)\n",
        "      for i,p in enumerate(self.agent_coordinates):\n",
        "        val = 100+ 100*float(self.gradient[i])/max_gradient\n",
        "        grid[p][0] = val\n",
        "        grid[p][1] = val\n",
        "        grid[p][2] = val\n",
        "        if self.activity[i] == False:\n",
        "          grid[p][2] = 1\n",
        "        if i in highlight_agents_by_index:\n",
        "          grid[p][1] = 1\n",
        "    else:\n",
        "      for i,p in enumerate(self.agent_coordinates):\n",
        "        grid[p][0] = 200\n",
        "        grid[p][1] = 200\n",
        "        grid[p][2] = 200\n",
        "        if self.activity[i] == False:\n",
        "          grid[p][2] = 1\n",
        "        if i in highlight_agents_by_index:\n",
        "          grid[p][1] = 1\n",
        "        \n",
        "    return grid\n",
        "  \n",
        "  def update_logarray(self,highlight_agents_by_index=[]):\n",
        "    grid = self.make_grid(highlight_agents_by_index=highlight_agents_by_index)\n",
        "    self.logarray.append(grid)\n",
        "    \n",
        "  def plot(self,t=0,logarrayskip=1,showgradient=False):\n",
        "    print self.logstr[t]\n",
        "    if t != -1:\n",
        "      grids = [self.logarray[logarrayskip+2*t],self.logarray[logarrayskip+2*t+1]]\n",
        "      xyglist = [zip(a.coordinates_log[t],a.gradient_log[2*t+1]),zip(a.coordinates_log[t+1],a.gradient_log[2*t+2])]\n",
        "    elif t == -1:\n",
        "      grids = [self.logarray[logarrayskip+2*t]]\n",
        "      xyglist = [zip(a.coordinates_log[t],a.gradient_log[2*t+1])]\n",
        "    for grid in grids:\n",
        "      plt.imshow(grid)\n",
        "      plt.grid(False)\n",
        "      plt.show()\n",
        "    if showgradient:\n",
        "      for xyg in xyglist:\n",
        "        gradarray = np.zeros(self.grid_shape)\n",
        "        for ((x,y),g) in xyg:\n",
        "          gradarray[x,y] = float(5+g)/10\n",
        "        plt.imshow(gradarray)\n",
        "        plt.grid(False)\n",
        "        plt.show()\n",
        "  \n",
        "  #########################\n",
        "  ### UPDATES UTILITIES ###\n",
        "  #########################\n",
        "  \n",
        "  def prospective_location(self,i):\n",
        "    (x0,y0) = self.agent_coordinates[i]\n",
        "    (dx,dy) = self.direction[i]\n",
        "    (x,y) = (x0+dx,y0+dy)\n",
        "    return (x,y)\n",
        "  \n",
        "  def closest_to_inactive_neighbor(self,i,plist):\n",
        "    inactive_neighbor_coordinates = [self.agent_coordinates[j] for j in self.neighbors[i] if self.activity[j]==False]\n",
        "    if len(inactive_neighbor_coordinates) > 0:\n",
        "      dist_from_inactive_neighbor = [min([l1_distance(p,p_neighbor) for p_neighbor in inactive_neighbor_coordinates]) for p in plist]\n",
        "      mindist = min(dist_from_inactive_neighbor)\n",
        "      return [p for (p,d) in zip(plist,dist_from_inactive_neighbor) if d==mindist]\n",
        "    else:\n",
        "      return plist\n",
        "  \n",
        "  def angle(self,i,p):\n",
        "    p_direction = displacement(self.agent_coordinates[i],p)\n",
        "    return l1_distance(self.direction[i],p_direction)\n",
        "  \n",
        "  def leastangle(self,i,plist):\n",
        "    angles = [self.angle(i,p) for p in plist]\n",
        "    leastangle = min(angles)\n",
        "    return [plist[j] for j,a in enumerate(angles) if a==leastangle]\n",
        "  \n",
        "  def linf_distance_to_template(self,p):\n",
        "    return min([linf_distance(p,t) for t in self.template_coordinates])\n",
        "  \n",
        "  def closest_to_template(self,plist):\n",
        "    distances = [self.linf_distance_to_template(p) for p in plist]\n",
        "    mindist = min(distances)\n",
        "    return [plist[j] for j,d in enumerate(distances) if d==mindist]\n",
        "  \n",
        "  def choose(self,i,plist):\n",
        "    if len(plist) == 1:\n",
        "      return plist[0]\n",
        "    elif len(plist) > 1: # choose the one that's closest to inactive neighbor\n",
        "      plist = self.closest_to_inactive_neighbor(i,plist)\n",
        "      if len(plist) == 1:\n",
        "        return plist[0]\n",
        "      elif len(plist) > 1: # choose the one that's closest to the template\n",
        "        plist = self.closest_to_template(plist)\n",
        "        if len(plist) == 1:\n",
        "          return plist[0]\n",
        "        elif len(plist) > 1: # choose the one that changes direction the least\n",
        "          plist = self.leastangle(i,plist)\n",
        "          if len(plist) == 1:\n",
        "            return plist[0]\n",
        "          elif len(plist) > 1: # random choice\n",
        "            return random.choice(plist)\n",
        "  \n",
        "  def surroundings(self,i):\n",
        "    (x0,y0) = self.agent_coordinates[i]\n",
        "    coordinates = [(x0-1,y0),(x0-1,y0+1),(x0,y0+1),(x0+1,y0+1),(x0+1,y0),(x0+1,y0-1),(x0,y0-1),(x0-1,y0-1)]\n",
        "    ans = [{'coordinates': (x,y),\n",
        "            'is_unoccupied': (x,y) not in self.agent_coordinates,\n",
        "            'is_in_template': (x,y) in self.template_coordinates,\n",
        "            'is_in_grid': x in range(self.grid_shape[0]) and y in range(self.grid_shape[1])} for (x,y) in coordinates]\n",
        "    return ans\n",
        "  \n",
        "  def edgefollows(self,i,preserve_connectivity=False):\n",
        "    surr = self.surroundings(i)\n",
        "    p0 = self.agent_coordinates[i]\n",
        "    occupied = [s['coordinates'] for s in surr if not s['is_unoccupied']]\n",
        "    unoccupied = [s['coordinates'] for s in surr if s['is_unoccupied']]\n",
        "    \n",
        "    if preserve_connectivity:\n",
        "      ans = [p for p in unoccupied if is_connected(list(occupied)+[p],p0)]\n",
        "    else:\n",
        "      ans = unoccupied # let it move anywhere\n",
        "      \n",
        "    surr_in_grid = [s['coordinates'] for s in surr if s['is_in_grid']]\n",
        "    ans = [p for p in ans if p in surr_in_grid]\n",
        "    \n",
        "    return ans\n",
        "  \n",
        "  ###############\n",
        "  ### UPDATES ###\n",
        "  ###############\n",
        "  \n",
        "  def update_activity_according_to_gradient(self,i):\n",
        "    if self.activity[i]: # activity update according to gradient\n",
        "      p0 = self.agent_coordinates[i] \n",
        "      if p0 in self.template_coordinates: # if inside the shape\n",
        "        inactive_neighbors = [j for j in self.neighbors[i] if self.activity[j]==False]\n",
        "        if len(inactive_neighbors)>0:\n",
        "          if any([self.gradient[i] <= self.gradient[j] for j in inactive_neighbors]): # turn off if  inactive neighbor has same or greater gradient value\n",
        "            self.activity[i] = False\n",
        "            \n",
        "  def update_all_activities_according_to_gradient(self):\n",
        "    for i in range(len(self.agent_coordinates)):\n",
        "      if self.activity[i]:\n",
        "        if self.agent_coordinates[i] in self.template_coordinates:\n",
        "          self.update_activity_according_to_gradient(i)\n",
        "  \n",
        "  def update_direction_coordinates_activity(self,i):\n",
        "    if self.activity[i]: # forward edge-follow\n",
        "      plist = self.edgefollows(i) \n",
        "      agent_is_in_template = (self.agent_coordinates[i] in self.template_coordinates)\n",
        "      if len(plist)>0: # edge-follow\n",
        "        p_chosen = self.choose(i,plist)\n",
        "        if agent_is_in_template:\n",
        "          if p_chosen not in self.template_coordinates:\n",
        "            self.activity[i] = False\n",
        "          else:\n",
        "            self.direction[i] = displacement(self.agent_coordinates[i],p_chosen)\n",
        "            self.agent_coordinates[i] = p_chosen\n",
        "        else:\n",
        "          self.direction[i] = displacement(self.agent_coordinates[i],p_chosen)\n",
        "          self.agent_coordinates[i] = p_chosen\n",
        "  \n",
        "  def get_neighbors(self,i):\n",
        "    p0 = self.agent_coordinates[i]\n",
        "    return [j for j,p in enumerate(self.agent_coordinates) if linf_distance(p0,p)==1 and i!=j]\n",
        "  \n",
        "  def update_neighbors(self):\n",
        "    self.neighbors = [self.get_neighbors(i) for i in range(len(self.agent_coordinates))]\n",
        "    \n",
        "  def l1_neighbors(self,i):\n",
        "    return [j for j in self.neighbors[i] if l1_distance(self.agent_coordinates[j],self.agent_coordinates[i])==1]\n",
        "  \n",
        "  def recurse_gradient(self):\n",
        "    for i,g in enumerate(self.gradient):\n",
        "        if g=='':\n",
        "          min_gradient_in_neighbors = 10**10 # big number\n",
        "          should_assign_gradient_value = False\n",
        "          for j in self.neighbors[i]:\n",
        "            if self.gradient[j] != '':\n",
        "              if j in self.l1_neighbors(i):\n",
        "                min_gradient_in_neighbors = min(self.gradient[j],min_gradient_in_neighbors)\n",
        "                should_assign_gradient_value = True\n",
        "              else:\n",
        "                min_gradient_in_neighbors = min(self.gradient[j]+1,min_gradient_in_neighbors)\n",
        "                should_assign_gradient_value = True\n",
        "          if should_assign_gradient_value:\n",
        "            self.gradient[i] = 1+min_gradient_in_neighbors\n",
        "  \n",
        "  def set_blank_gradients_to_infty(self):\n",
        "    def replaceblank(n):\n",
        "      if n=='':\n",
        "        return 10**10\n",
        "      else:\n",
        "        return n\n",
        "      \n",
        "    self.gradient = [replaceblank(g) for g in self.gradient]\n",
        "  \n",
        "  def update_gradient(self): # uses l1 instead of linf\n",
        "    self.gradient = ['' for _ in self.agent_coordinates]\n",
        "    i_source = self.is_source.index(True)\n",
        "    self.gradient[i_source] = 0\n",
        "    for j in self.neighbors[i_source]:\n",
        "      if j in self.l1_neighbors(i_source):\n",
        "        self.gradient[j] = 1\n",
        "      else:\n",
        "        self.gradient[j] = 2\n",
        "    \n",
        "    max_iterations = self.L**2\n",
        "    num_iterations = 0\n",
        "    while '' in self.gradient and num_iterations<max_iterations:\n",
        "      num_iterations += 1\n",
        "      self.recurse_gradient()\n",
        "      \n",
        "    self.set_blank_gradients_to_infty()\n",
        "      \n",
        "  def update_logstr(self,i,(p0,dir0,activity0,neighbors0,edgefollows0),(p1,dir1,activity1,neighbors1,edgefollows1)):\n",
        "    dir0, dir1 = arrow(dir0), arrow(dir1)\n",
        "    translation_dict = {True:'on',False:'off'}\n",
        "    activity0, activity1 = translation_dict[activity0], translation_dict[activity1]\n",
        "    template_string = 'Agent {0}: [{1},{2},{3}]-->[{4},{5},{6}]\\nNeighbors: {7}\\nEdgefollows: {8}'\n",
        "    newstring = template_string.format(i,p0,dir0,activity0,p1,dir1,activity1,neighbors0,edgefollows0)\n",
        "    self.logstr.append(newstring)\n",
        "  \n",
        "  ##########################\n",
        "  ### DYNAMICS UTILITIES ###\n",
        "  ##########################\n",
        "  \n",
        "  def init_template_coordinates(self,shape='square'):\n",
        "    L = self.L\n",
        "    template_array = np.zeros(self.grid_shape)\n",
        "    if shape=='square':\n",
        "      template_array[2*L-1:3*L-1,2*L-1:3*L-1] = 1\n",
        "    #elif shape=='wrench':\n",
        "      \n",
        "    return get_coordinates(template_array)\n",
        "  \n",
        "  def init_agent_coordinates(self):\n",
        "    L = self.L\n",
        "    agents_array = np.zeros(self.grid_shape)\n",
        "    agents_array[L:2*L,L:2*L] = 1\n",
        "    return get_coordinates(agents_array)\n",
        "  \n",
        "  def init_activity(self):\n",
        "    ans = [True for _ in self.agent_coordinates]\n",
        "    ans[-1] = False\n",
        "    return ans\n",
        "  \n",
        "  def init_direction(self):\n",
        "    return [(1,0) for _ in self.agent_coordinates]\n",
        "  \n",
        "  def init_is_source(self):\n",
        "    ans = []\n",
        "    prod = [i*j for (i,j) in self.agent_coordinates]\n",
        "    maxprod = max(prod)\n",
        "    return [bool(p == maxprod) for p in prod]\n",
        "    \n",
        "  def get_logstr_params(self,i):\n",
        "    p0, dir0, activity0 = self.agent_coordinates[i], self.direction[i], self.activity[i]\n",
        "    neighbors0 = ' '.join([str(self.agent_coordinates[j]) for j in self.neighbors[i]])\n",
        "    edgefollows0 = ' '.join([str(e) for e in self.edgefollows(i)])\n",
        "    return (p0,dir0,activity0,neighbors0,edgefollows0)\n",
        "  \n",
        "  def move(self,i):\n",
        "    orig_coordinates = self.agent_coordinates[i]\n",
        "    \n",
        "    self.update_neighbors()\n",
        "    self.update_gradient()\n",
        "    self.gradient_log.append(self.gradient)\n",
        "    self.update_all_activities_according_to_gradient()\n",
        "    \n",
        "    self.update_direction_coordinates_activity(i)\n",
        "    self.coordinates_log.append(list(self.agent_coordinates))\n",
        "    \n",
        "    if self.agent_coordinates[i] == orig_coordinates:\n",
        "      return False\n",
        "    else:\n",
        "      return True\n",
        "      \n",
        "  ################\n",
        "  ### DYNAMICS ###\n",
        "  ################\n",
        "  \n",
        "  def __init__(self,L=5,scale=5):\n",
        "    self.L = L\n",
        "    self.scale = scale\n",
        "    self.grid_shape = (scale*L, scale*L)\n",
        "    self.template_coordinates = self.init_template_coordinates()\n",
        "    self.agent_coordinates = self.init_agent_coordinates()\n",
        "    self.coordinates_log = []\n",
        "    self.coordinates_log.append(list(self.agent_coordinates))\n",
        "    self.activity = self.init_activity()    \n",
        "    self.direction = self.init_direction()\n",
        "    self.is_source = self.init_is_source()\n",
        "    \n",
        "    self.gradient = []\n",
        "    self.update_neighbors()\n",
        "    self.update_gradient() \n",
        "    self.gradient_log = []\n",
        "    self.gradient_log.append(self.gradient)\n",
        "    \n",
        "    self.logstr = []\n",
        "    self.logarray = [self.make_grid()]\n",
        "   \n",
        "  def timestep(self,log=True,batchnum=0,subset=None):\n",
        "    \n",
        "    if subset == None:\n",
        "      subset = range(len(self.agent_coordinates))\n",
        "    subset = [i for i in subset if self.activity[i]==True]\n",
        "    random.shuffle(subset)\n",
        "    for i in subset:\n",
        "      if len(self.edgefollows(i))>0:\n",
        "        if log:\n",
        "          logstr_params0 = self.get_logstr_params(i)\n",
        "          self.update_logarray(highlight_agents_by_index=[i])\n",
        "          self.move(i)\n",
        "          logstr_params1 = self.get_logstr_params(i)\n",
        "          self.update_logstr(i,logstr_params0,logstr_params1)\n",
        "          self.update_logarray(highlight_agents_by_index=[i])\n",
        "        else:\n",
        "          self.move(i)\n",
        "            \n",
        "  def run(self,max_iter=1000,log_every=1,output=False,num_groups=1,num_timesteps_per_group=1):\n",
        "    group_nums = ['' for _ in self.agent_coordinates]\n",
        "    counter = 0\n",
        "    while '' in group_nums:\n",
        "      idx = [i for i,n in enumerate(group_nums) if n=='']\n",
        "      group_nums[random.choice(idx)] = (counter%num_groups)\n",
        "      counter += 1\n",
        "    \n",
        "    counter = 0\n",
        "    tenth = int(float(max_iter)/10)\n",
        "    tenths = 0\n",
        "    if output:\n",
        "      print 'running...'\n",
        "    while counter < max_iter:\n",
        "      log = False\n",
        "      if counter % log_every == 0:\n",
        "        log=True\n",
        "      if counter % tenth == 0:\n",
        "        if output:\n",
        "          print('       ...'+str(tenths*10)+'%')\n",
        "        tenths += 1\n",
        "      a.timestep(log=log,subset=[i for i,g in enumerate(group_nums) if g==((counter/num_timesteps_per_group)%num_groups)])\n",
        "      counter += 1\n",
        "      if set(a.agent_coordinates) == set(a.template_coordinates) and all([not x for x in self.activity]):\n",
        "        self.update_logarray()\n",
        "        if output:\n",
        "          print 'SUCCESS'\n",
        "        return True\n",
        "        break\n",
        "      if counter == max_iter:\n",
        "        if output:\n",
        "          print 'reached max iterations'\n",
        "        return False"
      ],
      "execution_count": 0,
      "outputs": []
    },
    {
      "metadata": {
        "id": "vt8tIBVSvPjr",
        "colab_type": "code",
        "colab": {
          "base_uri": "https://localhost:8080/",
          "height": 85
        },
        "outputId": "81bd104a-dc9a-4d4d-f299-db08575521a8"
      },
      "cell_type": "code",
      "source": [
        "a = Agents(L=5)\n",
        "a.run(max_iter=1000,output=True,num_groups=1,num_timesteps_per_group=1)"
      ],
      "execution_count": 368,
      "outputs": [
        {
          "output_type": "stream",
          "text": [
            "running...\n",
            "       ...0%\n",
            "SUCCESS\n"
          ],
          "name": "stdout"
        },
        {
          "output_type": "execute_result",
          "data": {
            "text/plain": [
              "True"
            ]
          },
          "metadata": {
            "tags": []
          },
          "execution_count": 368
        }
      ]
    },
    {
      "metadata": {
        "id": "l1Za52abwQAP",
        "colab_type": "code",
        "colab": {
          "base_uri": "https://localhost:8080/",
          "height": 398
        },
        "outputId": "7cf5ff98-1a73-46c4-daa0-2bc4bcd6307d"
      },
      "cell_type": "code",
      "source": [
        "a.plot(-1)"
      ],
      "execution_count": 369,
      "outputs": [
        {
          "output_type": "stream",
          "text": [
            "Agent 1: [(13, 13),🡕,on]-->[(13, 13),🡕,off]\n",
            "Neighbors: (13, 11) (13, 12)\n",
            "Edgefollows: (12, 14) (13, 14) (14, 14) (14, 13) (14, 12)\n"
          ],
          "name": "stdout"
        },
        {
          "output_type": "display_data",
          "data": {
            "image/png": "[encoded data removed]",
            "text/plain": [
              "<matplotlib.figure.Figure at 0x7fad4d688410>"
            ]
          },
          "metadata": {
            "tags": []
          }
        }
      ]
    },
    {
      "metadata": {
        "id": "DqWSm4APeQLs",
        "colab_type": "code",
        "colab": {
          "base_uri": "https://localhost:8080/",
          "height": 374
        },
        "outputId": "a2e84a13-c8ea-41c8-e788-43e911e9afcf"
      },
      "cell_type": "code",
      "source": [
        "# max_iter=1000, L=5, num_groups=1, num_timesteps_per_group=1 | 78%, 74%, 80%\n",
        "# max_iter=1000, L=5, num_groups=5, num_timesteps_per_group=20 | 76.5%, 74%\n",
        "\n",
        "outcome = True\n",
        "num_failures = 0\n",
        "num_trials = 0\n",
        "while num_failures < 20:\n",
        "  a = Agents(L=5)\n",
        "  outcome = a.run(max_iter=1000,output=False,num_groups=5,num_timesteps_per_group=20)\n",
        "  num_trials += 1\n",
        "  num_failures += bool(not outcome)\n",
        "  if not outcome:\n",
        "    print 'failures:',num_failures\n",
        "  #if outcome:\n",
        "  #  print 'successes:',num_trials-num_failures\n",
        "  #print num_trials\n",
        "print 'success rate:',1-float(20)/num_trials"
      ],
      "execution_count": 370,
      "outputs": [
        {
          "output_type": "stream",
          "text": [
            "failures: 1\n",
            "failures: 2\n",
            "failures: 3\n",
            "failures: 4\n",
            "failures: 5\n",
            "failures: 6\n",
            "failures: 7\n",
            "failures: 8\n",
            "failures: 9\n",
            "failures: 10\n",
            "failures: 11\n",
            "failures: 12\n",
            "failures: 13\n",
            "failures: 14\n",
            "failures: 15\n",
            "failures: 16\n",
            "failures: 17\n",
            "failures: 18\n",
            "failures: 19\n",
            "failures: 20\n",
            "success rate: 0.775280898876\n"
          ],
          "name": "stdout"
        }
      ]
    },
    {
      "metadata": {
        "id": "W7fOZWQM_Swe",
        "colab_type": "code",
        "colab": {
          "base_uri": "https://localhost:8080/",
          "height": 398
        },
        "outputId": "594bf05f-6b32-4f6e-e1ff-839d29f8f679"
      },
      "cell_type": "code",
      "source": [
        "a.plot(-1)"
      ],
      "execution_count": 336,
      "outputs": [
        {
          "output_type": "stream",
          "text": [
            "Agent 20: [(14, 11),🡐,on]-->[(14, 10),🡐,on]\n",
            "Neighbors: (13, 13) (13, 12) (13, 11)\n",
            "Edgefollows: (14, 12) (14, 10)\n"
          ],
          "name": "stdout"
        },
        {
          "output_type": "display_data",
          "data": {
            "image/png": "[encoded data removed]",
            "text/plain": [
              "<matplotlib.figure.Figure at 0x7fad4d9dced0>"
            ]
          },
          "metadata": {
            "tags": []
          }
        }
      ]
    },
    {
      "metadata": {
        "id": "G_ipIwHX764R",
        "colab_type": "code",
        "colab": {
          "base_uri": "https://localhost:8080/",
          "height": 15339
        },
        "outputId": "1ba97763-4277-435d-c05b-a59bd165e167"
      },
      "cell_type": "code",
      "source": [
        "for t in range(1,2000,100):\n",
        "  print '______________________________'\n",
        "  print 't='+str(t)\n",
        "  try:\n",
        "    a.plot(t)\n",
        "  except:\n",
        "    break\n",
        "a.plot(-1)"
      ],
      "execution_count": 313,
      "outputs": [
        {
          "output_type": "stream",
          "text": [
            "______________________________\n",
            "t=1\n",
            "Agent 4: [(10, 14),🡓,on]-->[(9, 14),🡑,on]\n",
            "Neighbors: (10, 13) (10, 15) (11, 13) (11, 14) (11, 15)\n",
            "Edgefollows: (9, 14) (9, 15) (9, 13)\n"
          ],
          "name": "stdout"
        },
        {
          "output_type": "display_data",
          "data": {
            "image/png": "[encoded data removed]",
            "text/plain": [
              "<matplotlib.figure.Figure at 0x7fad4bcdfc10>"
            ]
          },
          "metadata": {
            "tags": []
          }
        },
        {
          "output_type": "display_data",
          "data": {
            "image/png": "[encoded data removed]",
            "text/plain": [
              "<matplotlib.figure.Figure at 0x7fad4cfbf6d0>"
            ]
          },
          "metadata": {
            "tags": []
          }
        },
        {
          "output_type": "stream",
          "text": [
            "______________________________\n",
            "t=101\n",
            "Agent 38: [(14, 18),🡓,on]-->[(14, 19),🡒,on]\n",
            "Neighbors: (13, 19) (15, 18) (14, 17) (15, 19)\n",
            "Edgefollows: (13, 18) (14, 19)\n"
          ],
          "name": "stdout"
        },
        {
          "output_type": "display_data",
          "data": {
            "image/png": "[encoded data removed]",
            "text/plain": [
              "<matplotlib.figure.Figure at 0x7fad4d9fd5d0>"
            ]
          },
          "metadata": {
            "tags": []
          }
        },
        {
          "output_type": "display_data",
          "data": {
            "image/png": "[encoded data removed]",
            "text/plain": [
              "<matplotlib.figure.Figure at 0x7fad4db629d0>"
            ]
          },
          "metadata": {
            "tags": []
          }
        },
        {
          "output_type": "stream",
          "text": [
            "______________________________\n",
            "t=201\n",
            "Agent 96: [(20, 16),🡓,on]-->[(20, 15),🡐,on]\n",
            "Neighbors: (19, 16) (19, 15) (21, 15) (19, 17)\n",
            "Edgefollows: (20, 15)\n"
          ],
          "name": "stdout"
        },
        {
          "output_type": "display_data",
          "data": {
            "image/png": "[encoded data removed]",
            "text/plain": [
              "<matplotlib.figure.Figure at 0x7fad4db0da90>"
            ]
          },
          "metadata": {
            "tags": []
          }
        },
        {
          "output_type": "display_data",
          "data": {
            "image/png": "[encoded data removed]",
            "text/plain": [
              "<matplotlib.figure.Figure at 0x7fad4fc2eed0>"
            ]
          },
          "metadata": {
            "tags": []
          }
        },
        {
          "output_type": "stream",
          "text": [
            "______________________________\n",
            "t=301\n",
            "Agent 69: [(19, 22),🡖,on]-->[(20, 22),🡓,on]\n",
            "Neighbors: (18, 21) (19, 21) (20, 21)\n",
            "Edgefollows: (18, 22) (20, 22)\n"
          ],
          "name": "stdout"
        },
        {
          "output_type": "display_data",
          "data": {
            "image/png": "[encoded data removed]",
            "text/plain": [
              "<matplotlib.figure.Figure at 0x7fad4d8bba50>"
            ]
          },
          "metadata": {
            "tags": []
          }
        },
        {
          "output_type": "display_data",
          "data": {
            "image/png": "[encoded data removed]",
            "text/plain": [
              "<matplotlib.figure.Figure at 0x7fad4d67b8d0>"
            ]
          },
          "metadata": {
            "tags": []
          }
        },
        {
          "output_type": "stream",
          "text": [
            "______________________________\n",
            "t=401\n",
            "Agent 73: [(17, 14),🡑,on]-->[(17, 15),🡒,on]\n",
            "Neighbors: (16, 14) (16, 15) (16, 13) (18, 13) (18, 14) (17, 13)\n",
            "Edgefollows: (17, 15) (18, 15)\n"
          ],
          "name": "stdout"
        },
        {
          "output_type": "display_data",
          "data": {
            "image/png": "[encoded data removed]",
            "text/plain": [
              "<matplotlib.figure.Figure at 0x7fad4db57210>"
            ]
          },
          "metadata": {
            "tags": []
          }
        },
        {
          "output_type": "display_data",
          "data": {
            "image/png": "[encoded data removed]",
            "text/plain": [
              "<matplotlib.figure.Figure at 0x7fad4d8d5510>"
            ]
          },
          "metadata": {
            "tags": []
          }
        },
        {
          "output_type": "stream",
          "text": [
            "______________________________\n",
            "t=501\n",
            "Agent 16: [(10, 18),🡓,on]-->[(11, 18),🡓,on]\n",
            "Neighbors: (11, 19)\n",
            "Edgefollows: (10, 19) (11, 18)\n"
          ],
          "name": "stdout"
        },
        {
          "output_type": "display_data",
          "data": {
            "image/png": "[encoded data removed]",
            "text/plain": [
              "<matplotlib.figure.Figure at 0x7fad4ca18c50>"
            ]
          },
          "metadata": {
            "tags": []
          }
        },
        {
          "output_type": "display_data",
          "data": {
            "image/png": "[encoded data removed]",
            "text/plain": [
              "<matplotlib.figure.Figure at 0x7fad4c98afd0>"
            ]
          },
          "metadata": {
            "tags": []
          }
        },
        {
          "output_type": "stream",
          "text": [
            "______________________________\n",
            "t=601\n",
            "Agent 59: [(22, 23),🡓,on]-->[(21, 23),🡑,on]\n",
            "Neighbors: (21, 24) (21, 22)\n",
            "Edgefollows: (21, 23)\n"
          ],
          "name": "stdout"
        },
        {
          "output_type": "display_data",
          "data": {
            "image/png": "[encoded data removed]",
            "text/plain": [
              "<matplotlib.figure.Figure at 0x7fad4c93b3d0>"
            ]
          },
          "metadata": {
            "tags": []
          }
        },
        {
          "output_type": "display_data",
          "data": {
            "image/png": "[encoded data removed]",
            "text/plain": [
              "<matplotlib.figure.Figure at 0x7fad4da1c710>"
            ]
          },
          "metadata": {
            "tags": []
          }
        },
        {
          "output_type": "stream",
          "text": [
            "______________________________\n",
            "t=701\n",
            "Agent 83: [(13, 9),🡔,on]-->[(12, 9),🡑,on]\n",
            "Neighbors: (12, 8) (13, 10)\n",
            "Edgefollows: (12, 9)\n"
          ],
          "name": "stdout"
        },
        {
          "output_type": "display_data",
          "data": {
            "image/png": "[encoded data removed]",
            "text/plain": [
              "<matplotlib.figure.Figure at 0x7fad4c84ae10>"
            ]
          },
          "metadata": {
            "tags": []
          }
        },
        {
          "output_type": "display_data",
          "data": {
            "image/png": "[encoded data removed]",
            "text/plain": [
              "<matplotlib.figure.Figure at 0x7fad4c9b6490>"
            ]
          },
          "metadata": {
            "tags": []
          }
        },
        {
          "output_type": "stream",
          "text": [
            "______________________________\n",
            "t=801\n",
            "Agent 26: [(14, 20),🡐,on]-->[(14, 19),🡐,on]\n",
            "Neighbors: (13, 19) (14, 21) (15, 19) (15, 20) (13, 20)\n",
            "Edgefollows: (13, 21) (15, 21) (14, 19)\n"
          ],
          "name": "stdout"
        },
        {
          "output_type": "display_data",
          "data": {
            "image/png": "[encoded data removed]",
            "text/plain": [
              "<matplotlib.figure.Figure at 0x7fad4c720190>"
            ]
          },
          "metadata": {
            "tags": []
          }
        },
        {
          "output_type": "display_data",
          "data": {
            "image/png": "[encoded data removed]",
            "text/plain": [
              "<matplotlib.figure.Figure at 0x7fad4c70ff10>"
            ]
          },
          "metadata": {
            "tags": []
          }
        },
        {
          "output_type": "stream",
          "text": [
            "______________________________\n",
            "t=901\n",
            "Agent 95: [(17, 11),🡑,on]-->[(16, 11),🡑,on]\n",
            "Neighbors: (16, 10) (17, 10) (16, 12) (18, 11) (18, 12)\n",
            "Edgefollows: (16, 11) (17, 12)\n"
          ],
          "name": "stdout"
        },
        {
          "output_type": "display_data",
          "data": {
            "image/png": "[encoded data removed]",
            "text/plain": [
              "<matplotlib.figure.Figure at 0x7fad4c673410>"
            ]
          },
          "metadata": {
            "tags": []
          }
        },
        {
          "output_type": "display_data",
          "data": {
            "image/png": "[encoded data removed]",
            "text/plain": [
              "<matplotlib.figure.Figure at 0x7fad4c68ac50>"
            ]
          },
          "metadata": {
            "tags": []
          }
        },
        {
          "output_type": "stream",
          "text": [
            "______________________________\n",
            "t=1001\n",
            "Agent 13: [(16, 19),🡖,on]-->[(17, 19),🡓,on]\n",
            "Neighbors: (15, 20) (17, 20) (16, 20)\n",
            "Edgefollows: (15, 19) (17, 19)\n"
          ],
          "name": "stdout"
        },
        {
          "output_type": "display_data",
          "data": {
            "image/png": "[encoded data removed]",
            "text/plain": [
              "<matplotlib.figure.Figure at 0x7fad4c7c55d0>"
            ]
          },
          "metadata": {
            "tags": []
          }
        },
        {
          "output_type": "display_data",
          "data": {
            "image/png": "[encoded data removed]",
            "text/plain": [
              "<matplotlib.figure.Figure at 0x7fad4d361890>"
            ]
          },
          "metadata": {
            "tags": []
          }
        },
        {
          "output_type": "stream",
          "text": [
            "______________________________\n",
            "t=1101\n",
            "Agent 16: [(13, 18),🡓,on]-->[(13, 17),🡐,on]\n",
            "Neighbors: (14, 17) (12, 19) (14, 18) (12, 18) (12, 17)\n",
            "Edgefollows: (13, 19) (13, 17)\n"
          ],
          "name": "stdout"
        },
        {
          "output_type": "display_data",
          "data": {
            "image/png": "[encoded data removed]",
            "text/plain": [
              "<matplotlib.figure.Figure at 0x7fad4d7e98d0>"
            ]
          },
          "metadata": {
            "tags": []
          }
        },
        {
          "output_type": "display_data",
          "data": {
            "image/png": "[encoded data removed]",
            "text/plain": [
              "<matplotlib.figure.Figure at 0x7fad4d8ad690>"
            ]
          },
          "metadata": {
            "tags": []
          }
        },
        {
          "output_type": "stream",
          "text": [
            "______________________________\n",
            "t=1201\n",
            "Agent 83: [(12, 10),🡖,on]-->[(12, 11),🡒,on]\n",
            "Neighbors: (13, 9) (13, 11) (11, 10) (13, 10)\n",
            "Edgefollows: (12, 11) (12, 9)\n"
          ],
          "name": "stdout"
        },
        {
          "output_type": "display_data",
          "data": {
            "image/png": "[encoded data removed]",
            "text/plain": [
              "<matplotlib.figure.Figure at 0x7fad4bbd07d0>"
            ]
          },
          "metadata": {
            "tags": []
          }
        },
        {
          "output_type": "display_data",
          "data": {
            "image/png": "[encoded data removed]",
            "text/plain": [
              "<matplotlib.figure.Figure at 0x7fad4d606910>"
            ]
          },
          "metadata": {
            "tags": []
          }
        },
        {
          "output_type": "stream",
          "text": [
            "______________________________\n",
            "t=1301\n",
            "Agent 46: [(12, 18),🡒,on]-->[(12, 17),🡐,on]\n",
            "Neighbors: (13, 18) (11, 17)\n",
            "Edgefollows: (12, 17)\n"
          ],
          "name": "stdout"
        },
        {
          "output_type": "display_data",
          "data": {
            "image/png": "[encoded data removed]",
            "text/plain": [
              "<matplotlib.figure.Figure at 0x7fad4d770050>"
            ]
          },
          "metadata": {
            "tags": []
          }
        },
        {
          "output_type": "display_data",
          "data": {
            "image/png": "[encoded data removed]",
            "text/plain": [
              "<matplotlib.figure.Figure at 0x7fad4d909b10>"
            ]
          },
          "metadata": {
            "tags": []
          }
        },
        {
          "output_type": "stream",
          "text": [
            "______________________________\n",
            "t=1401\n",
            "Agent 84: [(20, 13),🡗,on]-->[(20, 14),🡒,on]\n",
            "Neighbors: (19, 14)\n",
            "Edgefollows: (19, 13) (20, 14)\n"
          ],
          "name": "stdout"
        },
        {
          "output_type": "display_data",
          "data": {
            "image/png": "[encoded data removed]",
            "text/plain": [
              "<matplotlib.figure.Figure at 0x7fad4d702c10>"
            ]
          },
          "metadata": {
            "tags": []
          }
        },
        {
          "output_type": "display_data",
          "data": {
            "image/png": "[encoded data removed]",
            "text/plain": [
              "<matplotlib.figure.Figure at 0x7fad4d4c94d0>"
            ]
          },
          "metadata": {
            "tags": []
          }
        },
        {
          "output_type": "stream",
          "text": [
            "______________________________\n",
            "t=1501\n",
            "Agent 24: [(10, 16),🡒,on]-->[(10, 17),🡒,on]\n",
            "Neighbors: (11, 16) (9, 16) (9, 17) (10, 15)\n",
            "Edgefollows: (10, 17) (11, 17) (11, 15) (9, 15)\n"
          ],
          "name": "stdout"
        },
        {
          "output_type": "display_data",
          "data": {
            "image/png": "[encoded data removed]",
            "text/plain": [
              "<matplotlib.figure.Figure at 0x7fad4d80d090>"
            ]
          },
          "metadata": {
            "tags": []
          }
        },
        {
          "output_type": "display_data",
          "data": {
            "image/png": "[encoded data removed]",
            "text/plain": [
              "<matplotlib.figure.Figure at 0x7fad4ca34fd0>"
            ]
          },
          "metadata": {
            "tags": []
          }
        },
        {
          "output_type": "stream",
          "text": [
            "______________________________\n",
            "t=1601\n",
            "Agent 25: [(8, 12),🡐,on]-->[(9, 11),🡗,on]\n",
            "Neighbors: (9, 12) (8, 11)\n",
            "Edgefollows: (7, 12) (8, 13) (9, 13) (9, 11) (7, 11)\n"
          ],
          "name": "stdout"
        },
        {
          "output_type": "display_data",
          "data": {
            "image/png": "[encoded data removed]",
            "text/plain": [
              "<matplotlib.figure.Figure at 0x7fad4ca20390>"
            ]
          },
          "metadata": {
            "tags": []
          }
        },
        {
          "output_type": "display_data",
          "data": {
            "image/png": "[encoded data removed]",
            "text/plain": [
              "<matplotlib.figure.Figure at 0x7fad4cccc2d0>"
            ]
          },
          "metadata": {
            "tags": []
          }
        },
        {
          "output_type": "stream",
          "text": [
            "______________________________\n",
            "t=1701\n",
            "Agent 92: [(26, 19),🡒,on]-->[(25, 20),🡕,on]\n",
            "Neighbors: (26, 18) (25, 19) (25, 18)\n",
            "Edgefollows: (25, 20) (26, 20) (27, 19) (27, 18)\n"
          ],
          "name": "stdout"
        },
        {
          "output_type": "display_data",
          "data": {
            "image/png": "[encoded data removed]",
            "text/plain": [
              "<matplotlib.figure.Figure at 0x7fad4cc3ae90>"
            ]
          },
          "metadata": {
            "tags": []
          }
        },
        {
          "output_type": "display_data",
          "data": {
            "image/png": "[encoded data removed]",
            "text/plain": [
              "<matplotlib.figure.Figure at 0x7fad4d68fdd0>"
            ]
          },
          "metadata": {
            "tags": []
          }
        },
        {
          "output_type": "stream",
          "text": [
            "______________________________\n",
            "t=1801\n",
            "Agent 14: [(17, 17),🡖,on]-->[(17, 16),🡐,on]\n",
            "Neighbors: (18, 18) (17, 15) (17, 18) (18, 17) (16, 16) (18, 16)\n",
            "Edgefollows: (16, 17) (17, 16)\n"
          ],
          "name": "stdout"
        },
        {
          "output_type": "display_data",
          "data": {
            "image/png": "[encoded data removed]",
            "text/plain": [
              "<matplotlib.figure.Figure at 0x7fad4cc0f190>"
            ]
          },
          "metadata": {
            "tags": []
          }
        },
        {
          "output_type": "display_data",
          "data": {
            "image/png": "[encoded data removed]",
            "text/plain": [
              "<matplotlib.figure.Figure at 0x7fad4cbd5f10>"
            ]
          },
          "metadata": {
            "tags": []
          }
        },
        {
          "output_type": "stream",
          "text": [
            "______________________________\n",
            "t=1901\n",
            "Agent 55: [(18, 23),🡒,on]-->[(18, 22),🡐,on]\n",
            "Neighbors: (17, 24) (19, 23) (17, 23) (19, 22)\n",
            "Edgefollows: (18, 24) (18, 22)\n"
          ],
          "name": "stdout"
        },
        {
          "output_type": "display_data",
          "data": {
            "image/png": "[encoded data removed]",
            "text/plain": [
              "<matplotlib.figure.Figure at 0x7fad4c5e1410>"
            ]
          },
          "metadata": {
            "tags": []
          }
        },
        {
          "output_type": "display_data",
          "data": {
            "image/png": "[encoded data removed]",
            "text/plain": [
              "<matplotlib.figure.Figure at 0x7fad4c5f9c50>"
            ]
          },
          "metadata": {
            "tags": []
          }
        },
        {
          "output_type": "stream",
          "text": [
            "Agent 61: [(18, 22),🡐,on]-->[(18, 21),🡐,on]\n",
            "Neighbors: (17, 22) (19, 23) (19, 21) (19, 22)\n",
            "Edgefollows: (18, 23) (18, 21)\n"
          ],
          "name": "stdout"
        },
        {
          "output_type": "display_data",
          "data": {
            "image/png": "[encoded data removed]",
            "text/plain": [
              "<matplotlib.figure.Figure at 0x7fad4cc3ac50>"
            ]
          },
          "metadata": {
            "tags": []
          }
        }
      ]
    },
    {
      "metadata": {
        "id": "9iQ4Rg3sGZ-6",
        "colab_type": "code",
        "colab": {}
      },
      "cell_type": "code",
      "source": [
        ""
      ],
      "execution_count": 0,
      "outputs": []
    }
  ]
}