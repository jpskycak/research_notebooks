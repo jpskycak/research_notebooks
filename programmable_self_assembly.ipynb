{
  "nbformat": 4,
  "nbformat_minor": 0,
  "metadata": {
    "colab": {
      "name": "programmable_self_assembly.ipynb",
      "version": "0.3.2",
      "provenance": [],
      "collapsed_sections": [],
      "include_colab_link": true
    },
    "kernelspec": {
      "name": "python2",
      "display_name": "Python 2"
    }
  },
  "cells": [
    {
      "cell_type": "markdown",
      "metadata": {
        "id": "view-in-github",
        "colab_type": "text"
      },
      "source": [
        "[View in Colaboratory](https://colab.research.google.com/github/jpskycak/research_notebooks/blob/master/programmable_self_assembly.ipynb)"
      ]
    },
    {
      "metadata": {
        "id": "lULJBcZs-qHm",
        "colab_type": "code",
        "colab": {}
      },
      "cell_type": "code",
      "source": [
        "import numpy as np\n",
        "import matplotlib.pyplot as plt\n",
        "import itertools\n",
        "import random\n",
        "  \n",
        "def linf_distance((a,b),(x,y)):\n",
        "  return max(abs(a-x),abs(b-y))\n",
        "def l1_distance((a,b),(x,y)):\n",
        "  return abs(a-x)+abs(b-y)\n",
        "def displacement(initial,terminal):\n",
        "  return (terminal[0]-initial[0], terminal[1]-initial[1])\n",
        "def get_coordinates(array):\n",
        "  return [(i,j) for i,row in enumerate(array) for j,val in enumerate(row) if val==1]\n",
        "def arrow(direction):\n",
        "  # arrows: http://xahlee.info/comp/unicode_arrows.html\n",
        "  arrowdict = {'(-1, 0)':'🡑',\n",
        "              '(-1, 1)':'🡕',\n",
        "              '(0, 1)':'🡒',\n",
        "              '(1, 1)':'🡖',\n",
        "              '(1, 0)':'🡓',\n",
        "              '(1, -1)':'🡗',\n",
        "              '(0, -1)':'🡐',\n",
        "              '(-1, -1)':'🡔'}\n",
        "  return arrowdict[str(direction)]\n",
        "  \n",
        "class Agents:\n",
        "  \n",
        "  ##########################\n",
        "  ### PLOTTING / LOGGING ###\n",
        "  ##########################\n",
        "  \n",
        "  def make_grid(self,highlight_agents_by_index=[],gradient=False):\n",
        "    grid = np.ones((self.grid_shape[0],self.grid_shape[1],3))\n",
        "    for p in self.template_coordinates:\n",
        "      grid[p][0] = 1\n",
        "      grid[p][1] = 1\n",
        "      grid[p][2] = 125\n",
        "      \n",
        "    if gradient:\n",
        "      max_gradient = max(self.gradient)\n",
        "      for i,p in enumerate(self.agent_coordinates):\n",
        "        val = 100+ 100*float(self.gradient[i])/max_gradient\n",
        "        grid[p][0] = val\n",
        "        grid[p][1] = val\n",
        "        grid[p][2] = val\n",
        "        if self.activity[i] == False:\n",
        "          grid[p][2] = 1\n",
        "        if i in highlight_agents_by_index:\n",
        "          grid[p][1] = 1\n",
        "    else:\n",
        "      for i,p in enumerate(self.agent_coordinates):\n",
        "        grid[p][0] = 200\n",
        "        grid[p][1] = 200\n",
        "        grid[p][2] = 200\n",
        "        if self.activity[i] == False:\n",
        "          grid[p][2] = 1\n",
        "        if i in highlight_agents_by_index:\n",
        "          grid[p][1] = 1\n",
        "        \n",
        "    return grid\n",
        "  \n",
        "  def update_logarray(self,highlight_agents_by_index=[]):\n",
        "    grid = self.make_grid(highlight_agents_by_index=highlight_agents_by_index)\n",
        "    self.logarray.append(grid)\n",
        "    \n",
        "  def plot(self,t=0,logarrayskip=1,debug=False):\n",
        "    print self.logstr[t]\n",
        "    grids = [self.logarray[logarrayskip+2*t],self.logarray[logarrayskip+2*t+1]]\n",
        "    for grid in grids:\n",
        "      plt.imshow(grid)\n",
        "      plt.grid(False)\n",
        "      plt.show()\n",
        "    if debug:\n",
        "      gradarray = np.zeros(self.grid_shape)\n",
        "      for ((x,y),g) in zip(a.coordinates_log[t],a.gradient_log[2*t+1]):\n",
        "        gradarray[x,y] = float(5+g)/10\n",
        "      plt.imshow(gradarray)\n",
        "      plt.grid(False)\n",
        "      plt.show() \n",
        "      diffarray = np.zeros(self.grid_shape)\n",
        "      for x in range(self.grid_shape[0]):\n",
        "        for y in range(self.grid_shape[1]):\n",
        "          if grids[1][x,y][0] != grids[0][x,y][0] or grids[1][x,y][1] != grids[0][x,y][1] or grids[1][x,y][2] != grids[0][x,y][2]:\n",
        "            diffarray[x,y] = 1\n",
        "      plt.imshow(diffarray)\n",
        "      plt.grid(False)\n",
        "      plt.show()\n",
        "  \n",
        "  #########################\n",
        "  ### UPDATES UTILITIES ###\n",
        "  #########################\n",
        "  \n",
        "  def prospective_location(self,i):\n",
        "    (x0,y0) = self.agent_coordinates[i]\n",
        "    (dx,dy) = self.direction[i]\n",
        "    (x,y) = (x0+dx,y0+dy)\n",
        "    return (x,y)\n",
        "  \n",
        "  def linf_distance_to_template(self,p):\n",
        "    return min([linf_distance(p,t) for t in self.template_coordinates])\n",
        "  \n",
        "  def angle(self,i,p):\n",
        "    p_direction = displacement(self.agent_coordinates[i],p)\n",
        "    return l1_distance(self.direction[i],p_direction)\n",
        "  \n",
        "  def choose(self,i,plist):\n",
        "    if len(plist) == 1:\n",
        "      return plist[0]\n",
        "    elif len(plist) >= 2:\n",
        "      angles = [self.angle(i,p) for p in plist]\n",
        "      leastangle = min(angles)\n",
        "      plist = [plist[j] for j,a in enumerate(angles) if a==leastangle]\n",
        "      if len(plist) == 1:\n",
        "        return plist[0]\n",
        "      else:\n",
        "        distances = [self.linf_distance_to_template(p) for p in plist]\n",
        "        leastdist = min(distances)\n",
        "        plist = [plist[j] for j,d in enumerate(distances) if d==leastdist]\n",
        "        if len(plist) == 1:\n",
        "          return plist[0]\n",
        "        elif len(plist) >= 2:\n",
        "          return random.choice(plist)\n",
        "  \n",
        "  def surroundings(self,i):\n",
        "    (x0,y0) = self.agent_coordinates[i]\n",
        "    coordinates = [(x0-1,y0),(x0-1,y0+1),(x0,y0+1),(x0+1,y0+1),(x0+1,y0),(x0+1,y0-1),(x0,y0-1),(x0-1,y0-1)]\n",
        "    ans = [{'coordinates': (x,y),\n",
        "            'is_unoccupied': (x,y) not in self.agent_coordinates,\n",
        "            'is_in_template': (x,y) in self.template_coordinates,\n",
        "            'is_in_grid': x in range(self.grid_shape[0]) and y in range(self.grid_shape[1])} for (x,y) in coordinates]\n",
        "    return ans\n",
        "  \n",
        "  def edgefollows(self,i):\n",
        "    surr = self.surroundings(i)\n",
        "    p0 = self.agent_coordinates[i]\n",
        "    occupied = [s['coordinates'] for s in surr if not s['is_unoccupied']]\n",
        "    unoccupied = [s['coordinates'] for s in surr if s['is_unoccupied']]\n",
        "    \n",
        "    def is_connected(pointlist):\n",
        "      mindist = []\n",
        "      for p in pointlist:\n",
        "        mindist.append(min([linf_distance(p,q) for q in pointlist if p!=q]))\n",
        "      return not any([d>1 for d in mindist])\n",
        "    \n",
        "    ans = []\n",
        "    for p in unoccupied:\n",
        "      prospective = occupied+[p]\n",
        "      prospective = [x for x in prospective if x!=p0]\n",
        "      if is_connected(prospective):\n",
        "        ans.append(p)\n",
        "        \n",
        "    return ans\n",
        "    \n",
        "    '''\n",
        "    for k in range(8):\n",
        "      o0, o1, o2, o3, o4, o5, o6, o7 = o[(k+0)%8], o[(k+1)%8], o[(k+2)%8], o[(k+3)%8], o[(k+4)%8], o[(k+5)%8], o[(k+6)%8], o[(k+7)%8]\n",
        "      x0, x1, x2, x3, x4, x5, x6, x7 = not o0, not o1, not o2, not o3, not o4, not o5, not o6, not o7\n",
        "      if o0 and o1 and o2 and o3:\n",
        "        if x4 and x5 and x6 and x7:\n",
        "          #  x  x  x\n",
        "          #  x     o*\n",
        "          #  o* o  o\n",
        "          ans = [surr[(k+0)%8]['coordinates'],surr[(k+3)%8]['coordinates']]\n",
        "          break\n",
        "        elif x4 and x5 and o6 and x7:\n",
        "          #  x  o* x\n",
        "          #  x     o*\n",
        "          #  o* o  o\n",
        "          ans = [surr[(k+0)%8]['coordinates'],surr[(k+3)%8]['coordinates'],surr[(k+6)%8]['coordinates']]\n",
        "          break\n",
        "        elif x4 and x5 and o6 and x7:\n",
        "          #  x  o* x\n",
        "          #  x     o*\n",
        "          #  o* o  o\n",
        "          ans = [surr[(k+0)%8]['coordinates'],surr[(k+3)%8]['coordinates'],surr[(k+6)%8]['coordinates']]\n",
        "          break\n",
        "        elif o4 and x5 and x6 and x7:\n",
        "          #  x  x  o*   x  x  x\n",
        "          #  x     o    o*    o*\n",
        "          #  o* o  o    o  o  o\n",
        "          ans = [surr[(k+0)%8]['coordinates'],surr[(k+4)%8]['coordinates']]\n",
        "          break\n",
        "        elif o4 and o5 and x6 and x7:\n",
        "          #  x  x  o*\n",
        "          #  o*    o\n",
        "          #  o  o  o\n",
        "          ans = [surr[(k+0)%8]['coordinates'],surr[(k+5)%8]['coordinates']]\n",
        "          break\n",
        "        elif o4 and x5 and o6 and x7:\n",
        "          #  o* x  o*\n",
        "          #  x     o\n",
        "          #  o* o  o\n",
        "          ans = [surr[(k+0)%8]['coordinates'],surr[(k+4)%8]['coordinates'],surr[(k+6)%8]['coordinates']]\n",
        "          break\n",
        "        elif o4 and o5 and o6 and x7:\n",
        "          #  x  o* o\n",
        "          #  o*    o\n",
        "          #  o  o  o\n",
        "          ans = [surr[(k+0)%8]['coordinates'],surr[(k+6)%8]['coordinates']]\n",
        "          break\n",
        "      elif o0 and o1 and o2 and o3 and x4 and o5 and o6 and x7:\n",
        "        #  o  o* x\n",
        "        #  x     o\n",
        "        #  o  o  o\n",
        "        ans = [surr[(k+6)%8]['coordinates']]\n",
        "        break\n",
        "      elif o0 and o1 and o2 and x3 and x4 and o5 and x6:\n",
        "        #  o  e  x\n",
        "        #  o     o*\n",
        "        #  o  x  x\n",
        "        ans = [surr[(k+5)%8]['coordinates']]\n",
        "        break\n",
        "      elif o0 and o1 and o2 and x3 and x4 and o5 and x6:\n",
        "        #  o  x  x\n",
        "        #  o     o*\n",
        "        #  o  x  x\n",
        "        ans = [surr[(k+5)%8]['coordinates']]\n",
        "        break\n",
        "      elif o0 and x1 and x2 and x3 and o4 and x5 and x6 and x7:\n",
        "        #  x  x  x\n",
        "        #  o*    o*\n",
        "        #  x  x  x\n",
        "        ans = [surr[(k+0)%8]['coordinates'],surr[(k+4)%8]['coordinates']]\n",
        "        break\n",
        "      elif o0 and x1 and x2 and x3 and x4 and x5 and x6 and x7:\n",
        "        #  x  x  x\n",
        "        #  x     o*\n",
        "        #  x  x  x\n",
        "        ans = [surr[(k+0)%8]['coordinates']]\n",
        "        break\n",
        "    surr_in_grid = [s['coordinates'] for s in surr if s['is_in_grid']]\n",
        "    ans = [p for p in ans if p in surr_in_grid]\n",
        "    return ans\n",
        "    '''\n",
        "  \n",
        "  ###############\n",
        "  ### UPDATES ###\n",
        "  ###############\n",
        "  \n",
        "  def update_activity_according_to_gradient(self,i):\n",
        "    if self.activity[i]: # activity update according to gradient\n",
        "      p0 = self.agent_coordinates[i] \n",
        "      if p0 in self.template_coordinates: # if inside the shape\n",
        "        inactive_neighbors = [j for j in self.neighbors[i] if self.activity[j]==False]\n",
        "        #nondiagonal_inactive_neighbors = [j for j in inactive_neighbors if l1_distance(p0,self.agent_coordinates[j])==1]\n",
        "        if len(inactive_neighbors)>0:\n",
        "          if any([self.gradient[i] == self.gradient[j] for j in inactive_neighbors]): # turn off if  inactive neighbor has same gradient value\n",
        "            self.activity[i] = False\n",
        "            \n",
        "  def update_all_activities_according_to_gradient(self):\n",
        "    for i in range(len(self.agent_coordinates)):\n",
        "      if self.activity[i]:\n",
        "        if self.agent_coordinates[i] in self.template_coordinates:\n",
        "          self.update_activity_according_to_gradient(i)\n",
        "  \n",
        "  def update_direction_coordinates_activity(self,i):\n",
        "    if self.activity[i]: # forward edge-follow\n",
        "      plist = self.edgefollows(i) \n",
        "      agent_is_in_template = (self.agent_coordinates[i] in self.template_coordinates)\n",
        "      if len(plist)==0:\n",
        "        if agent_is_in_template:\n",
        "          self.activity[i] = False\n",
        "      elif len(plist)>0: # edge-follow\n",
        "        p_chosen = self.choose(i,plist)\n",
        "        if agent_is_in_template:\n",
        "          if p_chosen not in self.template_coordinates:\n",
        "            self.activity[i] = False\n",
        "          else:\n",
        "            self.direction[i] = displacement(self.agent_coordinates[i],p_chosen)\n",
        "            self.agent_coordinates[i] = p_chosen\n",
        "        else:\n",
        "          self.direction[i] = displacement(self.agent_coordinates[i],p_chosen)\n",
        "          self.agent_coordinates[i] = p_chosen\n",
        "  \n",
        "  def get_neighbors(self,i):\n",
        "    p0 = self.agent_coordinates[i]\n",
        "    return [j for j,p in enumerate(self.agent_coordinates) if linf_distance(p0,p)==1 and i!=j]\n",
        "  \n",
        "  def update_neighbors(self):\n",
        "    self.neighbors = [self.get_neighbors(i) for i in range(len(self.agent_coordinates))]\n",
        "    \n",
        "  def update_gradient(self):\n",
        "    self.gradient = ['' for _ in self.agent_coordinates]\n",
        "    i_source = self.is_source.index(True)\n",
        "    self.gradient[i_source] = 0\n",
        "    for j in self.neighbors[i_source]:\n",
        "      self.gradient[j] = 1\n",
        "    while '' in self.gradient:\n",
        "      for i,g in enumerate(self.gradient):\n",
        "        if g=='':\n",
        "          min_gradient_in_neighbors = 10**10 # big number\n",
        "          should_assign_gradient_value = False\n",
        "          for j in self.neighbors[i]:\n",
        "            if self.gradient[j] != '':\n",
        "              min_gradient_in_neighbors = min(self.gradient[j],min_gradient_in_neighbors)\n",
        "              should_assign_gradient_value = True\n",
        "          if should_assign_gradient_value:\n",
        "            self.gradient[i] = 1+min_gradient_in_neighbors\n",
        "      \n",
        "  def update_logstr(self,i,(p0,dir0,activity0,neighbors0,edgefollows0),(p1,dir1,activity1,neighbors1,edgefollows1)):\n",
        "    dir0, dir1 = arrow(dir0), arrow(dir1)\n",
        "    translation_dict = {True:'on',False:'off'}\n",
        "    activity0, activity1 = translation_dict[activity0], translation_dict[activity1]\n",
        "    template_string = 'Agent {0}: [{1},{2},{3}]-->[{4},{5},{6}]\\nNeighbors: {7}\\nEdgefollows: {8}'\n",
        "    newstring = template_string.format(i,p0,dir0,activity0,p1,dir1,activity1,neighbors0,edgefollows0)\n",
        "    self.logstr.append(newstring)\n",
        "  \n",
        "  ##########################\n",
        "  ### DYNAMICS UTILITIES ###\n",
        "  ##########################\n",
        "  \n",
        "  def init_template_coordinates(self):\n",
        "    L = self.L\n",
        "    template_array = np.zeros(self.grid_shape)\n",
        "    template_array[2*L-1:3*L-1,2*L-1:3*L-1] = 1\n",
        "    return get_coordinates(template_array)\n",
        "  \n",
        "  def init_agent_coordinates(self):\n",
        "    L = self.L\n",
        "    agents_array = np.zeros(self.grid_shape)\n",
        "    agents_array[L:2*L,L:2*L] = 1\n",
        "    return get_coordinates(agents_array)\n",
        "  \n",
        "  def init_activity(self):\n",
        "    ans = [True for _ in self.agent_coordinates]\n",
        "    ans[-1] = False\n",
        "    return ans\n",
        "  \n",
        "  def init_direction(self):\n",
        "    return [(1,0) for _ in self.agent_coordinates]\n",
        "  \n",
        "  def init_is_source(self):\n",
        "    ans = []\n",
        "    prod = [i*j for (i,j) in self.agent_coordinates]\n",
        "    maxprod = max(prod)\n",
        "    return [bool(p == maxprod) for p in prod]\n",
        "    \n",
        "  def get_logstr_params(self,i):\n",
        "    p0, dir0, activity0 = self.agent_coordinates[i], self.direction[i], self.activity[i]\n",
        "    neighbors0 = ' '.join([str(self.agent_coordinates[j]) for j in self.neighbors[i]])\n",
        "    edgefollows0 = ' '.join([str(e) for e in self.edgefollows(i)])\n",
        "    return (p0,dir0,activity0,neighbors0,edgefollows0)\n",
        "  \n",
        "  def move(self,i):\n",
        "    orig_coordinates = self.agent_coordinates[i]\n",
        "    \n",
        "    self.update_neighbors()\n",
        "    self.update_gradient()\n",
        "    self.gradient_log.append(self.gradient)\n",
        "    self.update_all_activities_according_to_gradient()\n",
        "    \n",
        "    self.update_direction_coordinates_activity(i)\n",
        "    self.coordinates_log.append(list(self.agent_coordinates))\n",
        "    \n",
        "    self.update_neighbors()\n",
        "    self.update_gradient()\n",
        "    self.gradient_log.append(self.gradient)\n",
        "    self.update_all_activities_according_to_gradient()\n",
        "    \n",
        "    if self.agent_coordinates[i] == orig_coordinates:\n",
        "      return False\n",
        "    else:\n",
        "      return True\n",
        "      \n",
        "  ################\n",
        "  ### DYNAMICS ###\n",
        "  ################\n",
        "  \n",
        "  def __init__(self,L=5,scale=5):\n",
        "    self.L = L\n",
        "    self.scale = scale\n",
        "    self.grid_shape = (scale*L, scale*L)\n",
        "    self.template_coordinates = self.init_template_coordinates()\n",
        "    self.agent_coordinates = self.init_agent_coordinates()\n",
        "    self.coordinates_log = []\n",
        "    self.coordinates_log.append(list(self.agent_coordinates))\n",
        "    self.activity = self.init_activity()    \n",
        "    self.direction = self.init_direction()\n",
        "    self.is_source = self.init_is_source()\n",
        "    \n",
        "    self.gradient = []\n",
        "    self.update_neighbors()\n",
        "    self.update_gradient() \n",
        "    self.gradient_log = []\n",
        "    self.gradient_log.append(self.gradient)\n",
        "    \n",
        "    self.logstr = []\n",
        "    self.logarray = [self.make_grid()]\n",
        "   \n",
        "  def timestep(self,computation='parallel',log=True):\n",
        "      \n",
        "    subset = [i for i,a in enumerate(self.activity) if a==True]\n",
        "    random.shuffle(subset)\n",
        "    if computation=='parallel':\n",
        "      for i in subset:\n",
        "        if len(self.edgefollows(i))>0:\n",
        "          if log:\n",
        "            logstr_params0 = self.get_logstr_params(i)\n",
        "            self.update_logarray(highlight_agents_by_index=[i])\n",
        "            self.move(i)\n",
        "            logstr_params1 = self.get_logstr_params(i)\n",
        "            self.update_logstr(i,logstr_params0,logstr_params1)\n",
        "            self.update_logarray(highlight_agents_by_index=[i])\n",
        "          else:\n",
        "            self.move(i)\n",
        "    elif computation=='series':\n",
        "      for i in [random.choice(subset)]:\n",
        "        if len(self.edgefollows(i))>0:\n",
        "          ans = True\n",
        "          while ans:\n",
        "            if log:\n",
        "              logstr_params0 = self.get_logstr_params(i)\n",
        "              self.update_logarray(highlight_agents_by_index=[i])\n",
        "              ans = self.move(i)\n",
        "              logstr_params1 = self.get_logstr_params(i)\n",
        "              self.update_logstr(i,logstr_params0,logstr_params1) \n",
        "              self.update_logarray(highlight_agents_by_index=[i])\n",
        "            else:\n",
        "              self.move(i)\n",
        "            \n",
        "  def run(self,max_iter=1000,log_every=1,computation='parallel',output=False):\n",
        "    counter = 0\n",
        "    tenth = int(float(max_iter)/10)\n",
        "    tenths = 0\n",
        "    if output:\n",
        "      print 'running...'\n",
        "    while counter < max_iter:\n",
        "      log = False\n",
        "      if counter % log_every == 0:\n",
        "        log=True\n",
        "      if counter % tenth == 0:\n",
        "        if output:\n",
        "          print('       ...'+str(tenths*10)+'%')\n",
        "        tenths += 1\n",
        "      a.timestep(computation=computation,log=log)\n",
        "      counter += 1\n",
        "      if set(a.agent_coordinates) == set(a.template_coordinates):\n",
        "        self.update_logarray()\n",
        "        if output:\n",
        "          print 'SUCCESS'\n",
        "        return True\n",
        "        break\n",
        "      if counter == max_iter:\n",
        "        if output:\n",
        "          print 'reached max iterations'\n",
        "        return False"
      ],
      "execution_count": 0,
      "outputs": []
    },
    {
      "metadata": {
        "id": "DqWSm4APeQLs",
        "colab_type": "code",
        "colab": {
          "base_uri": "https://localhost:8080/",
          "height": 759
        },
        "outputId": "87b24b52-029c-4e0e-8bfd-46013aa8880f"
      },
      "cell_type": "code",
      "source": [
        "a = Agents(L=5)\n",
        "a.run(max_iter=10,output=True)"
      ],
      "execution_count": 97,
      "outputs": [
        {
          "output_type": "stream",
          "text": [
            "running...\n",
            "       ...0%\n",
            "       ...10%\n",
            "       ...20%\n",
            "       ...30%\n",
            "       ...40%\n"
          ],
          "name": "stdout"
        },
        {
          "output_type": "error",
          "ename": "KeyboardInterrupt",
          "evalue": "ignored",
          "traceback": [
            "\u001b[0;31m\u001b[0m",
            "\u001b[0;31mKeyboardInterrupt\u001b[0mTraceback (most recent call last)",
            "\u001b[0;32m<ipython-input-97-0a74600b9405>\u001b[0m in \u001b[0;36m<module>\u001b[0;34m()\u001b[0m\n\u001b[1;32m      1\u001b[0m \u001b[0ma\u001b[0m \u001b[0;34m=\u001b[0m \u001b[0mAgents\u001b[0m\u001b[0;34m(\u001b[0m\u001b[0mL\u001b[0m\u001b[0;34m=\u001b[0m\u001b[0;36m5\u001b[0m\u001b[0;34m)\u001b[0m\u001b[0;34m\u001b[0m\u001b[0m\n\u001b[0;32m----> 2\u001b[0;31m \u001b[0ma\u001b[0m\u001b[0;34m.\u001b[0m\u001b[0mrun\u001b[0m\u001b[0;34m(\u001b[0m\u001b[0mmax_iter\u001b[0m\u001b[0;34m=\u001b[0m\u001b[0;36m10\u001b[0m\u001b[0;34m,\u001b[0m\u001b[0moutput\u001b[0m\u001b[0;34m=\u001b[0m\u001b[0mTrue\u001b[0m\u001b[0;34m)\u001b[0m\u001b[0;34m\u001b[0m\u001b[0m\n\u001b[0m",
            "\u001b[0;32m<ipython-input-94-4b2ad9a765fd>\u001b[0m in \u001b[0;36mrun\u001b[0;34m(self, max_iter, log_every, computation, output)\u001b[0m\n\u001b[1;32m    433\u001b[0m           \u001b[0;32mprint\u001b[0m\u001b[0;34m(\u001b[0m\u001b[0;34m'       ...'\u001b[0m\u001b[0;34m+\u001b[0m\u001b[0mstr\u001b[0m\u001b[0;34m(\u001b[0m\u001b[0mtenths\u001b[0m\u001b[0;34m*\u001b[0m\u001b[0;36m10\u001b[0m\u001b[0;34m)\u001b[0m\u001b[0;34m+\u001b[0m\u001b[0;34m'%'\u001b[0m\u001b[0;34m)\u001b[0m\u001b[0;34m\u001b[0m\u001b[0m\n\u001b[1;32m    434\u001b[0m         \u001b[0mtenths\u001b[0m \u001b[0;34m+=\u001b[0m \u001b[0;36m1\u001b[0m\u001b[0;34m\u001b[0m\u001b[0m\n\u001b[0;32m--> 435\u001b[0;31m       \u001b[0ma\u001b[0m\u001b[0;34m.\u001b[0m\u001b[0mtimestep\u001b[0m\u001b[0;34m(\u001b[0m\u001b[0mcomputation\u001b[0m\u001b[0;34m=\u001b[0m\u001b[0mcomputation\u001b[0m\u001b[0;34m,\u001b[0m\u001b[0mlog\u001b[0m\u001b[0;34m=\u001b[0m\u001b[0mlog\u001b[0m\u001b[0;34m)\u001b[0m\u001b[0;34m\u001b[0m\u001b[0m\n\u001b[0m\u001b[1;32m    436\u001b[0m       \u001b[0mcounter\u001b[0m \u001b[0;34m+=\u001b[0m \u001b[0;36m1\u001b[0m\u001b[0;34m\u001b[0m\u001b[0m\n\u001b[1;32m    437\u001b[0m       \u001b[0;32mif\u001b[0m \u001b[0mset\u001b[0m\u001b[0;34m(\u001b[0m\u001b[0ma\u001b[0m\u001b[0;34m.\u001b[0m\u001b[0magent_coordinates\u001b[0m\u001b[0;34m)\u001b[0m \u001b[0;34m==\u001b[0m \u001b[0mset\u001b[0m\u001b[0;34m(\u001b[0m\u001b[0ma\u001b[0m\u001b[0;34m.\u001b[0m\u001b[0mtemplate_coordinates\u001b[0m\u001b[0;34m)\u001b[0m\u001b[0;34m:\u001b[0m\u001b[0;34m\u001b[0m\u001b[0m\n",
            "\u001b[0;32m<ipython-input-94-4b2ad9a765fd>\u001b[0m in \u001b[0;36mtimestep\u001b[0;34m(self, computation, log)\u001b[0m\n\u001b[1;32m    398\u001b[0m             \u001b[0mlogstr_params0\u001b[0m \u001b[0;34m=\u001b[0m \u001b[0mself\u001b[0m\u001b[0;34m.\u001b[0m\u001b[0mget_logstr_params\u001b[0m\u001b[0;34m(\u001b[0m\u001b[0mi\u001b[0m\u001b[0;34m)\u001b[0m\u001b[0;34m\u001b[0m\u001b[0m\n\u001b[1;32m    399\u001b[0m             \u001b[0mself\u001b[0m\u001b[0;34m.\u001b[0m\u001b[0mupdate_logarray\u001b[0m\u001b[0;34m(\u001b[0m\u001b[0mhighlight_agents_by_index\u001b[0m\u001b[0;34m=\u001b[0m\u001b[0;34m[\u001b[0m\u001b[0mi\u001b[0m\u001b[0;34m]\u001b[0m\u001b[0;34m)\u001b[0m\u001b[0;34m\u001b[0m\u001b[0m\n\u001b[0;32m--> 400\u001b[0;31m             \u001b[0mself\u001b[0m\u001b[0;34m.\u001b[0m\u001b[0mmove\u001b[0m\u001b[0;34m(\u001b[0m\u001b[0mi\u001b[0m\u001b[0;34m)\u001b[0m\u001b[0;34m\u001b[0m\u001b[0m\n\u001b[0m\u001b[1;32m    401\u001b[0m             \u001b[0mlogstr_params1\u001b[0m \u001b[0;34m=\u001b[0m \u001b[0mself\u001b[0m\u001b[0;34m.\u001b[0m\u001b[0mget_logstr_params\u001b[0m\u001b[0;34m(\u001b[0m\u001b[0mi\u001b[0m\u001b[0;34m)\u001b[0m\u001b[0;34m\u001b[0m\u001b[0m\n\u001b[1;32m    402\u001b[0m             \u001b[0mself\u001b[0m\u001b[0;34m.\u001b[0m\u001b[0mupdate_logstr\u001b[0m\u001b[0;34m(\u001b[0m\u001b[0mi\u001b[0m\u001b[0;34m,\u001b[0m\u001b[0mlogstr_params0\u001b[0m\u001b[0;34m,\u001b[0m\u001b[0mlogstr_params1\u001b[0m\u001b[0;34m)\u001b[0m\u001b[0;34m\u001b[0m\u001b[0m\n",
            "\u001b[0;32m<ipython-input-94-4b2ad9a765fd>\u001b[0m in \u001b[0;36mmove\u001b[0;34m(self, i)\u001b[0m\n\u001b[1;32m    354\u001b[0m \u001b[0;34m\u001b[0m\u001b[0m\n\u001b[1;32m    355\u001b[0m     \u001b[0mself\u001b[0m\u001b[0;34m.\u001b[0m\u001b[0mupdate_neighbors\u001b[0m\u001b[0;34m(\u001b[0m\u001b[0;34m)\u001b[0m\u001b[0;34m\u001b[0m\u001b[0m\n\u001b[0;32m--> 356\u001b[0;31m     \u001b[0mself\u001b[0m\u001b[0;34m.\u001b[0m\u001b[0mupdate_gradient\u001b[0m\u001b[0;34m(\u001b[0m\u001b[0;34m)\u001b[0m\u001b[0;34m\u001b[0m\u001b[0m\n\u001b[0m\u001b[1;32m    357\u001b[0m     \u001b[0mself\u001b[0m\u001b[0;34m.\u001b[0m\u001b[0mgradient_log\u001b[0m\u001b[0;34m.\u001b[0m\u001b[0mappend\u001b[0m\u001b[0;34m(\u001b[0m\u001b[0mself\u001b[0m\u001b[0;34m.\u001b[0m\u001b[0mgradient\u001b[0m\u001b[0;34m)\u001b[0m\u001b[0;34m\u001b[0m\u001b[0m\n\u001b[1;32m    358\u001b[0m     \u001b[0mself\u001b[0m\u001b[0;34m.\u001b[0m\u001b[0mupdate_all_activities_according_to_gradient\u001b[0m\u001b[0;34m(\u001b[0m\u001b[0;34m)\u001b[0m\u001b[0;34m\u001b[0m\u001b[0m\n",
            "\u001b[0;32m<ipython-input-94-4b2ad9a765fd>\u001b[0m in \u001b[0;36mupdate_gradient\u001b[0;34m(self)\u001b[0m\n\u001b[1;32m    288\u001b[0m     \u001b[0;32mwhile\u001b[0m \u001b[0;34m''\u001b[0m \u001b[0;32min\u001b[0m \u001b[0mself\u001b[0m\u001b[0;34m.\u001b[0m\u001b[0mgradient\u001b[0m\u001b[0;34m:\u001b[0m\u001b[0;34m\u001b[0m\u001b[0m\n\u001b[1;32m    289\u001b[0m       \u001b[0;32mfor\u001b[0m \u001b[0mi\u001b[0m\u001b[0;34m,\u001b[0m\u001b[0mg\u001b[0m \u001b[0;32min\u001b[0m \u001b[0menumerate\u001b[0m\u001b[0;34m(\u001b[0m\u001b[0mself\u001b[0m\u001b[0;34m.\u001b[0m\u001b[0mgradient\u001b[0m\u001b[0;34m)\u001b[0m\u001b[0;34m:\u001b[0m\u001b[0;34m\u001b[0m\u001b[0m\n\u001b[0;32m--> 290\u001b[0;31m         \u001b[0;32mif\u001b[0m \u001b[0mg\u001b[0m\u001b[0;34m==\u001b[0m\u001b[0;34m''\u001b[0m\u001b[0;34m:\u001b[0m\u001b[0;34m\u001b[0m\u001b[0m\n\u001b[0m\u001b[1;32m    291\u001b[0m           \u001b[0mmin_gradient_in_neighbors\u001b[0m \u001b[0;34m=\u001b[0m \u001b[0;36m10\u001b[0m\u001b[0;34m**\u001b[0m\u001b[0;36m10\u001b[0m \u001b[0;31m# big number\u001b[0m\u001b[0;34m\u001b[0m\u001b[0m\n\u001b[1;32m    292\u001b[0m           \u001b[0mshould_assign_gradient_value\u001b[0m \u001b[0;34m=\u001b[0m \u001b[0mFalse\u001b[0m\u001b[0;34m\u001b[0m\u001b[0m\n",
            "\u001b[0;31mKeyboardInterrupt\u001b[0m: "
          ]
        }
      ]
    },
    {
      "metadata": {
        "id": "R5900FytY5OW",
        "colab_type": "code",
        "colab": {
          "base_uri": "https://localhost:8080/",
          "height": 759
        },
        "outputId": "bd73968d-327a-4245-9e29-8f3bb9a5b428"
      },
      "cell_type": "code",
      "source": [
        "outcome = True\n",
        "count = 0\n",
        "while outcome:\n",
        "  a = Agents(L=5)\n",
        "  outcome = a.run(max_iter=10,output=True)\n",
        "  count += 1\n",
        "  print count\n",
        "print 'num trials before stop:',count"
      ],
      "execution_count": 96,
      "outputs": [
        {
          "output_type": "stream",
          "text": [
            "running...\n",
            "       ...0%\n",
            "       ...10%\n"
          ],
          "name": "stdout"
        },
        {
          "output_type": "error",
          "ename": "KeyboardInterrupt",
          "evalue": "ignored",
          "traceback": [
            "\u001b[0;31m\u001b[0m",
            "\u001b[0;31mKeyboardInterrupt\u001b[0mTraceback (most recent call last)",
            "\u001b[0;32m<ipython-input-96-e719b6ac4119>\u001b[0m in \u001b[0;36m<module>\u001b[0;34m()\u001b[0m\n\u001b[1;32m      3\u001b[0m \u001b[0;32mwhile\u001b[0m \u001b[0moutcome\u001b[0m\u001b[0;34m:\u001b[0m\u001b[0;34m\u001b[0m\u001b[0m\n\u001b[1;32m      4\u001b[0m   \u001b[0ma\u001b[0m \u001b[0;34m=\u001b[0m \u001b[0mAgents\u001b[0m\u001b[0;34m(\u001b[0m\u001b[0mL\u001b[0m\u001b[0;34m=\u001b[0m\u001b[0;36m5\u001b[0m\u001b[0;34m)\u001b[0m\u001b[0;34m\u001b[0m\u001b[0m\n\u001b[0;32m----> 5\u001b[0;31m   \u001b[0moutcome\u001b[0m \u001b[0;34m=\u001b[0m \u001b[0ma\u001b[0m\u001b[0;34m.\u001b[0m\u001b[0mrun\u001b[0m\u001b[0;34m(\u001b[0m\u001b[0mmax_iter\u001b[0m\u001b[0;34m=\u001b[0m\u001b[0;36m10\u001b[0m\u001b[0;34m,\u001b[0m\u001b[0moutput\u001b[0m\u001b[0;34m=\u001b[0m\u001b[0mTrue\u001b[0m\u001b[0;34m)\u001b[0m\u001b[0;34m\u001b[0m\u001b[0m\n\u001b[0m\u001b[1;32m      6\u001b[0m   \u001b[0mcount\u001b[0m \u001b[0;34m+=\u001b[0m \u001b[0;36m1\u001b[0m\u001b[0;34m\u001b[0m\u001b[0m\n\u001b[1;32m      7\u001b[0m   \u001b[0;32mprint\u001b[0m \u001b[0mcount\u001b[0m\u001b[0;34m\u001b[0m\u001b[0m\n",
            "\u001b[0;32m<ipython-input-94-4b2ad9a765fd>\u001b[0m in \u001b[0;36mrun\u001b[0;34m(self, max_iter, log_every, computation, output)\u001b[0m\n\u001b[1;32m    433\u001b[0m           \u001b[0;32mprint\u001b[0m\u001b[0;34m(\u001b[0m\u001b[0;34m'       ...'\u001b[0m\u001b[0;34m+\u001b[0m\u001b[0mstr\u001b[0m\u001b[0;34m(\u001b[0m\u001b[0mtenths\u001b[0m\u001b[0;34m*\u001b[0m\u001b[0;36m10\u001b[0m\u001b[0;34m)\u001b[0m\u001b[0;34m+\u001b[0m\u001b[0;34m'%'\u001b[0m\u001b[0;34m)\u001b[0m\u001b[0;34m\u001b[0m\u001b[0m\n\u001b[1;32m    434\u001b[0m         \u001b[0mtenths\u001b[0m \u001b[0;34m+=\u001b[0m \u001b[0;36m1\u001b[0m\u001b[0;34m\u001b[0m\u001b[0m\n\u001b[0;32m--> 435\u001b[0;31m       \u001b[0ma\u001b[0m\u001b[0;34m.\u001b[0m\u001b[0mtimestep\u001b[0m\u001b[0;34m(\u001b[0m\u001b[0mcomputation\u001b[0m\u001b[0;34m=\u001b[0m\u001b[0mcomputation\u001b[0m\u001b[0;34m,\u001b[0m\u001b[0mlog\u001b[0m\u001b[0;34m=\u001b[0m\u001b[0mlog\u001b[0m\u001b[0;34m)\u001b[0m\u001b[0;34m\u001b[0m\u001b[0m\n\u001b[0m\u001b[1;32m    436\u001b[0m       \u001b[0mcounter\u001b[0m \u001b[0;34m+=\u001b[0m \u001b[0;36m1\u001b[0m\u001b[0;34m\u001b[0m\u001b[0m\n\u001b[1;32m    437\u001b[0m       \u001b[0;32mif\u001b[0m \u001b[0mset\u001b[0m\u001b[0;34m(\u001b[0m\u001b[0ma\u001b[0m\u001b[0;34m.\u001b[0m\u001b[0magent_coordinates\u001b[0m\u001b[0;34m)\u001b[0m \u001b[0;34m==\u001b[0m \u001b[0mset\u001b[0m\u001b[0;34m(\u001b[0m\u001b[0ma\u001b[0m\u001b[0;34m.\u001b[0m\u001b[0mtemplate_coordinates\u001b[0m\u001b[0;34m)\u001b[0m\u001b[0;34m:\u001b[0m\u001b[0;34m\u001b[0m\u001b[0m\n",
            "\u001b[0;32m<ipython-input-94-4b2ad9a765fd>\u001b[0m in \u001b[0;36mtimestep\u001b[0;34m(self, computation, log)\u001b[0m\n\u001b[1;32m    398\u001b[0m             \u001b[0mlogstr_params0\u001b[0m \u001b[0;34m=\u001b[0m \u001b[0mself\u001b[0m\u001b[0;34m.\u001b[0m\u001b[0mget_logstr_params\u001b[0m\u001b[0;34m(\u001b[0m\u001b[0mi\u001b[0m\u001b[0;34m)\u001b[0m\u001b[0;34m\u001b[0m\u001b[0m\n\u001b[1;32m    399\u001b[0m             \u001b[0mself\u001b[0m\u001b[0;34m.\u001b[0m\u001b[0mupdate_logarray\u001b[0m\u001b[0;34m(\u001b[0m\u001b[0mhighlight_agents_by_index\u001b[0m\u001b[0;34m=\u001b[0m\u001b[0;34m[\u001b[0m\u001b[0mi\u001b[0m\u001b[0;34m]\u001b[0m\u001b[0;34m)\u001b[0m\u001b[0;34m\u001b[0m\u001b[0m\n\u001b[0;32m--> 400\u001b[0;31m             \u001b[0mself\u001b[0m\u001b[0;34m.\u001b[0m\u001b[0mmove\u001b[0m\u001b[0;34m(\u001b[0m\u001b[0mi\u001b[0m\u001b[0;34m)\u001b[0m\u001b[0;34m\u001b[0m\u001b[0m\n\u001b[0m\u001b[1;32m    401\u001b[0m             \u001b[0mlogstr_params1\u001b[0m \u001b[0;34m=\u001b[0m \u001b[0mself\u001b[0m\u001b[0;34m.\u001b[0m\u001b[0mget_logstr_params\u001b[0m\u001b[0;34m(\u001b[0m\u001b[0mi\u001b[0m\u001b[0;34m)\u001b[0m\u001b[0;34m\u001b[0m\u001b[0m\n\u001b[1;32m    402\u001b[0m             \u001b[0mself\u001b[0m\u001b[0;34m.\u001b[0m\u001b[0mupdate_logstr\u001b[0m\u001b[0;34m(\u001b[0m\u001b[0mi\u001b[0m\u001b[0;34m,\u001b[0m\u001b[0mlogstr_params0\u001b[0m\u001b[0;34m,\u001b[0m\u001b[0mlogstr_params1\u001b[0m\u001b[0;34m)\u001b[0m\u001b[0;34m\u001b[0m\u001b[0m\n",
            "\u001b[0;32m<ipython-input-94-4b2ad9a765fd>\u001b[0m in \u001b[0;36mmove\u001b[0;34m(self, i)\u001b[0m\n\u001b[1;32m    354\u001b[0m \u001b[0;34m\u001b[0m\u001b[0m\n\u001b[1;32m    355\u001b[0m     \u001b[0mself\u001b[0m\u001b[0;34m.\u001b[0m\u001b[0mupdate_neighbors\u001b[0m\u001b[0;34m(\u001b[0m\u001b[0;34m)\u001b[0m\u001b[0;34m\u001b[0m\u001b[0m\n\u001b[0;32m--> 356\u001b[0;31m     \u001b[0mself\u001b[0m\u001b[0;34m.\u001b[0m\u001b[0mupdate_gradient\u001b[0m\u001b[0;34m(\u001b[0m\u001b[0;34m)\u001b[0m\u001b[0;34m\u001b[0m\u001b[0m\n\u001b[0m\u001b[1;32m    357\u001b[0m     \u001b[0mself\u001b[0m\u001b[0;34m.\u001b[0m\u001b[0mgradient_log\u001b[0m\u001b[0;34m.\u001b[0m\u001b[0mappend\u001b[0m\u001b[0;34m(\u001b[0m\u001b[0mself\u001b[0m\u001b[0;34m.\u001b[0m\u001b[0mgradient\u001b[0m\u001b[0;34m)\u001b[0m\u001b[0;34m\u001b[0m\u001b[0m\n\u001b[1;32m    358\u001b[0m     \u001b[0mself\u001b[0m\u001b[0;34m.\u001b[0m\u001b[0mupdate_all_activities_according_to_gradient\u001b[0m\u001b[0;34m(\u001b[0m\u001b[0;34m)\u001b[0m\u001b[0;34m\u001b[0m\u001b[0m\n",
            "\u001b[0;32m<ipython-input-94-4b2ad9a765fd>\u001b[0m in \u001b[0;36mupdate_gradient\u001b[0;34m(self)\u001b[0m\n\u001b[1;32m    291\u001b[0m           \u001b[0mmin_gradient_in_neighbors\u001b[0m \u001b[0;34m=\u001b[0m \u001b[0;36m10\u001b[0m\u001b[0;34m**\u001b[0m\u001b[0;36m10\u001b[0m \u001b[0;31m# big number\u001b[0m\u001b[0;34m\u001b[0m\u001b[0m\n\u001b[1;32m    292\u001b[0m           \u001b[0mshould_assign_gradient_value\u001b[0m \u001b[0;34m=\u001b[0m \u001b[0mFalse\u001b[0m\u001b[0;34m\u001b[0m\u001b[0m\n\u001b[0;32m--> 293\u001b[0;31m           \u001b[0;32mfor\u001b[0m \u001b[0mj\u001b[0m \u001b[0;32min\u001b[0m \u001b[0mself\u001b[0m\u001b[0;34m.\u001b[0m\u001b[0mneighbors\u001b[0m\u001b[0;34m[\u001b[0m\u001b[0mi\u001b[0m\u001b[0;34m]\u001b[0m\u001b[0;34m:\u001b[0m\u001b[0;34m\u001b[0m\u001b[0m\n\u001b[0m\u001b[1;32m    294\u001b[0m             \u001b[0;32mif\u001b[0m \u001b[0mself\u001b[0m\u001b[0;34m.\u001b[0m\u001b[0mgradient\u001b[0m\u001b[0;34m[\u001b[0m\u001b[0mj\u001b[0m\u001b[0;34m]\u001b[0m \u001b[0;34m!=\u001b[0m \u001b[0;34m''\u001b[0m\u001b[0;34m:\u001b[0m\u001b[0;34m\u001b[0m\u001b[0m\n\u001b[1;32m    295\u001b[0m               \u001b[0mmin_gradient_in_neighbors\u001b[0m \u001b[0;34m=\u001b[0m \u001b[0mmin\u001b[0m\u001b[0;34m(\u001b[0m\u001b[0mself\u001b[0m\u001b[0;34m.\u001b[0m\u001b[0mgradient\u001b[0m\u001b[0;34m[\u001b[0m\u001b[0mj\u001b[0m\u001b[0;34m]\u001b[0m\u001b[0;34m,\u001b[0m\u001b[0mmin_gradient_in_neighbors\u001b[0m\u001b[0;34m)\u001b[0m\u001b[0;34m\u001b[0m\u001b[0m\n",
            "\u001b[0;31mKeyboardInterrupt\u001b[0m: "
          ]
        }
      ]
    },
    {
      "metadata": {
        "id": "GRVHuJwWtTZE",
        "colab_type": "code",
        "colab": {
          "base_uri": "https://localhost:8080/",
          "height": 1388
        },
        "outputId": "fb6ef59e-498f-4ddc-a134-a66d50b9614e"
      },
      "cell_type": "code",
      "source": [
        " a.plot(-1,debug=True)"
      ],
      "execution_count": 98,
      "outputs": [
        {
          "output_type": "stream",
          "text": [
            "Agent 17: [(10, 5),🡐,on]-->[(11, 4),🡗,on]\n",
            "Neighbors: (9, 4) (9, 6) (10, 4) (10, 6)\n",
            "Edgefollows: (9, 5) (11, 6) (11, 5) (11, 4)\n"
          ],
          "name": "stdout"
        },
        {
          "output_type": "display_data",
          "data": {
            "image/png": "[encoded data removed]",
            "text/plain": [
              "<matplotlib.figure.Figure at 0x7f35a8a7ac10>"
            ]
          },
          "metadata": {
            "tags": []
          }
        },
        {
          "output_type": "display_data",
          "data": {
            "image/png": "[encoded data removed]",
            "text/plain": [
              "<matplotlib.figure.Figure at 0x7f35a880bf90>"
            ]
          },
          "metadata": {
            "tags": []
          }
        },
        {
          "output_type": "display_data",
          "data": {
            "image/png": "[encoded data removed]",
            "text/plain": [
              "<matplotlib.figure.Figure at 0x7f35aaf0b310>"
            ]
          },
          "metadata": {
            "tags": []
          }
        },
        {
          "output_type": "display_data",
          "data": {
            "image/png": "[encoded data removed]",
            "text/plain": [
              "<matplotlib.figure.Figure at 0x7f35a86cb190>"
            ]
          },
          "metadata": {
            "tags": []
          }
        }
      ]
    },
    {
      "metadata": {
        "id": "G_ipIwHX764R",
        "colab_type": "code",
        "colab": {
          "base_uri": "https://localhost:8080/",
          "height": 1507
        },
        "outputId": "9dfe4229-cabb-4724-cd4b-5b87427c7086"
      },
      "cell_type": "code",
      "source": [
        "for t in range(1,1000,100):\n",
        "  print '______________________________'\n",
        "  print 't='+str(t)\n",
        "  try:\n",
        "    a.plot(t)\n",
        "  except:\n",
        "    break\n",
        "a.plot(-1)"
      ],
      "execution_count": 99,
      "outputs": [
        {
          "output_type": "stream",
          "text": [
            "______________________________\n",
            "t=1\n",
            "Agent 3: [(5, 8),🡓,on]-->[(4, 8),🡑,on]\n",
            "Neighbors: (5, 7) (5, 9) (6, 7) (6, 8) (6, 9)\n",
            "Edgefollows: (4, 8) (4, 9) (4, 7)\n"
          ],
          "name": "stdout"
        },
        {
          "output_type": "display_data",
          "data": {
            "image/png": "[encoded data removed]",
            "text/plain": [
              "<matplotlib.figure.Figure at 0x7f35a8bb6550>"
            ]
          },
          "metadata": {
            "tags": []
          }
        },
        {
          "output_type": "display_data",
          "data": {
            "image/png": "[encoded data removed]",
            "text/plain": [
              "<matplotlib.figure.Figure at 0x7f35bcd94cd0>"
            ]
          },
          "metadata": {
            "tags": []
          }
        },
        {
          "output_type": "stream",
          "text": [
            "______________________________\n",
            "t=101\n",
            "Agent 17: [(10, 5),🡐,on]-->[(11, 4),🡗,on]\n",
            "Neighbors: (9, 4) (9, 6) (10, 4) (10, 6)\n",
            "Edgefollows: (9, 5) (11, 6) (11, 5) (11, 4)\n"
          ],
          "name": "stdout"
        },
        {
          "output_type": "display_data",
          "data": {
            "image/png": "[encoded data removed]",
            "text/plain": [
              "<matplotlib.figure.Figure at 0x7f35a8d31350>"
            ]
          },
          "metadata": {
            "tags": []
          }
        },
        {
          "output_type": "display_data",
          "data": {
            "image/png": "[encoded data removed]",
            "text/plain": [
              "<matplotlib.figure.Figure at 0x7f35a8679c90>"
            ]
          },
          "metadata": {
            "tags": []
          }
        }
      ]
    },
    {
      "metadata": {
        "id": "9iQ4Rg3sGZ-6",
        "colab_type": "code",
        "colab": {}
      },
      "cell_type": "code",
      "source": [
        ""
      ],
      "execution_count": 0,
      "outputs": []
    }
  ]
}