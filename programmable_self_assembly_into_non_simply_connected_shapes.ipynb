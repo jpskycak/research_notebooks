{
  "nbformat": 4,
  "nbformat_minor": 0,
  "metadata": {
    "colab": {
      "name": "programmable_self_assembly_into_non-simply-connected_shapes.ipynb",
      "version": "0.3.2",
      "provenance": [],
      "collapsed_sections": []
    },
    "kernelspec": {
      "name": "python2",
      "display_name": "Python 2"
    }
  },
  "cells": [
    {
      "cell_type": "markdown",
      "metadata": {
        "id": "view-in-github",
        "colab_type": "text"
      },
      "source": [
        "[View in Colaboratory](https://colab.research.google.com/github/jpskycak/research_notebooks/blob/master/programmable_self_assembly_into_non_simply_connected_shapes.ipynb)"
      ]
    },
    {
      "metadata": {
        "id": "lULJBcZs-qHm",
        "colab_type": "code",
        "colab": {
          "base_uri": "https://localhost:8080/",
          "height": 347
        },
        "outputId": "9423c02c-a0a3-4b87-cbff-ffcac56f55f5"
      },
      "cell_type": "code",
      "source": [
        "import numpy as np\n",
        "import matplotlib.pyplot as plt\n",
        "import uuid\n",
        "\n",
        "# initial coordinates for agents\n",
        "L = 10\n",
        "gridshape = (5*L,5*L)\n",
        "grid = np.zeros(gridshape)\n",
        "grid[:L,:L] = 1\n",
        "plt.imshow(grid)\n",
        "plt.grid(False)\n",
        "plt.show()"
      ],
      "execution_count": 17,
      "outputs": [
        {
          "output_type": "display_data",
          "data": {
            "image/png": "[encoded data removed]",
            "text/plain": [
              "<matplotlib.figure.Figure at 0x7f16a8e49690>"
            ]
          },
          "metadata": {
            "tags": []
          }
        }
      ]
    },
    {
      "metadata": {
        "id": "SqruOrLOCLwy",
        "colab_type": "code",
        "colab": {
          "base_uri": "https://localhost:8080/",
          "height": 105
        },
        "outputId": "ed5906f7-c670-428b-97dc-e320cbcfd128"
      },
      "cell_type": "code",
      "source": [
        "# instantiate agents at initial coordinates\n",
        "# initialize estimated coordinates as true initial coordinates\n",
        "# update_neighbors_and_distances()\n",
        "\n",
        "agents = [{'true_coordinates':(x,y),'estimated_coordinates':(x,y),'id':str(uuid.uuid4())} for x in range(gridshape[0]) for y in range(gridshape[1]) if grid[x,y]==1]\n",
        "\n",
        "def distance_metric(a,b):\n",
        "  return max(abs(a[0]-b[0]),abs(a[1]-b[1]))\n",
        "\n",
        "def in_radius(test_point,center,radius):\n",
        "  out = False\n",
        "  if distance_metric(test_point,center) <= radius:\n",
        "    out = True\n",
        "  return out\n",
        "\n",
        "def get_neighbors_and_distances(agent,radius=1):\n",
        "  center = agent['true_coordinates']\n",
        "  neighbors = [i for i,a in enumerate(agents) if in_radius(a['true_coordinates'],center,radius) and a['id'] != agent['id']]\n",
        "  distances = [distance_metric(agents[i]['true_coordinates'],center) for i in neighbors]\n",
        "  return [neighbors,distances]\n",
        "\n",
        "def update_neighbors_and_distances():\n",
        "  for a in agents:\n",
        "    [neighbors,distances] = get_neighbors_and_distances(a)\n",
        "    a['neighbors'] = neighbors\n",
        "    a['distances'] = distances\n",
        "\n",
        "\n",
        "update_neighbors_and_distances()\n",
        "  \n",
        "agents[0]"
      ],
      "execution_count": 18,
      "outputs": [
        {
          "output_type": "execute_result",
          "data": {
            "text/plain": [
              "{'distances': [1, 1, 1],\n",
              " 'estimated_coordinates': (0, 0),\n",
              " 'id': '5328bb79-0b46-4ac8-95e1-a411b1587990',\n",
              " 'neighbors': [1, 10, 11],\n",
              " 'true_coordinates': (0, 0)}"
            ]
          },
          "metadata": {
            "tags": []
          },
          "execution_count": 18
        }
      ]
    },
    {
      "metadata": {
        "id": "WXLHjhoJx3wz",
        "colab_type": "code",
        "colab": {
          "base_uri": "https://localhost:8080/",
          "height": 123
        },
        "outputId": "04b7bb18-1792-47dc-ad61-ec3fbb41a230"
      },
      "cell_type": "code",
      "source": [
        "# initialize gradient values. source agent is at (L-1,L-1)\n",
        "\n",
        "for a in agents:\n",
        "  if a['true_coordinates'] == (L-1,L-1):\n",
        "    a['gradient_value'] = 0\n",
        "    for neighbor_index in a['neighbors']:\n",
        "      neighbor = agents[neighbor_index]\n",
        "      neighbor['gradient_value'] = 1\n",
        "      \n",
        "def do_all_agents_have_gradient_values():\n",
        "  ans = True\n",
        "  for a in agents:\n",
        "    if 'gradient_value' not in a.keys():\n",
        "      ans = False\n",
        "  return ans\n",
        "\n",
        "while not do_all_agents_have_gradient_values():\n",
        "  for a in agents:\n",
        "    if 'gradient_value' not in a.keys():\n",
        "      neighbors = [agents[i] for i in a['neighbors']]\n",
        "      min_gradient_in_neighbors = 9*10**10\n",
        "      should_assign_gradient_value = False\n",
        "      for neighbor in neighbors:\n",
        "        if 'gradient_value' in neighbor.keys():\n",
        "          min_gradient_in_neighbors = min(neighbor['gradient_value'],min_gradient_in_neighbors)\n",
        "          should_assign_gradient_value = True\n",
        "      if should_assign_gradient_value:\n",
        "        a['gradient_value'] = 1+min_gradient_in_neighbors\n",
        "  \n",
        "agents[0]"
      ],
      "execution_count": 19,
      "outputs": [
        {
          "output_type": "execute_result",
          "data": {
            "text/plain": [
              "{'distances': [1, 1, 1],\n",
              " 'estimated_coordinates': (0, 0),\n",
              " 'gradient_value': 9,\n",
              " 'id': '5328bb79-0b46-4ac8-95e1-a411b1587990',\n",
              " 'neighbors': [1, 10, 11],\n",
              " 'true_coordinates': (0, 0)}"
            ]
          },
          "metadata": {
            "tags": []
          },
          "execution_count": 19
        }
      ]
    },
    {
      "metadata": {
        "id": "suTwySBe67rZ",
        "colab_type": "code",
        "colab": {
          "base_uri": "https://localhost:8080/",
          "height": 347
        },
        "outputId": "9f384c47-bb42-4c3c-b43e-0ce9543f028a"
      },
      "cell_type": "code",
      "source": [
        "# check gradient\n",
        "gradient = np.zeros(gridshape)\n",
        "for a in agents:\n",
        "  [x,y] = a['true_coordinates']\n",
        "  gradient[x,y] = a['gradient_value']\n",
        "  \n",
        "plt.imshow(gradient)\n",
        "plt.grid(False)\n",
        "plt.show()"
      ],
      "execution_count": 20,
      "outputs": [
        {
          "output_type": "display_data",
          "data": {
            "image/png": "[encoded data removed]",
            "text/plain": [
              "<matplotlib.figure.Figure at 0x7f16a8dbe910>"
            ]
          },
          "metadata": {
            "tags": []
          }
        }
      ]
    },
    {
      "metadata": {
        "id": "Bt6gL9WvP_IN",
        "colab_type": "code",
        "colab": {
          "base_uri": "https://localhost:8080/",
          "height": 365
        },
        "outputId": "6a933c1e-878f-43b1-d3cf-c62f6baa1e14"
      },
      "cell_type": "code",
      "source": [
        "# make shape\n",
        "shape = np.zeros(gridshape)\n",
        "shape[L:-3,L:-3] = 1\n",
        "shape[int(1.25*L):-3,int(1.25*L):-3] = 0 \n",
        "\n",
        "plt.imshow(shape)\n",
        "plt.grid(False)\n",
        "plt.show()\n",
        "\n",
        "shape_coordinates = []\n",
        "for x in range(shape.shape[0]):\n",
        "  for y in range(shape.shape[1]):\n",
        "    if shape[x,y] == 1:\n",
        "      shape_coordinates.append((x,y))\n",
        "shape_coordinates[:5]"
      ],
      "execution_count": 21,
      "outputs": [
        {
          "output_type": "display_data",
          "data": {
            "image/png": "[encoded data removed]",
            "text/plain": [
              "<matplotlib.figure.Figure at 0x7f16a8d2d550>"
            ]
          },
          "metadata": {
            "tags": []
          }
        },
        {
          "output_type": "execute_result",
          "data": {
            "text/plain": [
              "[(10, 10), (10, 11), (10, 12), (10, 13), (10, 14)]"
            ]
          },
          "metadata": {
            "tags": []
          },
          "execution_count": 21
        }
      ]
    },
    {
      "metadata": {
        "id": "HjoFAdZiQLpF",
        "colab_type": "code",
        "colab": {}
      },
      "cell_type": "code",
      "source": [
        "# timestep:\n",
        "# 1. all agents edge-follow one step if able.\n",
        "# 2. compute_neighbors_and_distances(),\n",
        "# 3. recompute gradient and estimated coordinates\n",
        "# (as those which minimize the discrepancy between the observed distances to neighbors\n",
        "# and the distances calculated using neighbors' estimations of their own coordinates)"
      ],
      "execution_count": 0,
      "outputs": []
    },
    {
      "metadata": {
        "id": "tGwOU578Bffb",
        "colab_type": "code",
        "colab": {
          "base_uri": "https://localhost:8080/",
          "height": 52
        },
        "outputId": "fd3a4220-59c7-44c5-892f-fdf2788fe5ce"
      },
      "cell_type": "code",
      "source": [
        "# edge-follow\n",
        "\n",
        "def thinks_its_in_shape(agent):\n",
        "  if agent['estimated_coordinates'] in shape_coordinates:\n",
        "    return True\n",
        "  else:\n",
        "    return False\n",
        "\n",
        "def nearest_points_in_shape(agent):\n",
        "  distances = [distance_metric(agent['estimated_coordinates'],p) for p in shape_coordinates]\n",
        "  return [shape_coordinates[i] for i,d in enumerate(distances) if d==min(distances)]\n",
        "\n",
        "def one_neighbors(agent):\n",
        "  return [n for i,n in enumerate(agent['neighbors']) if agent['distances'][i]==1]\n",
        "\n",
        "def available_moves(agent):\n",
        "  # can move if distance to point is 1 and point is not occupied and moving\n",
        "  # would not leave a 1-neighbor without any 1-neighbors itself\n",
        "  def is_in_grid(coord):\n",
        "    if coord[0]>=0 and coord[1]>=0:\n",
        "      try:\n",
        "        x = grid[coord]\n",
        "        return True\n",
        "      except:\n",
        "        return False\n",
        "    else:\n",
        "      return False\n",
        "  \n",
        "  def is_occupied(coord):\n",
        "    return bool(grid[coord])\n",
        "  \n",
        "  def is_isolating_move(agent,prospective_move):\n",
        "    agent_after_move = agent\n",
        "    agent_after_move['true_coordinates'] = move\n",
        "    one_neighbors_after_move = get_neighbors_and_distances(agent,radius=1)[0]\n",
        "    if len(one_neighbors_after_move) == 0:\n",
        "      return True\n",
        "    else:\n",
        "      return False\n",
        "  \n",
        "  def is_abandoning_move(agent,prospective_move):\n",
        "    # if agent is only neighbor for some 1-neighbor\n",
        "    # if moving would remove that 1-neighbor from agent's neighbors\n",
        "    one_neighbors_for_which_agent_is_only_neighbor = []\n",
        "    for i in one_neighbors(agent):\n",
        "      neighbor = agents[i]\n",
        "      if len(neighbor['neighbors']) == 1:\n",
        "        one_neighbors_for_which_agent_is_only_neighbor.append(i)\n",
        "    \n",
        "    if len(one_neighbors_for_which_agent_is_only_neighbor)==0:\n",
        "      return False\n",
        "    else:\n",
        "      out = False\n",
        "      for i in one_neighbors_for_which_agent_is_only_neighbor:\n",
        "        neighbor = agents[i]\n",
        "        if distance_metric(prospective_move,neighbor['true_coordinates'])>1:\n",
        "          out = True\n",
        "          break\n",
        "      return out\n",
        "\n",
        "  (x,y) = agent['true_coordinates']\n",
        "  candidate_moves = [(x+1,y),(x-1,y),(x,y+1),(x,y-1),\n",
        "                    (x+1,y+1),(x+1,y-1),(x-1,y+1),(x-1,y-1)]\n",
        "  available_moves = []\n",
        "  for move in candidate_moves:\n",
        "    if is_in_grid(move):\n",
        "      if not is_occupied(move):\n",
        "        if not is_isolating_move(agent,move):\n",
        "          if not is_abandoning_move(agent,move):\n",
        "            available_moves.append(move)\n",
        "        \n",
        "  return available_moves\n",
        "\n",
        "print available_moves(agents[0])\n",
        "print available_moves(agents[-1]) "
      ],
      "execution_count": 34,
      "outputs": [
        {
          "output_type": "stream",
          "text": [
            "[]\n",
            "[(10, 9), (9, 10), (10, 8), (8, 10)]\n"
          ],
          "name": "stdout"
        }
      ]
    },
    {
      "metadata": {
        "id": "nlmB58-jcWGP",
        "colab_type": "code",
        "colab": {
          "base_uri": "https://localhost:8080/",
          "height": 123
        },
        "outputId": "19b75e8d-0e17-4c8c-9ec4-55490a02be73"
      },
      "cell_type": "code",
      "source": [
        "def best_moves(agent):\n",
        "  # how far to shape after a given move?\n",
        "  available_moves(agent)\n",
        "  nearest_point_in_shape(agent)\n",
        "\n",
        "#def prospective_movement(agent):\n",
        "#  nearest_points = nearest_points_in_shape\n",
        "#  (x,y)=agent['estimated_coordinates']\n",
        "  #nearest_\n",
        "  # clockwise edge-following"
      ],
      "execution_count": 31,
      "outputs": [
        {
          "output_type": "execute_result",
          "data": {
            "text/plain": [
              "{'distances': [1, 1, 1],\n",
              " 'estimated_coordinates': (9, 9),\n",
              " 'gradient_value': 0,\n",
              " 'id': '3b9f59ef-f8fa-4a0d-a9e4-1ac6cb60d00d',\n",
              " 'neighbors': [88, 89, 98],\n",
              " 'true_coordinates': (9, 9)}"
            ]
          },
          "metadata": {
            "tags": []
          },
          "execution_count": 31
        }
      ]
    },
    {
      "metadata": {
        "id": "s_GeIpHtxpgj",
        "colab_type": "code",
        "colab": {}
      },
      "cell_type": "code",
      "source": [
        ""
      ],
      "execution_count": 0,
      "outputs": []
    }
  ]
}