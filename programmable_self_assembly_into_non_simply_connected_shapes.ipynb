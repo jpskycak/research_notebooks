{
  "nbformat": 4,
  "nbformat_minor": 0,
  "metadata": {
    "colab": {
      "name": "programmable_self_assembly_into_non-simply-connected_shapes.ipynb",
      "version": "0.3.2",
      "provenance": [],
      "collapsed_sections": []
    },
    "kernelspec": {
      "name": "python2",
      "display_name": "Python 2"
    }
  },
  "cells": [
    {
      "cell_type": "markdown",
      "metadata": {
        "id": "view-in-github",
        "colab_type": "text"
      },
      "source": [
        "[View in Colaboratory](https://colab.research.google.com/github/jpskycak/research_notebooks/blob/master/programmable_self_assembly_into_non_simply_connected_shapes.ipynb)"
      ]
    },
    {
      "metadata": {
        "id": "lULJBcZs-qHm",
        "colab_type": "code",
        "colab": {
          "base_uri": "https://localhost:8080/",
          "height": 696
        },
        "outputId": "beec662a-c386-426e-a9b4-10ee54263f9c"
      },
      "cell_type": "code",
      "source": [
        "import numpy as np\n",
        "import matplotlib.pyplot as plt\n",
        "import itertools\n",
        "import random\n",
        "\n",
        "# initial coordinates for agents\n",
        "L = 10\n",
        "scaling_factor = 5\n",
        "gridshape = (scaling_factor*L,scaling_factor*L)\n",
        "grid = np.zeros(gridshape)\n",
        "grid[:L,:L] = 1\n",
        "plt.imshow(grid)\n",
        "plt.grid(False)\n",
        "plt.show()\n",
        "\n",
        "# make shape\n",
        "shape = np.zeros(gridshape)\n",
        "shape[L:-3,L:-3] = 1\n",
        "shape[int(1.25*L):-3,int(1.25*L):-3] = 0 \n",
        "\n",
        "plt.imshow(shape)\n",
        "plt.grid(False)\n",
        "plt.show()\n",
        "\n",
        "shape_coordinates = []\n",
        "for x in range(shape.shape[0]):\n",
        "  for y in range(shape.shape[1]):\n",
        "    if shape[x,y] == 1:\n",
        "      shape_coordinates.append((x,y))\n",
        "shape_coordinates[:5]"
      ],
      "execution_count": 1,
      "outputs": [
        {
          "output_type": "display_data",
          "data": {
            "image/png": "[encoded data removed]",
            "text/plain": [
              "<matplotlib.figure.Figure at 0x7f6728848910>"
            ]
          },
          "metadata": {
            "tags": []
          }
        },
        {
          "output_type": "display_data",
          "data": {
            "image/png": "[encoded data removed]",
            "text/plain": [
              "<matplotlib.figure.Figure at 0x7f6725f9c3d0>"
            ]
          },
          "metadata": {
            "tags": []
          }
        },
        {
          "output_type": "execute_result",
          "data": {
            "text/plain": [
              "[(10, 10), (10, 11), (10, 12), (10, 13), (10, 14)]"
            ]
          },
          "metadata": {
            "tags": []
          },
          "execution_count": 1
        }
      ]
    },
    {
      "metadata": {
        "id": "SqruOrLOCLwy",
        "colab_type": "code",
        "colab": {
          "base_uri": "https://localhost:8080/",
          "height": 123
        },
        "outputId": "6c4610a9-7579-4ed7-fac3-01a3a0fc378b"
      },
      "cell_type": "code",
      "source": [
        "# instantiate agents at initial coordinates\n",
        "# initialize estimated coordinates as true initial coordinates\n",
        "# update_neighbors_and_distances()\n",
        "\n",
        "agents = []\n",
        "for x in range(L):\n",
        "  for y in range(L):\n",
        "    if grid[x,y]==1:\n",
        "      agents.append({'true_coordinates':(x,y),'estimated_coordinates':(x,y),'id':len(agents),'is_source':bool((x,y)==(L-1,L-1))})\n",
        "\n",
        "def distance_metric(a,b):\n",
        "  return max(abs(a[0]-b[0]),abs(a[1]-b[1]))\n",
        "\n",
        "def in_radius(test_point,center,radius):\n",
        "  out = False\n",
        "  if distance_metric(test_point,center) <= radius:\n",
        "    out = True\n",
        "  return out\n",
        "\n",
        "def get_neighbors_distances_estimations(agent,radius=1):\n",
        "  center = agent['true_coordinates']\n",
        "  neighbors = [i for i,a in enumerate(agents) if in_radius(a['true_coordinates'],center,radius) and a['id'] != agent['id']]\n",
        "  distances = [distance_metric(agents[i]['true_coordinates'],center) for i in neighbors]\n",
        "  estimated_coordinates = agent['estimated_coordinates']\n",
        "  \n",
        "  if len(neighbors)>0:\n",
        "  \n",
        "    neighbors_estimated_coordinates = [agents[n]['estimated_coordinates'] for n in neighbors]\n",
        "    # DEBUG: print 'neighbors for agent id ',agent['id'],' at ',center,'are: ',neighbors\n",
        "    def error_estimated_coordinates(xy):\n",
        "      discrepancies = [d - distance_metric(xy,neighbors_estimated_coordinates[i]) for i,d in enumerate(distances)]\n",
        "      return sum([abs(d) for d in discrepancies])\n",
        "\n",
        "    neighbors_estimated_coordinates_x = [c[0] for c in neighbors_estimated_coordinates]\n",
        "    neighbors_estimated_coordinates_y = [c[1] for c in neighbors_estimated_coordinates]\n",
        "    [min_x, max_x] = [min(neighbors_estimated_coordinates_x), max(neighbors_estimated_coordinates_x)]\n",
        "    [min_y, max_y] = [min(neighbors_estimated_coordinates_y), max(neighbors_estimated_coordinates_y)]\n",
        "    candidate_estimations = list(itertools.product(range(min_x,max_x+1),range(min_y,max_y+1)))\n",
        "    candidate_estimation_errors = [error_estimated_coordinates(xy) for xy in candidate_estimations]\n",
        "\n",
        "    optimal_estimations = [candidate_estimations[i] for i,err in enumerate(candidate_estimation_errors) if err==min(candidate_estimation_errors)]\n",
        "    estimated_coordinates = random.choice(optimal_estimations)\n",
        "  \n",
        "  return [neighbors,distances,estimated_coordinates]\n",
        "\n",
        "\n",
        "for a in agents:\n",
        "  [a['neighbors'],a['distances'],a['estimated_coordinates']] = get_neighbors_distances_estimations(a)\n",
        "  \n",
        "agents[0]"
      ],
      "execution_count": 2,
      "outputs": [
        {
          "output_type": "execute_result",
          "data": {
            "text/plain": [
              "{'distances': [1, 1, 1],\n",
              " 'estimated_coordinates': (0, 0),\n",
              " 'id': 0,\n",
              " 'is_source': False,\n",
              " 'neighbors': [1, 10, 11],\n",
              " 'true_coordinates': (0, 0)}"
            ]
          },
          "metadata": {
            "tags": []
          },
          "execution_count": 2
        }
      ]
    },
    {
      "metadata": {
        "id": "WXLHjhoJx3wz",
        "colab_type": "code",
        "colab": {
          "base_uri": "https://localhost:8080/",
          "height": 141
        },
        "outputId": "7864adf0-e15b-4b38-c460-40e9c157e910"
      },
      "cell_type": "code",
      "source": [
        "# initialize gradient values. source agent is at (L-1,L-1)\n",
        "\n",
        "for a in agents:\n",
        "  if a['is_source']:\n",
        "    a['gradient_value'] = 0\n",
        "    for neighbor_index in a['neighbors']:\n",
        "      neighbor = agents[neighbor_index]\n",
        "      neighbor['gradient_value'] = 1\n",
        "      \n",
        "def do_all_agents_have_gradient_values():\n",
        "  ans = True\n",
        "  for a in agents:\n",
        "    if 'gradient_value' not in a.keys():\n",
        "      ans = False\n",
        "  return ans\n",
        "\n",
        "while not do_all_agents_have_gradient_values():\n",
        "  for a in agents:\n",
        "    if 'gradient_value' not in a.keys():\n",
        "      neighbors = [agents[i] for i in a['neighbors']]\n",
        "      min_gradient_in_neighbors = 9*10**10\n",
        "      should_assign_gradient_value = False\n",
        "      for neighbor in neighbors:\n",
        "        if 'gradient_value' in neighbor.keys():\n",
        "          min_gradient_in_neighbors = min(neighbor['gradient_value'],min_gradient_in_neighbors)\n",
        "          should_assign_gradient_value = True\n",
        "      if should_assign_gradient_value:\n",
        "        a['gradient_value'] = 1+min_gradient_in_neighbors\n",
        "  \n",
        "agents[0]"
      ],
      "execution_count": 3,
      "outputs": [
        {
          "output_type": "execute_result",
          "data": {
            "text/plain": [
              "{'distances': [1, 1, 1],\n",
              " 'estimated_coordinates': (0, 0),\n",
              " 'gradient_value': 9,\n",
              " 'id': 0,\n",
              " 'is_source': False,\n",
              " 'neighbors': [1, 10, 11],\n",
              " 'true_coordinates': (0, 0)}"
            ]
          },
          "metadata": {
            "tags": []
          },
          "execution_count": 3
        }
      ]
    },
    {
      "metadata": {
        "id": "suTwySBe67rZ",
        "colab_type": "code",
        "colab": {
          "base_uri": "https://localhost:8080/",
          "height": 347
        },
        "outputId": "89074790-5af3-480e-de03-e2f6711d96d2"
      },
      "cell_type": "code",
      "source": [
        "# check gradient\n",
        "gradient = np.zeros(gridshape)\n",
        "for a in agents:\n",
        "  [x,y] = a['true_coordinates']\n",
        "  gradient[x,y] = a['gradient_value']\n",
        "  \n",
        "plt.imshow(gradient)\n",
        "plt.grid(False)\n",
        "plt.show()"
      ],
      "execution_count": 4,
      "outputs": [
        {
          "output_type": "display_data",
          "data": {
            "image/png": "[encoded data removed]",
            "text/plain": [
              "<matplotlib.figure.Figure at 0x7f6725f0b810>"
            ]
          },
          "metadata": {
            "tags": []
          }
        }
      ]
    },
    {
      "metadata": {
        "id": "tGwOU578Bffb",
        "colab_type": "code",
        "colab": {
          "base_uri": "https://localhost:8080/",
          "height": 70
        },
        "outputId": "867f00a5-9aeb-4eb0-ec55-7dc57365788c"
      },
      "cell_type": "code",
      "source": [
        "# edge-following\n",
        "\n",
        "def valid_prospective_displacements(agent):\n",
        "\n",
        "  def is_in_grid_and_not_occupied(agent, prospective_displacement):\n",
        "    \n",
        "    if prospective_displacement == (0,0):\n",
        "      return True\n",
        "    else:\n",
        "      (x,y) = agent['true_coordinates']\n",
        "      (dx,dy) = prospective_displacement\n",
        "      prospective_coordinates = (x+dx,y+dy)\n",
        "      if prospective_coordinates[0]<0 or prospective_coordinates[1]<0:\n",
        "        return False\n",
        "      else:\n",
        "        ans = True\n",
        "        for n in unit_neighbors(agent):\n",
        "          if prospective_coordinates==agents[n]['true_coordinates']:\n",
        "            ans = False\n",
        "            break\n",
        "        return ans\n",
        "  \n",
        "  #def is_reversal(agent,prospective_displacement):\n",
        "  #  if prospective_displacement==(0,0) or previous_displacement==(0,0):\n",
        "  #    return False\n",
        "  #  else:\n",
        "  #    if (prospective_displacement[0]+previous_displacement[0],prospective_displacement[1]+previous_displacement[1]) == (0,0):\n",
        "  #      return True\n",
        "  #    else:\n",
        "  #      return False\n",
        "    \n",
        "  def unit_neighbors(agent):\n",
        "    return [n for i,n in enumerate(agent['neighbors']) if agent['distances'][i]==1]\n",
        "  \n",
        "  def get_prospective_agent(agent,prospective_displacement):\n",
        "    (x_est,y_est) = agent['estimated_coordinates']\n",
        "    (x_true,y_true) = agent['true_coordinates']\n",
        "    \n",
        "    prospective_agent = agent.copy()\n",
        "    prospective_agent['true_coordinates'] = (x_true+prospective_displacement[0],y_true+prospective_displacement[1])\n",
        "    # DEBUG: print 'get_neighbors_distances_estimations called in get_prospective_agent with displacement',prospective_displacement\n",
        "    [prospective_agent['neighbors'],prospective_agent['distances'],prospective_agent['estimated_coordinates']] = get_neighbors_distances_estimations(prospective_agent)\n",
        "    return prospective_agent\n",
        "\n",
        "  def is_isolating(agent,prospective_displacement):\n",
        "    # DEBUG: print 'get_prospective_agent called in is_isolating'\n",
        "    prospective_agent = get_prospective_agent(agent,prospective_displacement)\n",
        "    self_isolating = (1 not in prospective_agent['distances'])\n",
        "    is_isolating = bool(self_isolating)\n",
        "    if not is_isolating: # need to check if it isolated any unit neighbors\n",
        "      for n in unit_neighbors(agent):\n",
        "        if len(unit_neighbors(agents[n])) == 1: # isolation can only occur if agent is unit neighbor's only unit neighbor\n",
        "          if n not in unit_neighbors(prospective_agent): # check if agent is no longer neighbor to this unit neighbor\n",
        "            is_isolating = True\n",
        "            break\n",
        "    return is_isolating\n",
        "\n",
        "  if agent['is_source']:\n",
        "    return [(0,0)]\n",
        "  else:\n",
        "    prospective_displacements = list(itertools.product([-1,0,1],[-1,0,1]))\n",
        "    valid_prospective_displacements = []\n",
        "    for d in prospective_displacements:\n",
        "      if is_in_grid_and_not_occupied(agent,d):\n",
        "        #if not is_reversal(agent,d):\n",
        "        if not is_isolating(agent,d):\n",
        "          valid_prospective_displacements.append(d)\n",
        "\n",
        "    return valid_prospective_displacements\n",
        "\n",
        "print valid_prospective_displacements(agents[0])\n",
        "print valid_prospective_displacements(agents[-1])\n",
        "print valid_prospective_displacements(agents[-2])"
      ],
      "execution_count": 6,
      "outputs": [
        {
          "output_type": "stream",
          "text": [
            "[(0, 0)]\n",
            "[(0, 0)]\n",
            "[(0, 0), (1, -1), (1, 0), (1, 1)]\n"
          ],
          "name": "stdout"
        }
      ]
    },
    {
      "metadata": {
        "id": "CZPh-aJr7KL7",
        "colab_type": "code",
        "colab": {
          "base_uri": "https://localhost:8080/",
          "height": 52
        },
        "outputId": "da949d26-5b61-44ef-8c28-faef363510fb"
      },
      "cell_type": "code",
      "source": [
        "def estimated_distance_to_shape(agent,prospective_displacement):\n",
        "  (x,y) = agent['estimated_coordinates']\n",
        "  (dx,dy) = prospective_displacement\n",
        "  prospective_estimated_coordinates = (x+dx,y+dy)\n",
        "  distances = [distance_metric(prospective_estimated_coordinates,p) for p in shape_coordinates]\n",
        "  return min(distances)\n",
        "\n",
        "def chosen_displacement(agent,shape_coordinates):\n",
        "  displacements = valid_prospective_displacements(agent)\n",
        "  distances = [estimated_distance_to_shape(agents[-2],d) for d in displacements]\n",
        "  min_distance = min(distances)\n",
        "  optimal_displacements = [displacements[i] for i,d in enumerate(distances) if d==min_distance]\n",
        "  return random.choice(optimal_displacements)\n",
        "\n",
        "print [estimated_distance_to_shape(agents[-2],d) for d in valid_prospective_displacements(agents[-2])]\n",
        "print chosen_displacement(agents[-2],shape_coordinates)\n",
        "#def edge_follow(agent,shape_coordinates):\n",
        "#  return get_prospective_agent(agent,best_displacement(agent,shape_coordinates))"
      ],
      "execution_count": 7,
      "outputs": [
        {
          "output_type": "stream",
          "text": [
            "[2, 3, 2, 1]\n",
            "(1, 1)\n"
          ],
          "name": "stdout"
        }
      ]
    },
    {
      "metadata": {
        "id": "6HouB9RaEj8Z",
        "colab_type": "code",
        "colab": {}
      },
      "cell_type": "code",
      "source": [
        "original_agents = [a.copy() for a in agents]\n",
        "def reset_agents():\n",
        "  agents = [a.copy() for a in original_agents]"
      ],
      "execution_count": 0,
      "outputs": []
    },
    {
      "metadata": {
        "id": "_6fJSrgrAg_f",
        "colab_type": "code",
        "colab": {}
      },
      "cell_type": "code",
      "source": [
        "def timestep(agents=agents,shape_coordinates=shape_coordinates):\n",
        "  movable_agents = [i for i,a in enumerate(agents) if len(valid_prospective_displacements(a))>1]\n",
        "  selected_agent = agents[random.choice(movable_agents)]\n",
        "  (x,y) = selected_agent['true_coordinates']\n",
        "  (dx,dy) = chosen_displacement(selected_agent,shape_coordinates)\n",
        "    \n",
        "  selected_agent['true_coordinates'] = (x+dx,y+dy)\n",
        "  previous_neighbors = selected_agent['neighbors']\n",
        "  \n",
        "  def update_agent(a):\n",
        "    [a['neighbors'],a['distances'],a['estimated_coordinates']] = get_neighbors_distances_estimations(a)\n",
        "  update_agent(selected_agent)\n",
        "  new_neighbors = selected_agent['neighbors']\n",
        "  \n",
        "  agents_to_update = list(set(previous_neighbors).union(set(new_neighbors)))\n",
        "  for i in agents_to_update:\n",
        "    update_agent(agents[i])  \n",
        "\n",
        "def plot_grid():\n",
        "  grid = np.zeros((scaling_factor*L,scaling_factor*L))\n",
        "  for s in shape_coordinates:\n",
        "    grid[s]=0.5\n",
        "  for a in agents:\n",
        "    grid[a['true_coordinates']]=1\n",
        "  plt.imshow(grid)\n",
        "  plt.grid(False)\n",
        "  plt.show()"
      ],
      "execution_count": 0,
      "outputs": []
    },
    {
      "metadata": {
        "id": "OrCIjmMPEd42",
        "colab_type": "code",
        "colab": {
          "base_uri": "https://localhost:8080/",
          "height": 3505
        },
        "outputId": "8d6ca7ab-19ef-4094-e81c-b14f9881a511"
      },
      "cell_type": "code",
      "source": [
        "for t in range(1000):\n",
        "  timestep()\n",
        "  if t%100==0:\n",
        "    print 't='+str(t)\n",
        "    plot_grid()"
      ],
      "execution_count": 10,
      "outputs": [
        {
          "output_type": "stream",
          "text": [
            "t=0\n"
          ],
          "name": "stdout"
        },
        {
          "output_type": "display_data",
          "data": {
            "image/png": "[encoded data removed]",
            "text/plain": [
              "<matplotlib.figure.Figure at 0x7f6725e4d5d0>"
            ]
          },
          "metadata": {
            "tags": []
          }
        },
        {
          "output_type": "stream",
          "text": [
            "t=100\n"
          ],
          "name": "stdout"
        },
        {
          "output_type": "display_data",
          "data": {
            "image/png": "[encoded data removed]",
            "text/plain": [
              "<matplotlib.figure.Figure at 0x7f6725d48950>"
            ]
          },
          "metadata": {
            "tags": []
          }
        },
        {
          "output_type": "stream",
          "text": [
            "t=200\n"
          ],
          "name": "stdout"
        },
        {
          "output_type": "display_data",
          "data": {
            "image/png": "[encoded data removed]",
            "text/plain": [
              "<matplotlib.figure.Figure at 0x7f6725d00110>"
            ]
          },
          "metadata": {
            "tags": []
          }
        },
        {
          "output_type": "stream",
          "text": [
            "t=300\n"
          ],
          "name": "stdout"
        },
        {
          "output_type": "display_data",
          "data": {
            "image/png": "[encoded data removed]",
            "text/plain": [
              "<matplotlib.figure.Figure at 0x7f6725d51890>"
            ]
          },
          "metadata": {
            "tags": []
          }
        },
        {
          "output_type": "stream",
          "text": [
            "t=400\n"
          ],
          "name": "stdout"
        },
        {
          "output_type": "display_data",
          "data": {
            "image/png": "[encoded data removed]",
            "text/plain": [
              "<matplotlib.figure.Figure at 0x7f6725c2d750>"
            ]
          },
          "metadata": {
            "tags": []
          }
        },
        {
          "output_type": "stream",
          "text": [
            "t=500\n"
          ],
          "name": "stdout"
        },
        {
          "output_type": "display_data",
          "data": {
            "image/png": "[encoded data removed]",
            "text/plain": [
              "<matplotlib.figure.Figure at 0x7f6725b9b150>"
            ]
          },
          "metadata": {
            "tags": []
          }
        },
        {
          "output_type": "stream",
          "text": [
            "t=600\n"
          ],
          "name": "stdout"
        },
        {
          "output_type": "display_data",
          "data": {
            "image/png": "[encoded data removed]",
            "text/plain": [
              "<matplotlib.figure.Figure at 0x7f6725b41fd0>"
            ]
          },
          "metadata": {
            "tags": []
          }
        },
        {
          "output_type": "stream",
          "text": [
            "t=700\n"
          ],
          "name": "stdout"
        },
        {
          "output_type": "display_data",
          "data": {
            "image/png": "[encoded data removed]",
            "text/plain": [
              "<matplotlib.figure.Figure at 0x7f6725b12150>"
            ]
          },
          "metadata": {
            "tags": []
          }
        },
        {
          "output_type": "stream",
          "text": [
            "t=800\n"
          ],
          "name": "stdout"
        },
        {
          "output_type": "display_data",
          "data": {
            "image/png": "[encoded data removed]",
            "text/plain": [
              "<matplotlib.figure.Figure at 0x7f6725a5b410>"
            ]
          },
          "metadata": {
            "tags": []
          }
        },
        {
          "output_type": "stream",
          "text": [
            "t=900\n"
          ],
          "name": "stdout"
        },
        {
          "output_type": "display_data",
          "data": {
            "image/png": "[encoded data removed]",
            "text/plain": [
              "<matplotlib.figure.Figure at 0x7f6725a41350>"
            ]
          },
          "metadata": {
            "tags": []
          }
        }
      ]
    },
    {
      "metadata": {
        "id": "s_GeIpHtxpgj",
        "colab_type": "code",
        "colab": {}
      },
      "cell_type": "code",
      "source": [
        ""
      ],
      "execution_count": 0,
      "outputs": []
    }
  ]
}