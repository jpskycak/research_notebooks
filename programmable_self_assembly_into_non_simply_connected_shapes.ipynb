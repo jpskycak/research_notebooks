{
  "nbformat": 4,
  "nbformat_minor": 0,
  "metadata": {
    "colab": {
      "name": "programmable_self_assembly_into_non-simply-connected_shapes.ipynb",
      "version": "0.3.2",
      "provenance": [],
      "collapsed_sections": []
    },
    "kernelspec": {
      "name": "python2",
      "display_name": "Python 2"
    }
  },
  "cells": [
    {
      "cell_type": "markdown",
      "metadata": {
        "id": "view-in-github",
        "colab_type": "text"
      },
      "source": [
        "[View in Colaboratory](https://colab.research.google.com/github/jpskycak/research_notebooks/blob/master/programmable_self_assembly_into_non_simply_connected_shapes.ipynb)"
      ]
    },
    {
      "metadata": {
        "id": "lULJBcZs-qHm",
        "colab_type": "code",
        "colab": {
          "base_uri": "https://localhost:8080/",
          "height": 347
        },
        "outputId": "7eca7403-08fb-44e9-ae58-9b58f0bda916"
      },
      "cell_type": "code",
      "source": [
        "import numpy as np\n",
        "import matplotlib.pyplot as plt\n",
        "import uuid\n",
        "\n",
        "# initial coordinates for agents\n",
        "L = 10\n",
        "gridshape = (5*L,5*L)\n",
        "grid = np.zeros(gridshape)\n",
        "grid[:L,:L] = 1\n",
        "plt.imshow(grid)\n",
        "plt.grid(False)\n",
        "plt.show()"
      ],
      "execution_count": 34,
      "outputs": [
        {
          "output_type": "display_data",
          "data": {
            "image/png": "[encoded data removed]",
            "text/plain": [
              "<matplotlib.figure.Figure at 0x7fab1488d310>"
            ]
          },
          "metadata": {
            "tags": []
          }
        }
      ]
    },
    {
      "metadata": {
        "id": "SqruOrLOCLwy",
        "colab_type": "code",
        "colab": {
          "base_uri": "https://localhost:8080/",
          "height": 105
        },
        "outputId": "8999327a-8d67-437f-b1b4-b5478fd0e6cc"
      },
      "cell_type": "code",
      "source": [
        "# instantiate agents at initial coordinates\n",
        "# initialize estimated coordinates as true initial coordinates\n",
        "# compute_neighbors_and_distances()\n",
        "\n",
        "agents = [{'true_coordinates':(x,y),'estimated_coordinates':(x,y),'id':str(uuid.uuid4())} for x in range(gridshape[0]) for y in range(gridshape[1]) if grid[x,y]==1]\n",
        "\n",
        "def distance_metric(a,b):\n",
        "  return max(abs(a[0]-b[0]),abs(a[1]-b[1]))\n",
        "\n",
        "def in_radius(test_point,center,radius):\n",
        "  out = False\n",
        "  if distance_metric(test_point,center) <= radius:\n",
        "    out = True\n",
        "  return out\n",
        "\n",
        "def get_neighbors_and_distances(agent,radius=3):\n",
        "  center = agent['true_coordinates']\n",
        "  neighbors = [i for i,a in enumerate(agents) if in_radius(a['true_coordinates'],center,radius) and a['id'] != agent['id']]\n",
        "  distances = [distance_metric(agents[i]['true_coordinates'],center) for i in neighbors]\n",
        "  return [neighbors,distances]\n",
        "\n",
        "def compute_neighbors_and_distances():\n",
        "  for a in agents:\n",
        "    [neighbors,distances] = get_neighbors_and_distances(a)\n",
        "    a['neighbors'] = neighbors\n",
        "    a['distances'] = distances\n",
        "\n",
        "\n",
        "compute_neighbors_and_distances()\n",
        "  \n",
        "agents[0]"
      ],
      "execution_count": 36,
      "outputs": [
        {
          "output_type": "execute_result",
          "data": {
            "text/plain": [
              "{'distances': [1, 2, 3, 1, 1, 2, 3, 2, 2, 2, 3, 3, 3, 3, 3],\n",
              " 'estimated_coordinates': (0, 0),\n",
              " 'id': '3cd8ceea-33e3-4e75-a063-67f067ddb9ab',\n",
              " 'neighbors': [1, 2, 3, 10, 11, 12, 13, 20, 21, 22, 23, 30, 31, 32, 33],\n",
              " 'true_coordinates': (0, 0)}"
            ]
          },
          "metadata": {
            "tags": []
          },
          "execution_count": 36
        }
      ]
    },
    {
      "metadata": {
        "id": "WXLHjhoJx3wz",
        "colab_type": "code",
        "colab": {
          "base_uri": "https://localhost:8080/",
          "height": 123
        },
        "outputId": "fbd2b347-5174-4fae-d096-806cf4e5dbf7"
      },
      "cell_type": "code",
      "source": [
        "# initialize gradient values. source agent is at (L-1,L-1)\n",
        "\n",
        "for a in agents:\n",
        "  if a['true_coordinates'] == (L-1,L-1):\n",
        "    a['gradient_value'] = 0\n",
        "    for neighbor_index in a['neighbors']:\n",
        "      neighbor = agents[neighbor_index]\n",
        "      neighbor['gradient_value'] = 1\n",
        "      \n",
        "def do_all_agents_have_gradient_values():\n",
        "  ans = True\n",
        "  for a in agents:\n",
        "    if 'gradient_value' not in a.keys():\n",
        "      ans = False\n",
        "  return ans\n",
        "\n",
        "while not do_all_agents_have_gradient_values():\n",
        "  for a in agents:\n",
        "    if 'gradient_value' not in a.keys():\n",
        "      neighbors = [agents[i] for i in a['neighbors']]\n",
        "      min_gradient_in_neighbors = 9*10**10\n",
        "      should_assign_gradient_value = False\n",
        "      for neighbor in neighbors:\n",
        "        if 'gradient_value' in neighbor.keys():\n",
        "          min_gradient_in_neighbors = min(neighbor['gradient_value'],min_gradient_in_neighbors)\n",
        "          should_assign_gradient_value = True\n",
        "      if should_assign_gradient_value:\n",
        "        a['gradient_value'] = 1+min_gradient_in_neighbors\n",
        "  \n",
        "agents[0]"
      ],
      "execution_count": 37,
      "outputs": [
        {
          "output_type": "execute_result",
          "data": {
            "text/plain": [
              "{'distances': [1, 2, 3, 1, 1, 2, 3, 2, 2, 2, 3, 3, 3, 3, 3],\n",
              " 'estimated_coordinates': (0, 0),\n",
              " 'gradient_value': 3,\n",
              " 'id': '3cd8ceea-33e3-4e75-a063-67f067ddb9ab',\n",
              " 'neighbors': [1, 2, 3, 10, 11, 12, 13, 20, 21, 22, 23, 30, 31, 32, 33],\n",
              " 'true_coordinates': (0, 0)}"
            ]
          },
          "metadata": {
            "tags": []
          },
          "execution_count": 37
        }
      ]
    },
    {
      "metadata": {
        "id": "suTwySBe67rZ",
        "colab_type": "code",
        "colab": {
          "base_uri": "https://localhost:8080/",
          "height": 347
        },
        "outputId": "d968b38c-6c79-43de-8502-249990d5aa68"
      },
      "cell_type": "code",
      "source": [
        "# check gradient\n",
        "gradient = np.zeros(gridshape)\n",
        "for a in agents:\n",
        "  [x,y] = a['true_coordinates']\n",
        "  gradient[x,y] = a['gradient_value']\n",
        "  \n",
        "plt.imshow(gradient)\n",
        "plt.grid(False)\n",
        "plt.show()"
      ],
      "execution_count": 39,
      "outputs": [
        {
          "output_type": "display_data",
          "data": {
            "image/png": "[encoded data removed]",
            "text/plain": [
              "<matplotlib.figure.Figure at 0x7fab149ad0d0>"
            ]
          },
          "metadata": {
            "tags": []
          }
        }
      ]
    },
    {
      "metadata": {
        "id": "Bt6gL9WvP_IN",
        "colab_type": "code",
        "colab": {
          "base_uri": "https://localhost:8080/",
          "height": 365
        },
        "outputId": "2bde633d-eead-45f0-8f1f-a07c74418b09"
      },
      "cell_type": "code",
      "source": [
        "# make shape\n",
        "shape = np.zeros(gridshape)\n",
        "shape[L:-3,L:-3] = 1\n",
        "shape[int(1.25*L):-3,int(1.25*L):-3] = 0 \n",
        "\n",
        "plt.imshow(shape)\n",
        "plt.grid(False)\n",
        "plt.show()\n",
        "\n",
        "shape_coordinates = []\n",
        "for x in range(shape.shape[0]):\n",
        "  for y in range(shape.shape[1]):\n",
        "    if shape[x,y] == 1:\n",
        "      shape_coordinates.append((x,y))\n",
        "shape_coordinates[:5]"
      ],
      "execution_count": 45,
      "outputs": [
        {
          "output_type": "display_data",
          "data": {
            "image/png": "[encoded data removed]",
            "text/plain": [
              "<matplotlib.figure.Figure at 0x7fab149b9390>"
            ]
          },
          "metadata": {
            "tags": []
          }
        },
        {
          "output_type": "execute_result",
          "data": {
            "text/plain": [
              "[(10, 10), (10, 11), (10, 12), (10, 13), (10, 14)]"
            ]
          },
          "metadata": {
            "tags": []
          },
          "execution_count": 45
        }
      ]
    },
    {
      "metadata": {
        "id": "HjoFAdZiQLpF",
        "colab_type": "code",
        "colab": {}
      },
      "cell_type": "code",
      "source": [
        "# timestep:\n",
        "# 1. all agents edge-follow one step if able.\n",
        "# 2. compute_neighbors_and_distances(),\n",
        "# 3. recompute gradient and estimated coordinates\n",
        "# (as those which minimize the discrepancy between the observed distances to neighbors\n",
        "# and the distances calculated using neighbors' estimations of their own coordinates)"
      ],
      "execution_count": 0,
      "outputs": []
    },
    {
      "metadata": {
        "id": "tGwOU578Bffb",
        "colab_type": "code",
        "colab": {}
      },
      "cell_type": "code",
      "source": [
        "# edge-follow\n",
        "\n",
        "def agent_thinks_its_in_shape(agent):\n",
        "  if agent['estimated_coordinates'] in shape_coordinates:\n",
        "    return True\n",
        "  else:\n",
        "    return False\n",
        "\n",
        "def prospective_movement(agent):\n",
        "  # clockwise edge-following\n",
        " "
      ],
      "execution_count": 0,
      "outputs": []
    },
    {
      "metadata": {
        "id": "xMBmMWc2yy-s",
        "colab_type": "code",
        "colab": {}
      },
      "cell_type": "code",
      "source": [
        "def euclidean_distance(x0,x1):\n",
        "  return sum((np.array(x0)-np.array(x1))**2)**.5"
      ],
      "execution_count": 0,
      "outputs": []
    },
    {
      "metadata": {
        "id": "hoEU6ARp-q7P",
        "colab_type": "code",
        "colab": {
          "base_uri": "https://localhost:8080/",
          "height": 346
        },
        "outputId": "51394429-0e6b-4ab4-9f0d-385a5e7becce"
      },
      "cell_type": "code",
      "source": [
        ""
      ],
      "execution_count": 31,
      "outputs": [
        {
          "output_type": "display_data",
          "data": {
            "image/png": "[encoded data removed]",
            "text/plain": [
              "<matplotlib.figure.Figure at 0x7fe6350fc890>"
            ]
          },
          "metadata": {
            "tags": []
          }
        }
      ]
    },
    {
      "metadata": {
        "id": "s_GeIpHtxpgj",
        "colab_type": "code",
        "colab": {}
      },
      "cell_type": "code",
      "source": [
        ""
      ],
      "execution_count": 0,
      "outputs": []
    }
  ]
}