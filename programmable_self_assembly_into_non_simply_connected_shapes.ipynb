{
  "nbformat": 4,
  "nbformat_minor": 0,
  "metadata": {
    "colab": {
      "name": "programmable_self_assembly_into_non-simply-connected_shapes.ipynb",
      "version": "0.3.2",
      "provenance": [],
      "collapsed_sections": []
    },
    "kernelspec": {
      "name": "python2",
      "display_name": "Python 2"
    }
  },
  "cells": [
    {
      "cell_type": "markdown",
      "metadata": {
        "id": "view-in-github",
        "colab_type": "text"
      },
      "source": [
        "[View in Colaboratory](https://colab.research.google.com/github/jpskycak/research_notebooks/blob/master/programmable_self_assembly_into_non_simply_connected_shapes.ipynb)"
      ]
    },
    {
      "metadata": {
        "id": "lULJBcZs-qHm",
        "colab_type": "code",
        "colab": {
          "base_uri": "https://localhost:8080/",
          "height": 347
        },
        "outputId": "c0e5cac9-e8eb-4e53-bbb1-c6114c0df00a"
      },
      "cell_type": "code",
      "source": [
        "import numpy as np\n",
        "import matplotlib.pyplot as plt\n",
        "import uuid\n",
        "\n",
        "# initial coordinates for agents\n",
        "L = 10\n",
        "gridshape = (5*L,5*L)\n",
        "grid = np.zeros(gridshape)\n",
        "grid[:L,:L] = 1\n",
        "plt.imshow(grid)\n",
        "plt.grid(False)\n",
        "plt.show()"
      ],
      "execution_count": 12,
      "outputs": [
        {
          "output_type": "display_data",
          "data": {
            "image/png": "[encoded data removed]",
            "text/plain": [
              "<matplotlib.figure.Figure at 0x7fab14bdd6d0>"
            ]
          },
          "metadata": {
            "tags": []
          }
        }
      ]
    },
    {
      "metadata": {
        "id": "SqruOrLOCLwy",
        "colab_type": "code",
        "colab": {
          "base_uri": "https://localhost:8080/",
          "height": 70
        },
        "outputId": "5a7611ea-cdc3-4d92-b0a0-3744baf57535"
      },
      "cell_type": "code",
      "source": [
        "# instantiate agents at initial coordinates\n",
        "\n",
        "agents = [{'true_coordinates':(x,y),'id':str(uuid.uuid4())} for x in range(gridshape[0]) for y in range(gridshape[1]) if grid[x,y]==1]\n",
        "\n",
        "def in_radius(test_point,center,radius):\n",
        "  out = False\n",
        "  if abs(test_point[0]-center[0])<= radius:\n",
        "    if abs(test_point[1]-center[1])<= radius:\n",
        "      out = True\n",
        "  return out\n",
        "\n",
        "def get_neighbors(agent,radius=3):\n",
        "  center = agent['true_coordinates']\n",
        "  neighbors = [i for i,a in enumerate(agents) if in_radius(a['true_coordinates'],center,radius) and a['id'] != agent['id']]\n",
        "  return neighbors\n",
        "\n",
        "for a in agents:\n",
        "  a['neighbors'] = get_neighbors(a)\n",
        "  \n",
        "agents[0]"
      ],
      "execution_count": 14,
      "outputs": [
        {
          "output_type": "execute_result",
          "data": {
            "text/plain": [
              "{'id': 'c929b0c9-e6f1-40b5-b40d-821887abec45',\n",
              " 'neighbors': [1, 2, 3, 10, 11, 12, 13, 20, 21, 22, 23, 30, 31, 32, 33],\n",
              " 'true_coordinates': (0, 0)}"
            ]
          },
          "metadata": {
            "tags": []
          },
          "execution_count": 14
        }
      ]
    },
    {
      "metadata": {
        "id": "WXLHjhoJx3wz",
        "colab_type": "code",
        "colab": {
          "base_uri": "https://localhost:8080/",
          "height": 87
        },
        "outputId": "80e05f82-e77a-4bf7-fea0-66e94e933c5f"
      },
      "cell_type": "code",
      "source": [
        "# initialize gradient values. source agent is at (L-1,L-1)\n",
        "\n",
        "for a in agents:\n",
        "  if a['true_coordinates'] == (L-1,L-1):\n",
        "    a['gradient_value'] = 0\n",
        "    for neighbor_index in a['neighbors']:\n",
        "      neighbor = agents[neighbor_index]\n",
        "      neighbor['gradient_value'] = 1\n",
        "      \n",
        "def do_all_agents_have_gradient_values():\n",
        "  ans = True\n",
        "  for a in agents:\n",
        "    if 'gradient_value' not in a.keys():\n",
        "      ans = False\n",
        "  return ans\n",
        "\n",
        "while not do_all_agents_have_gradient_values():\n",
        "  for a in agents:\n",
        "    if 'gradient_value' not in a.keys():\n",
        "      neighbors = [agents[i] for i in a['neighbors']]\n",
        "      min_gradient_in_neighbors = 9*10**10\n",
        "      should_assign_gradient_value = False\n",
        "      for neighbor in neighbors:\n",
        "        if 'gradient_value' in neighbor.keys():\n",
        "          min_gradient_in_neighbors = min(neighbor['gradient_value'],min_gradient_in_neighbors)\n",
        "          should_assign_gradient_value = True\n",
        "      if should_assign_gradient_value:\n",
        "        a['gradient_value'] = 1+min_gradient_in_neighbors\n",
        "  \n",
        "agents[0]"
      ],
      "execution_count": 21,
      "outputs": [
        {
          "output_type": "execute_result",
          "data": {
            "text/plain": [
              "{'gradient_value': 3,\n",
              " 'id': 'c929b0c9-e6f1-40b5-b40d-821887abec45',\n",
              " 'neighbors': [1, 2, 3, 10, 11, 12, 13, 20, 21, 22, 23, 30, 31, 32, 33],\n",
              " 'true_coordinates': (0, 0)}"
            ]
          },
          "metadata": {
            "tags": []
          },
          "execution_count": 21
        }
      ]
    },
    {
      "metadata": {
        "id": "suTwySBe67rZ",
        "colab_type": "code",
        "colab": {
          "base_uri": "https://localhost:8080/",
          "height": 347
        },
        "outputId": "6bb1367a-2672-47ec-8924-56f21cdbfa9f"
      },
      "cell_type": "code",
      "source": [
        "# check gradient\n",
        "gradient = np.zeros(gridshape)\n",
        "for a in agents:\n",
        "  [x,y] = a['true_coordinates']\n",
        "  gradient[x,y] = a['gradient_value']\n",
        "  \n",
        "plt.imshow(gradient)\n",
        "plt.grid(False)\n",
        "plt.show()"
      ],
      "execution_count": 25,
      "outputs": [
        {
          "output_type": "display_data",
          "data": {
            "image/png": "[encoded data removed]",
            "text/plain": [
              "<matplotlib.figure.Figure at 0x7fab14982150>"
            ]
          },
          "metadata": {
            "tags": []
          }
        }
      ]
    },
    {
      "metadata": {
        "id": "Ozmju35r8cHv",
        "colab_type": "code",
        "colab": {}
      },
      "cell_type": "code",
      "source": [
        "# initialize estimated_coordinates\n"
      ],
      "execution_count": 0,
      "outputs": []
    },
    {
      "metadata": {
        "id": "xMBmMWc2yy-s",
        "colab_type": "code",
        "colab": {}
      },
      "cell_type": "code",
      "source": [
        "def euclidean_distance(x0,x1):\n",
        "  return sum((np.array(x0)-np.array(x1))**2)**.5"
      ],
      "execution_count": 0,
      "outputs": []
    },
    {
      "metadata": {
        "id": "TrjaO3BS66v5",
        "colab_type": "code",
        "colab": {}
      },
      "cell_type": "code",
      "source": [
        ""
      ],
      "execution_count": 0,
      "outputs": []
    },
    {
      "metadata": {
        "id": "p_oAKQE8FDQw",
        "colab_type": "code",
        "colab": {
          "base_uri": "https://localhost:8080/",
          "height": 167
        },
        "outputId": "99d757df-47bc-4beb-fb4a-8d7c73b85454"
      },
      "cell_type": "code",
      "source": [
        ""
      ],
      "execution_count": 50,
      "outputs": [
        {
          "output_type": "error",
          "ename": "NameError",
          "evalue": "ignored",
          "traceback": [
            "\u001b[0;31m\u001b[0m",
            "\u001b[0;31mNameError\u001b[0mTraceback (most recent call last)",
            "\u001b[0;32m<ipython-input-50-ba11be5ff937>\u001b[0m in \u001b[0;36m<module>\u001b[0;34m()\u001b[0m\n\u001b[0;32m----> 1\u001b[0;31m \u001b[0mwhere\u001b[0m\u001b[0;34m(\u001b[0m\u001b[0;34m[\u001b[0m\u001b[0;36m1\u001b[0m\u001b[0;34m,\u001b[0m\u001b[0;36m1\u001b[0m\u001b[0;34m,\u001b[0m\u001b[0;36m0\u001b[0m\u001b[0;34m]\u001b[0m\u001b[0;34m)\u001b[0m\u001b[0;34m\u001b[0m\u001b[0m\n\u001b[0m",
            "\u001b[0;31mNameError\u001b[0m: name 'where' is not defined"
          ]
        }
      ]
    },
    {
      "metadata": {
        "id": "hoEU6ARp-q7P",
        "colab_type": "code",
        "colab": {
          "base_uri": "https://localhost:8080/",
          "height": 346
        },
        "outputId": "51394429-0e6b-4ab4-9f0d-385a5e7becce"
      },
      "cell_type": "code",
      "source": [
        "shape = np.zeros(gridshape)\n",
        "shape[L:-3,L:-3] = 1\n",
        "shape[int(1.25*L):-3,int(1.25*L):-3] = 0\n",
        "plt.imshow(shape)\n",
        "plt.grid(False)\n",
        "plt.show()"
      ],
      "execution_count": 31,
      "outputs": [
        {
          "output_type": "display_data",
          "data": {
            "image/png": "[encoded data removed]",
            "text/plain": [
              "<matplotlib.figure.Figure at 0x7fe6350fc890>"
            ]
          },
          "metadata": {
            "tags": []
          }
        }
      ]
    },
    {
      "metadata": {
        "id": "s_GeIpHtxpgj",
        "colab_type": "code",
        "colab": {}
      },
      "cell_type": "code",
      "source": [
        ""
      ],
      "execution_count": 0,
      "outputs": []
    }
  ]
}