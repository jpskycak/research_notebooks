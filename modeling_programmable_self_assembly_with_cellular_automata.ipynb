{
  "nbformat": 4,
  "nbformat_minor": 0,
  "metadata": {
    "colab": {
      "name": "modeling_programmable_self_assembly_with_cellular_automata.ipynb",
      "version": "0.3.2",
      "provenance": [],
      "collapsed_sections": [],
      "include_colab_link": true
    },
    "kernelspec": {
      "name": "python2",
      "display_name": "Python 2"
    }
  },
  "cells": [
    {
      "cell_type": "markdown",
      "metadata": {
        "id": "view-in-github",
        "colab_type": "text"
      },
      "source": [
        "[View in Colaboratory](https://colab.research.google.com/github/jpskycak/research_notebooks/blob/master/modeling_programmable_self_assembly_with_cellular_automata.ipynb)"
      ]
    },
    {
      "metadata": {
        "id": "lULJBcZs-qHm",
        "colab_type": "code",
        "colab": {}
      },
      "cell_type": "code",
      "source": [
        "import numpy as np\n",
        "import matplotlib.pyplot as plt\n",
        "import itertools\n",
        "import random\n",
        "  \n",
        "def distance((a,b),(x,y)):\n",
        "  return max(abs(a-x),abs(b-y))\n",
        "def get_coordinates(array):\n",
        "  return [(i,j) for i,row in enumerate(array) for j,val in enumerate(row) if val==1]\n",
        "  \n",
        "class Agents:\n",
        "  \n",
        "  def __init__(self,L=5,scale=5):\n",
        "    self.grid_shape = (scale*L, scale*L)\n",
        "    agents_array = np.zeros(self.grid_shape)\n",
        "    agents_array[L:2*L,L:2*L] = 1\n",
        "    template_array = np.zeros(self.grid_shape)\n",
        "    template_array[2*L-1:3*L-1,2*L-1:3*L-1] = 1\n",
        "    self.template_coordinates = get_coordinates(template_array)\n",
        "    self.agent_coordinates = get_coordinates(agents_array)\n",
        "    self.activity = [True for _ in self.agent_coordinates]\n",
        "    self.activity[-1] = False # source agent\n",
        "    self.direction = [(1,0) for _ in self.agent_coordinates]\n",
        "    self.update_neighbors()\n",
        "    self.log = []\n",
        "  \n",
        "  def plot(self,highlight_agents_by_index=[],contrast=0.666):\n",
        "    grid = np.zeros(self.grid_shape)\n",
        "    for p in self.template_coordinates:\n",
        "      grid[p]=1-contrast\n",
        "    for p in self.agent_coordinates:\n",
        "      grid[p] = 1\n",
        "    for i in highlight_agents_by_index:\n",
        "      grid[self.agent_coordinates[i]] = 1+contrast\n",
        "    plt.imshow(grid)\n",
        "    plt.grid(False)\n",
        "    plt.show()\n",
        "  \n",
        "  def update_neighbors(self):\n",
        "    def get_neighbors(i):\n",
        "      p0 = self.agent_coordinates[i]\n",
        "      return [j for j,p in enumerate(self.agent_coordinates) if distance(p0,p)==1 and i!=j]\n",
        "    \n",
        "    self.neighbors = [get_neighbors(i) for i in range(len(self.agent_coordinates))]\n",
        "  \n",
        "  def surroundings(self,i):\n",
        "    (x0,y0) = self.agent_coordinates[i]\n",
        "    coordinates = [(x0-1,y0),(x0-1,y0+1),(x0,y0+1),(x0+1,y0+1),(x0+1,y0),(x0+1,y0-1),(x0,y0-1),(x0-1,y0-1)]\n",
        "    ans = [{'coordinates': (x,y),\n",
        "            'is_unoccupied': (x,y) not in self.agent_coordinates,\n",
        "            'is_in_template': (x,y) in self.template_coordinates,\n",
        "            'is_in_grid': x in range(self.grid_shape[0]) and y in range(self.grid_shape[1])} for (x,y) in coordinates]\n",
        "    return ans\n",
        "  \n",
        "  def edgefollows(self,i):\n",
        "    #  x  x  o*   x  x  x    x  x  o*   x  o* o\n",
        "    #  x     o    o* o  o*   o*    o    o*    o\n",
        "    #  o* o  o    o  o  o    o  o  o    o  o  o\n",
        "    surr = self.surroundings(i)\n",
        "    o = [s['is_unoccupied'] for s in surr]\n",
        "    ans = []\n",
        "    for k in range(8):\n",
        "      o0, o1, o2, o3, o4, o5, o6, o7 = o[(k+0)%8], o[(k+1)%8], o[(k+2)%8], o[(k+3)%8], o[(k+4)%8], o[(k+5)%8], o[(k+6)%8], o[(k+7)%8]\n",
        "      x5, x6, x7 = not o5, not o6, not o7\n",
        "      if o0 and o1 and o2 and o3 and o4:\n",
        "        if x5 and x6 and x7:\n",
        "          ans = [surr[(k+0)%8]['coordinates'],surr[(k+4)%8]['coordinates']]\n",
        "          break\n",
        "        elif o5 and x6 and x7:\n",
        "          ans = [surr[(k+0)%8]['coordinates'],surr[(k+5)%8]['coordinates']]\n",
        "          break\n",
        "        elif o5 and o6 and x7:\n",
        "          ans = [surr[(k+0)%8]['coordinates'],surr[(k+6)%8]['coordinates']]\n",
        "          break\n",
        "          \n",
        "    surr_in_grid = [s['coordinates'] for s in surr if s['is_in_grid']]\n",
        "    ans = [p for p in ans if p in surr_in_grid]\n",
        "    return ans\n",
        "    \n",
        "  def update_activity_direction_coordinates(self,i):\n",
        "    def prospective_location(i):\n",
        "      (x0,y0) = self.agent_coordinates[i]\n",
        "      (dx,dy) = self.direction[i]\n",
        "      (x,y) = (x0+dx,y0+dy)\n",
        "      return (x,y)\n",
        "    def nearest_to_template(plist):\n",
        "      def distance_to_template(p):\n",
        "        return min([distance(p,t) for t in self.template_coordinates])\n",
        "      distances = [distance_to_template(p) for p in plist]\n",
        "      maxdist = max(distances)\n",
        "      return [plist[j] for j,d in enumerate(distances) if d==maxdist]\n",
        "    def displacement(initial,terminal):\n",
        "      return (terminal[0]-initial[0], terminal[1]-initial[1])\n",
        "      \n",
        "    p0 = self.agent_coordinates\n",
        "    p = prospective_location(i)\n",
        "    if p0 in self.template_coordinates and p not in self.template_coordinates: # turn off if about to leave the shape\n",
        "      self.activity[i] = False\n",
        "      \n",
        "    if self.activity[i]: # edge-follow\n",
        "      e = self.edgefollows(i)\n",
        "      if p in e:\n",
        "        self.agent_coordinates[i] = p\n",
        "      elif len(e)>0:\n",
        "        p = random.choice(nearest_to_template(e))\n",
        "        self.direction[i] = displacement(self.agent_coordinates[i],p)\n",
        "        self.agent_coordinates[i] = p\n",
        "  \n",
        "  def timestep_parallel(self,details=False):\n",
        "    def update_log(i,p0,dir0,activity0,p1,dir1,activity1,neighbors0,edgefollows0):\n",
        "      def arrow(direction):\n",
        "        # arrows: http://xahlee.info/comp/unicode_arrows.html\n",
        "        arrowdict = {'(-1, 0)':'🡑',\n",
        "                    '(-1, 1)':'🡕',\n",
        "                    '(0, 1)':'🡒',\n",
        "                    '(1, 1)':'🡖',\n",
        "                    '(1, 0)':'🡓',\n",
        "                    '(1, -1)':'🡗',\n",
        "                    '(0, -1)':'🡐',\n",
        "                    '(-1, -1)':'🡔'}\n",
        "        return arrowdict[str(direction)]\n",
        "      dir0, dir1 = arrow(dir0), arrow(dir1)\n",
        "      translation_dict = {True:'on',False:'off'}\n",
        "      activity0, activity1 = translation_dict[activity0], translation_dict[activity1]\n",
        "      template_string = 'Agent {0}: [{1},{2},{3},{7},{8}]-->[{4},{5},{6}]'\n",
        "      newstring = template_string.format(i,p0,dir0,activity0,p1,dir1,activity1,neighbors0,edgefollows0)\n",
        "      self.log.append(newstring)\n",
        "    def move(i):\n",
        "      self.update_activity_direction_coordinates(i)\n",
        "      self.update_neighbors()\n",
        "      \n",
        "   # potentially_movable_subset = [i for i,n in enumerate(self.neighbors) if len(n)<4 and self.activity[i]==True]\n",
        "    potentially_movable_subset = [i for i,a in enumerate(self.activity) if len(self.edgefollows(i))>0 and a==True]\n",
        "    random.shuffle(potentially_movable_subset)\n",
        "    for i in potentially_movable_subset:\n",
        "      p0 = self.agent_coordinates[i]\n",
        "      dir0 = self.direction[i]\n",
        "      activity0 = self.activity[i]\n",
        "      neighbors0 = '_'.join([str(self.agent_coordinates[j]) for j in self.neighbors[i]])\n",
        "      edgefollows0 = '_'.join([str(e) for e in self.edgefollows(i)])\n",
        "      move(i)\n",
        "      p1 = self.agent_coordinates[i]\n",
        "      dir1 = self.direction[i]\n",
        "      activity1 = self.activity[i]\n",
        "      update_log(i,p0,dir0,activity0,p1,dir1,activity1,neighbors0,edgefollows0)\n",
        "      if details:\n",
        "        try:\n",
        "          print self.log[-1]\n",
        "        except:\n",
        "          pass\n",
        "        self.plot(highlight_agents_by_index=[i])\n",
        "    \n",
        "######################\n",
        "    \n",
        "#  def timestep_forward_series(self,try_first=0,details=False):\n",
        "#    pre_coordinate = self.agent_coordinates[try_first]\n",
        "#    pre_orientation = self.orientation[try_first]\n",
        "#    self.move(try_first)\n",
        "#    if self.agent_coordinates[try_first] == pre_coordinate and self.orientation[try_first] == pre_orientation: # agent didn't move\n",
        "#      try_first = random.choice([i for i in range(len(self.agent_coordinates)) if self.can_move(i)])\n",
        "#    return try_first   "
      ],
      "execution_count": 0,
      "outputs": []
    },
    {
      "metadata": {
        "id": "R5900FytY5OW",
        "colab_type": "code",
        "colab": {
          "base_uri": "https://localhost:8080/",
          "height": 2433
        },
        "outputId": "7bbab389-2d74-4505-ce53-38104f032b34"
      },
      "cell_type": "code",
      "source": [
        "a = Agents(L=4)\n",
        "a.plot()\n",
        "for i in range(2):\n",
        "  a.timestep_parallel(details=True)\n",
        "  #if i%10==0:\n",
        "  #  a.plot()"
      ],
      "execution_count": 46,
      "outputs": [
        {
          "output_type": "display_data",
          "data": {
            "image/png": "[encoded data removed]",
            "text/plain": [
              "<matplotlib.figure.Figure at 0x7f88e20bd450>"
            ]
          },
          "metadata": {
            "tags": []
          }
        },
        {
          "output_type": "stream",
          "text": [
            "Agent 0: [(4, 4),🡓,on,(4, 5)_(5, 4)_(5, 5),(5, 3)_(3, 5)]-->[(5, 3),🡗,on]\n"
          ],
          "name": "stdout"
        },
        {
          "output_type": "display_data",
          "data": {
            "image/png": "[encoded data removed]",
            "text/plain": [
              "<matplotlib.figure.Figure at 0x7f88e2170510>"
            ]
          },
          "metadata": {
            "tags": []
          }
        },
        {
          "output_type": "stream",
          "text": [
            "Agent 3: [(4, 7),🡓,on,(4, 6)_(5, 6)_(5, 7),(3, 6)_(5, 8)]-->[(3, 6),🡔,on]\n"
          ],
          "name": "stdout"
        },
        {
          "output_type": "display_data",
          "data": {
            "image/png": "[encoded data removed]",
            "text/plain": [
              "<matplotlib.figure.Figure at 0x7f88e20ba390>"
            ]
          },
          "metadata": {
            "tags": []
          }
        },
        {
          "output_type": "stream",
          "text": [
            "Agent 12: [(7, 4),🡓,on,(6, 4)_(6, 5)_(7, 5),(8, 5)_(6, 3)]-->[(6, 3),🡔,on]\n"
          ],
          "name": "stdout"
        },
        {
          "output_type": "display_data",
          "data": {
            "image/png": "[encoded data removed]",
            "text/plain": [
              "<matplotlib.figure.Figure at 0x7f88e1dc5390>"
            ]
          },
          "metadata": {
            "tags": []
          }
        },
        {
          "output_type": "stream",
          "text": [
            "Agent 12: [(6, 3),🡔,on,(5, 3)_(5, 4)_(6, 4),(7, 4)_(5, 2)]-->[(5, 2),🡔,on]\n"
          ],
          "name": "stdout"
        },
        {
          "output_type": "display_data",
          "data": {
            "image/png": "[encoded data removed]",
            "text/plain": [
              "<matplotlib.figure.Figure at 0x7f88e4465f50>"
            ]
          },
          "metadata": {
            "tags": []
          }
        },
        {
          "output_type": "stream",
          "text": [
            "Agent 3: [(3, 6),🡔,on,(4, 5)_(4, 6),(3, 5)_(4, 7)]-->[(3, 5),🡐,on]\n"
          ],
          "name": "stdout"
        },
        {
          "output_type": "display_data",
          "data": {
            "image/png": "[encoded data removed]",
            "text/plain": [
              "<matplotlib.figure.Figure at 0x7f88e21861d0>"
            ]
          },
          "metadata": {
            "tags": []
          }
        },
        {
          "output_type": "stream",
          "text": [
            "Agent 0: [(5, 3),🡗,on,(5, 4)_(6, 4)_(5, 2),]-->[(5, 3),🡗,on]\n"
          ],
          "name": "stdout"
        },
        {
          "output_type": "display_data",
          "data": {
            "image/png": "[encoded data removed]",
            "text/plain": [
              "<matplotlib.figure.Figure at 0x7f88e218ed50>"
            ]
          },
          "metadata": {
            "tags": []
          }
        }
      ]
    },
    {
      "metadata": {
        "id": "Ar6MFW3X9ba5",
        "colab_type": "code",
        "colab": {}
      },
      "cell_type": "code",
      "source": [
        "arrowdict = {'(-1,0)':'🡑',\n",
        "                    '(-1,1)':'🡕',\n",
        "                    '(0,1)':'🡒',\n",
        "                    '(1,1)':'🡖',\n",
        "                    '(1,0)':'🡓',\n",
        "                    '(1,-1)':'🡗',\n",
        "                    '(0,-1)':'🡐',\n",
        "                    '(-1,-1)':'🡔'}"
      ],
      "execution_count": 0,
      "outputs": []
    },
    {
      "metadata": {
        "id": "Zvjkf0J1I7l0",
        "colab_type": "code",
        "colab": {
          "base_uri": "https://localhost:8080/",
          "height": 167
        },
        "outputId": "31930421-af9e-4820-a6ec-99063c094956"
      },
      "cell_type": "code",
      "source": [
        "print arrowdict[str((1,0))]"
      ],
      "execution_count": 31,
      "outputs": [
        {
          "output_type": "error",
          "ename": "KeyError",
          "evalue": "ignored",
          "traceback": [
            "\u001b[0;31m\u001b[0m",
            "\u001b[0;31mKeyError\u001b[0mTraceback (most recent call last)",
            "\u001b[0;32m<ipython-input-31-3438d324b6d8>\u001b[0m in \u001b[0;36m<module>\u001b[0;34m()\u001b[0m\n\u001b[0;32m----> 1\u001b[0;31m \u001b[0;32mprint\u001b[0m \u001b[0marrowdict\u001b[0m\u001b[0;34m[\u001b[0m\u001b[0mstr\u001b[0m\u001b[0;34m(\u001b[0m\u001b[0;34m(\u001b[0m\u001b[0;36m1\u001b[0m\u001b[0;34m,\u001b[0m\u001b[0;36m0\u001b[0m\u001b[0;34m)\u001b[0m\u001b[0;34m)\u001b[0m\u001b[0;34m]\u001b[0m\u001b[0;34m\u001b[0m\u001b[0m\n\u001b[0m",
            "\u001b[0;31mKeyError\u001b[0m: '(1, 0)'"
          ]
        }
      ]
    },
    {
      "metadata": {
        "id": "wQfMO1vIY-bl",
        "colab_type": "text"
      },
      "cell_type": "markdown",
      "source": [
        "FROM BEFORE:"
      ]
    },
    {
      "metadata": {
        "id": "xKtyQ3HQY6Nz",
        "colab_type": "code",
        "colab": {}
      },
      "cell_type": "code",
      "source": [
        "import numpy as np\n",
        "import matplotlib.pyplot as plt\n",
        "import itertools\n",
        "import random\n",
        "  \n",
        "def distance((a,b),(x,y)):\n",
        "  return max(abs(a-x),abs(b-y))\n",
        "def get_coordinates(array):\n",
        "  return [(i,j) for i,row in enumerate(array) for j,val in enumerate(row) if val==1]\n",
        "  \n",
        "class Agents:\n",
        "  \n",
        "  def __init__(self,L=10,scale=5):\n",
        "    self.grid_shape = (scale*L, scale*L)\n",
        "    agents_array = np.zeros(self.grid_shape)\n",
        "    agents_array[L:2*L,L:2*L] = 1\n",
        "    template_array = np.zeros(self.grid_shape)\n",
        "    template_array[2*L-1:3*L-1,2*L-1:3*L-1] = 1\n",
        "    self.template_coordinates = get_coordinates(template_array)\n",
        "    \n",
        "    self.agent_coordinates = get_coordinates(agents_array)\n",
        "    #self.estimated_coordinates = self.true_coordinates\n",
        "    self.orientation = [(1,0) for _ in self.true_coordinates]\n",
        "    self.update_neighbors()\n",
        "    \n",
        "    #prod = [i*j for (i,j) in self.agent_coordinates]\n",
        "    #maxprod = max(prod)\n",
        "    #self.is_source = [bool(p == maxprod) for p in prod]\n",
        "    #self.update_gradient()  \n",
        "    self.log = []\n",
        "  \n",
        "  def plot(self,highlight=[]):\n",
        "    grid = np.zeros(self.grid_shape)\n",
        "    for p in self.template_coordinates:\n",
        "      grid[p]=0.33\n",
        "    #max_gradient = max(self.gradient)\n",
        "    for i,p in enumerate(self.agent_coordinates):\n",
        "      grid[p] = 1#1+ 2*(1 - float(max_gradient - self.gradient[i])/max_gradient)\n",
        "    for i in highlight:\n",
        "      grid[self.agent_coordinates[i]] = 2\n",
        "    plt.imshow(grid)\n",
        "    plt.grid(False)\n",
        "    plt.show()\n",
        "  \n",
        "  def get_neighbors(self,i):\n",
        "    center = self.agent_coordinates[i]\n",
        "    return [j for j,p in enumerate(self.agent_coordinates) if distance(center,p)==1 and i!=j]\n",
        "  def update_neighbors(self):\n",
        "    self.neighbors = [self.get_neighbors(i) for i in range(len(self.agent_coordinates))]\n",
        "  \n",
        "  #def neighbor_gradient_max(self,i):\n",
        "  #  return max([self.gradient[j] for j in self.neighbors[i]])\n",
        "  #def update_gradient(self):\n",
        "  #  self.gradient = ['' for _ in self.agent_coordinates]\n",
        "  #  i_source = self.is_source.index(True)\n",
        "  #  self.gradient[i_source] = 0\n",
        "  #  for j in self.neighbors[i_source]:\n",
        "  #    self.gradient[j] = 1\n",
        "  #  while '' in self.gradient:\n",
        "  #    for i,g in enumerate(self.gradient):\n",
        "  #      if g=='':\n",
        "  #        min_gradient_in_neighbors = 9*10**10\n",
        "  #        should_assign_gradient_value = False\n",
        "  #        for j in self.neighbors[i]:\n",
        "  #          if self.gradient[j] != '':\n",
        "  #            min_gradient_in_neighbors = min(self.gradient[j],min_gradient_in_neighbors)\n",
        "  #            should_assign_gradient_value = True\n",
        "  #        if should_assign_gradient_value:\n",
        "  #          self.gradient[i] = 1+min_gradient_in_neighbors\n",
        "  \n",
        "  #def get_estimated_coordinates(self,i):\n",
        "  #  neighbors_estimated_coordinates = [self.estimated_coordinates[j] for j in self.neighbors[i]]\n",
        "  #  neighbors_estimated_coordinates_x = [p[0] for p in neighbors_estimated_coordinates]\n",
        "  #  neighbors_estimated_coordinates_y = [p[1] for p in neighbors_estimated_coordinates]\n",
        "  #  [min_x, max_x] = [min(neighbors_estimated_coordinates_x), max(neighbors_estimated_coordinates_x)]\n",
        "  #  [min_y, max_y] = [min(neighbors_estimated_coordinates_y), max(neighbors_estimated_coordinates_y)]\n",
        "  #  candidate_estimations = list(itertools.product(range(min_x-1,max_x+2),range(min_y-1,max_y+2)))\n",
        "  #  \n",
        "  #  def error_estimated_coordinates(p):\n",
        "  #    errors = [1 - distance(p,p_neighbor) for p_neighbor in neighbors_estimated_coordinates]\n",
        "  #    return sum([abs(err) for err in errors])\n",
        "  #  \n",
        "  #  candidate_estimation_errors = [error_estimated_coordinates(p) for p in candidate_estimations]\n",
        "  #  optimal_estimations = [candidate_estimations[i] for i,err in enumerate(candidate_estimation_errors) if err==min(candidate_estimation_errors)]\n",
        "  #  estimated_coordinates = random.choice(optimal_estimations)\n",
        "  #  return estimated_coordinates\n",
        "  \n",
        "  #def update_estimated_coordinates(self):\n",
        "  #  self.estimated_coordinates = [self.get_estimated_coordinates(i) for i in range(len(self.true_coordinates))]\n",
        "  \n",
        "  def surroundings(self,i):\n",
        "    (x0,y0) = self.agent_coordinates[i]\n",
        "    coordinates = [(x0-1,y0),(x0-1,y0+1),(x0,y0+1),(x0+1,y0+1),(x0+1,y),(x0+1,y0-1),(x0,y0-1),(x0-1,y0-1)]\n",
        "    ans = [{'coordinates': (x,y), 'is_occupied': (x,y) in self.agent_coordinates, 'is_in_template': (x,y) in self.template_coordinates} for (x,y) in coordinates]\n",
        "  \n",
        "  def is_on_cornerpiece_or_edge(self,i):\n",
        "    #  x x o  x x x  x x o  x o o\n",
        "    #  x   o  o   o  o   o  o   o\n",
        "    #  o o o  o o o  o o o  o o o\n",
        "    neighbor_coordinates = [self.agent_coordinates[j] for j in self.neighbors[i]]\n",
        "    x = [(p in neighbor_coordinates) for p in self.surroundings(i)]\n",
        "    ans = False\n",
        "    for k in range(len(is_occupied)):\n",
        "      if not x[k] and not x[(k+1)%8] and not x[(k+2)%8] and not x[(k+3)%8] and not x[(k+4)%8]:\n",
        "        if (x[(k+5)%8] and x[(k+6)%8] and x[(k+7)%8]) or (not x[(k+5)%8] and x[(k+6)%8] and x[(k+7)%8]) or (not x[(k+5)%8] and not x[(k+6)%8] and x[(k+7)%8]):\n",
        "          ans = True\n",
        "          break\n",
        "    return ans\n",
        "  \n",
        "  def valid_moves(self,i):\n",
        "    ans = [self.agent_coordinates(i)]\n",
        "    if self.is_on_cornerpiece_or_edge(i):\n",
        "      potential_moves = self.surroundings(i)\n",
        "      for (x,y) in potential_moves:\n",
        "        if # doesn't break off\n",
        "        \n",
        "\n",
        "  def can_move(self,i):\n",
        "    ans = False\n",
        "    if self.is_on_cornerpiece_or_edge(i):\n",
        "      if self.move_stays_in_grid(i):\n",
        "        \n",
        "    \n",
        "    \n",
        "    occupied = [self.agent_coordinates[j] for j in self.neighbors[i]]\n",
        "    (x0,y0) = self.agent_coordinates[i]\n",
        "    (dx,dy) = self.orientation[i]\n",
        "    (x,y) = self.coordinates_after_move(i)\n",
        "    surroundings0 = [(x0-1,y0),(x0-1,y0+1),(x0,y0+1),(x0+1,y0+1),(x0+1,y0),(x0+1,y0-1),(x0,y0-1),(x0-1,y0-1)]\n",
        "    surroundings0_unoccupied = [s not in occupied for s in surroundings0]\n",
        "    surroundings = [(x+1,y),(x-1,y),(x,y+1),(x,y-1),(x-1,y-1),(x-1,y+1),(x+1,y-1),(x+1,y+1)]\n",
        "    \n",
        "    \n",
        "    if not any([self.gradient[j]>self.gradient[i] for j in self.neighbors[i]]): # doesn't have neighbor with greater gradient\n",
        "      if any([surroundings0_unoccupied[n%8] and surroundings0_unoccupied[(n+1)%8] and surroundings0_unoccupied[(n+2)%8] and surroundings0_unoccupied[(n+3)%8] for n in range(8)]): # has open semicircle    \n",
        "        if (x,y) not in occupied:\n",
        "          if any([(p in occupied) for p in surroundings if p != (x0,y0)]): # doesn't break off from the mass\n",
        "            if x in range(self.grid_shape[0]) and y in range(self.grid_shape[1]): # stays in grid\n",
        "              if (x0,y0) not in self.template_coordinates or ((x0,y0) in self.template_coordinates and (x,y) in self.template_coordinates): # doesn't exit template\n",
        "                ans = True\n",
        "    return ans\n",
        "  \n",
        "  def move(self,i):\n",
        "    def arrow(orientation):\n",
        "      if orientation == (-1,0):\n",
        "        return '⇡'\n",
        "      elif orientation == (1,0):\n",
        "        return '⇣'\n",
        "      elif orientation == (0,-1):\n",
        "        return '⇠'\n",
        "      elif orientation == (0,1):\n",
        "        return '⇢'\n",
        "    def fill_log_turn(s):\n",
        "      return s.format(i,self.agent_coordinates[i],arrow((dx0,dy0)),' and '.join([arrow(t) for t in turns]),arrow(self.orientation[i]))\n",
        "    def fill_log_edgefollow(s):\n",
        "      return s.format(i,arrow(self.orientation[i]),(x0,y0),self.agent_coordinates[i])\n",
        "    \n",
        "    if self.can_move(i): # edge-follow\n",
        "      (x0,y0) = self.agent_coordinates[i]\n",
        "      (dx,dy) = self.orientation[i]\n",
        "      self.agent_coordinates[i] = (x0+dx,y0+dy)\n",
        "      self.update_neighbors()\n",
        "      #self.update_estimated_coordinates()\n",
        "      self.update_gradient()\n",
        "      self.log.append(fill_log_edgefollow('Agent {0} moves in direction {1} from {2} to {3}.'))\n",
        "    else: # turn\n",
        "      (dx0,dy0) = self.orientation[i]\n",
        "      turns = list(set([(-1,0),(0,1),(1,0),(0,-1)])-set([(-dx0,-dy0),(dx0,dy0)])) # can't go backwards\n",
        "      admissible_turns = []\n",
        "      for t in turns:\n",
        "        self.orientation[i] = t\n",
        "        if self.can_move(i):\n",
        "          admissible_turns.append(t)\n",
        "      if len(admissible_turns) == 0: # keep original orientation\n",
        "        self.orientation[i] = (dx0,dy0)\n",
        "        self.log.append(fill_log_turn('Agent {0} at {1} is unable to move in direction {2}. Of turns {3}, none are valid, so agent maintains direction {4}.'))\n",
        "      elif len(admissible_turns) == 1: # turn\n",
        "        self.orientation[i] = admissible_turns[0]\n",
        "        self.log.append(fill_log_turn('Agent {0} at {1} is unable to move in direction {2}. Of turns {3}, only {4} is valid.'))\n",
        "      elif len(admissible_turns) == 2: # turn in direction that gets closest to shape\n",
        "        distance_to_template = []\n",
        "        (x0,y0) = self.agent_coordinates[i]\n",
        "        for (dx,dy) in turns:\n",
        "          (x,y) = (x0+dx,y0+dy)\n",
        "          distance_to_template.append(min([distance((x,y),p) for p in self.template_coordinates]))\n",
        "        if distance_to_template[0] > distance_to_template[1]:\n",
        "          self.orientation[i] = turns[0]\n",
        "          self.log.append(fill_log_turn('Agent {0} at {1} is unable to move in direction {2}. Both turns {3} are valid, but {4} is more optimal.'))\n",
        "        elif distance_to_template[0] < distance_to_template[1]:\n",
        "          self.orientation[i] = turns[1]\n",
        "          self.log.append(fill_log_turn('Agent {0} at {1} is unable to move in direction {2}. Both turns {3} are valid, but {4} is more optimal.'))\n",
        "        elif distance_to_template[0] == distance_to_template[1]:\n",
        "          self.orientation[i] = random.choice(turns)\n",
        "          self.log.append(fill_log_turn('Agent {0} at {1} is unable to move in direction {2}. Both turns {3} are valid and optimal, and {4} is randomly chosen.'))\n",
        " \n",
        "  def timestep_forward_parallel(self,details=False):\n",
        "    nonsurrounded_subset = [i for i,neighbor_list in enumerate(self.neighbors) if len(neighbor_list)<8]\n",
        "    random.shuffle(nonsurrounded_subset)\n",
        "    for i in nonsurrounded_subset:\n",
        "      self.move(i)\n",
        "      if details:\n",
        "        try:\n",
        "          print self.log[-1]\n",
        "        except:\n",
        "          pass\n",
        "        self.plot(highlight=[i])\n",
        "    \n",
        "  def timestep_forward_series(self,try_first=0,details=False):\n",
        "    pre_coordinate = self.agent_coordinates[try_first]\n",
        "    pre_orientation = self.orientation[try_first]\n",
        "    self.move(try_first)\n",
        "    if self.agent_coordinates[try_first] == pre_coordinate and self.orientation[try_first] == pre_orientation: # agent didn't move\n",
        "      try_first = random.choice([i for i in range(len(self.agent_coordinates)) if self.can_move(i)])\n",
        "    return try_first\n",
        "    "
      ],
      "execution_count": 0,
      "outputs": []
    },
    {
      "metadata": {
        "id": "ye15vozy-Gun",
        "colab_type": "code",
        "colab": {
          "base_uri": "https://localhost:8080/",
          "height": 1150
        },
        "outputId": "c50a171c-bb2b-4e28-aa9b-852c61b9ccf3"
      },
      "cell_type": "code",
      "source": [
        "a = Agents()\n",
        "try_first = 0\n",
        "for i in range(500):\n",
        "  try_first = a.timestep_forward_series(try_first)\n",
        "  if i%50==0:\n",
        "    a.plot()"
      ],
      "execution_count": 4,
      "outputs": [
        {
          "output_type": "display_data",
          "data": {
            "image/png": "[encoded data removed]",
            "text/plain": [
              "<matplotlib.figure.Figure at 0x7fc390df3dd0>"
            ]
          },
          "metadata": {
            "tags": []
          }
        },
        {
          "output_type": "display_data",
          "data": {
            "image/png": "[encoded data removed]",
            "text/plain": [
              "<matplotlib.figure.Figure at 0x7fc390abdf50>"
            ]
          },
          "metadata": {
            "tags": []
          }
        },
        {
          "output_type": "error",
          "ename": "IndexError",
          "evalue": "ignored",
          "traceback": [
            "\u001b[0;31m\u001b[0m",
            "\u001b[0;31mIndexError\u001b[0mTraceback (most recent call last)",
            "\u001b[0;32m<ipython-input-4-0689e4a5aa09>\u001b[0m in \u001b[0;36m<module>\u001b[0;34m()\u001b[0m\n\u001b[1;32m      2\u001b[0m \u001b[0mtry_first\u001b[0m \u001b[0;34m=\u001b[0m \u001b[0;36m0\u001b[0m\u001b[0;34m\u001b[0m\u001b[0m\n\u001b[1;32m      3\u001b[0m \u001b[0;32mfor\u001b[0m \u001b[0mi\u001b[0m \u001b[0;32min\u001b[0m \u001b[0mrange\u001b[0m\u001b[0;34m(\u001b[0m\u001b[0;36m500\u001b[0m\u001b[0;34m)\u001b[0m\u001b[0;34m:\u001b[0m\u001b[0;34m\u001b[0m\u001b[0m\n\u001b[0;32m----> 4\u001b[0;31m   \u001b[0mtry_first\u001b[0m \u001b[0;34m=\u001b[0m \u001b[0ma\u001b[0m\u001b[0;34m.\u001b[0m\u001b[0mtimestep_forward_series\u001b[0m\u001b[0;34m(\u001b[0m\u001b[0mtry_first\u001b[0m\u001b[0;34m)\u001b[0m\u001b[0;34m\u001b[0m\u001b[0m\n\u001b[0m\u001b[1;32m      5\u001b[0m   \u001b[0;32mif\u001b[0m \u001b[0mi\u001b[0m\u001b[0;34m%\u001b[0m\u001b[0;36m50\u001b[0m\u001b[0;34m==\u001b[0m\u001b[0;36m0\u001b[0m\u001b[0;34m:\u001b[0m\u001b[0;34m\u001b[0m\u001b[0m\n\u001b[1;32m      6\u001b[0m     \u001b[0ma\u001b[0m\u001b[0;34m.\u001b[0m\u001b[0mplot\u001b[0m\u001b[0;34m(\u001b[0m\u001b[0;34m)\u001b[0m\u001b[0;34m\u001b[0m\u001b[0m\n",
            "\u001b[0;32m<ipython-input-1-d842971fe749>\u001b[0m in \u001b[0;36mtimestep_forward_series\u001b[0;34m(self, try_first, details)\u001b[0m\n\u001b[1;32m    177\u001b[0m     \u001b[0mself\u001b[0m\u001b[0;34m.\u001b[0m\u001b[0mmove\u001b[0m\u001b[0;34m(\u001b[0m\u001b[0mtry_first\u001b[0m\u001b[0;34m)\u001b[0m\u001b[0;34m\u001b[0m\u001b[0m\n\u001b[1;32m    178\u001b[0m     \u001b[0;32mif\u001b[0m \u001b[0mself\u001b[0m\u001b[0;34m.\u001b[0m\u001b[0mtrue_coordinates\u001b[0m\u001b[0;34m[\u001b[0m\u001b[0mtry_first\u001b[0m\u001b[0;34m]\u001b[0m \u001b[0;34m==\u001b[0m \u001b[0mpre_coordinate\u001b[0m \u001b[0;32mand\u001b[0m \u001b[0mself\u001b[0m\u001b[0;34m.\u001b[0m\u001b[0morientation\u001b[0m\u001b[0;34m[\u001b[0m\u001b[0mtry_first\u001b[0m\u001b[0;34m]\u001b[0m \u001b[0;34m==\u001b[0m \u001b[0mpre_orientation\u001b[0m\u001b[0;34m:\u001b[0m \u001b[0;31m# agent didn't move\u001b[0m\u001b[0;34m\u001b[0m\u001b[0m\n\u001b[0;32m--> 179\u001b[0;31m       \u001b[0mtry_first\u001b[0m \u001b[0;34m=\u001b[0m \u001b[0mrandom\u001b[0m\u001b[0;34m.\u001b[0m\u001b[0mchoice\u001b[0m\u001b[0;34m(\u001b[0m\u001b[0;34m[\u001b[0m\u001b[0mi\u001b[0m \u001b[0;32mfor\u001b[0m \u001b[0mi\u001b[0m \u001b[0;32min\u001b[0m \u001b[0mrange\u001b[0m\u001b[0;34m(\u001b[0m\u001b[0mlen\u001b[0m\u001b[0;34m(\u001b[0m\u001b[0mself\u001b[0m\u001b[0;34m.\u001b[0m\u001b[0mtrue_coordinates\u001b[0m\u001b[0;34m)\u001b[0m\u001b[0;34m)\u001b[0m \u001b[0;32mif\u001b[0m \u001b[0mself\u001b[0m\u001b[0;34m.\u001b[0m\u001b[0mcan_move\u001b[0m\u001b[0;34m(\u001b[0m\u001b[0mi\u001b[0m\u001b[0;34m)\u001b[0m\u001b[0;34m]\u001b[0m\u001b[0;34m)\u001b[0m\u001b[0;34m\u001b[0m\u001b[0m\n\u001b[0m\u001b[1;32m    180\u001b[0m     \u001b[0;32mreturn\u001b[0m \u001b[0mtry_first\u001b[0m\u001b[0;34m\u001b[0m\u001b[0m\n\u001b[1;32m    181\u001b[0m \u001b[0;34m\u001b[0m\u001b[0m\n",
            "\u001b[0;32m/usr/lib/python2.7/random.pyc\u001b[0m in \u001b[0;36mchoice\u001b[0;34m(self, seq)\u001b[0m\n\u001b[1;32m    275\u001b[0m     \u001b[0;32mdef\u001b[0m \u001b[0mchoice\u001b[0m\u001b[0;34m(\u001b[0m\u001b[0mself\u001b[0m\u001b[0;34m,\u001b[0m \u001b[0mseq\u001b[0m\u001b[0;34m)\u001b[0m\u001b[0;34m:\u001b[0m\u001b[0;34m\u001b[0m\u001b[0m\n\u001b[1;32m    276\u001b[0m         \u001b[0;34m\"\"\"Choose a random element from a non-empty sequence.\"\"\"\u001b[0m\u001b[0;34m\u001b[0m\u001b[0m\n\u001b[0;32m--> 277\u001b[0;31m         \u001b[0;32mreturn\u001b[0m \u001b[0mseq\u001b[0m\u001b[0;34m[\u001b[0m\u001b[0mint\u001b[0m\u001b[0;34m(\u001b[0m\u001b[0mself\u001b[0m\u001b[0;34m.\u001b[0m\u001b[0mrandom\u001b[0m\u001b[0;34m(\u001b[0m\u001b[0;34m)\u001b[0m \u001b[0;34m*\u001b[0m \u001b[0mlen\u001b[0m\u001b[0;34m(\u001b[0m\u001b[0mseq\u001b[0m\u001b[0;34m)\u001b[0m\u001b[0;34m)\u001b[0m\u001b[0;34m]\u001b[0m  \u001b[0;31m# raises IndexError if seq is empty\u001b[0m\u001b[0;34m\u001b[0m\u001b[0m\n\u001b[0m\u001b[1;32m    278\u001b[0m \u001b[0;34m\u001b[0m\u001b[0m\n\u001b[1;32m    279\u001b[0m     \u001b[0;32mdef\u001b[0m \u001b[0mshuffle\u001b[0m\u001b[0;34m(\u001b[0m\u001b[0mself\u001b[0m\u001b[0;34m,\u001b[0m \u001b[0mx\u001b[0m\u001b[0;34m,\u001b[0m \u001b[0mrandom\u001b[0m\u001b[0;34m=\u001b[0m\u001b[0mNone\u001b[0m\u001b[0;34m)\u001b[0m\u001b[0;34m:\u001b[0m\u001b[0;34m\u001b[0m\u001b[0m\n",
            "\u001b[0;31mIndexError\u001b[0m: list index out of range"
          ]
        }
      ]
    },
    {
      "metadata": {
        "id": "NK6W2tLhNWQn",
        "colab_type": "code",
        "colab": {
          "base_uri": "https://localhost:8080/",
          "height": 2665
        },
        "outputId": "a59affc9-a5b0-4f63-b63d-cd580163a8d5"
      },
      "cell_type": "code",
      "source": [
        "a = Agents()\n",
        "for i in range(2000):\n",
        "  a.timestep_forward_parallel()\n",
        "  if i%250==0:\n",
        "    a.plot()"
      ],
      "execution_count": 7,
      "outputs": [
        {
          "output_type": "display_data",
          "data": {
            "image/png": "[encoded data removed]",
            "text/plain": [
              "<matplotlib.figure.Figure at 0x7fc390dbf650>"
            ]
          },
          "metadata": {
            "tags": []
          }
        },
        {
          "output_type": "display_data",
          "data": {
            "image/png": "[encoded data removed]",
            "text/plain": [
              "<matplotlib.figure.Figure at 0x7fc3909bca90>"
            ]
          },
          "metadata": {
            "tags": []
          }
        },
        {
          "output_type": "display_data",
          "data": {
            "image/png": "[encoded data removed]",
            "text/plain": [
              "<matplotlib.figure.Figure at 0x7fc3904b9c50>"
            ]
          },
          "metadata": {
            "tags": []
          }
        },
        {
          "output_type": "display_data",
          "data": {
            "image/png": "[encoded data removed]",
            "text/plain": [
              "<matplotlib.figure.Figure at 0x7fc3905d6fd0>"
            ]
          },
          "metadata": {
            "tags": []
          }
        },
        {
          "output_type": "display_data",
          "data": {
            "image/png": "[encoded data removed]",
            "text/plain": [
              "<matplotlib.figure.Figure at 0x7fc3a193fd50>"
            ]
          },
          "metadata": {
            "tags": []
          }
        },
        {
          "output_type": "display_data",
          "data": {
            "image/png": "[encoded data removed]",
            "text/plain": [
              "<matplotlib.figure.Figure at 0x7fc390dbf3d0>"
            ]
          },
          "metadata": {
            "tags": []
          }
        },
        {
          "output_type": "display_data",
          "data": {
            "image/png": "[encoded data removed]",
            "text/plain": [
              "<matplotlib.figure.Figure at 0x7fc3900bdfd0>"
            ]
          },
          "metadata": {
            "tags": []
          }
        },
        {
          "output_type": "display_data",
          "data": {
            "image/png": "[encoded data removed]",
            "text/plain": [
              "<matplotlib.figure.Figure at 0x7fc390527dd0>"
            ]
          },
          "metadata": {
            "tags": []
          }
        }
      ]
    },
    {
      "metadata": {
        "id": "zxuGL3rb7IqT",
        "colab_type": "code",
        "colab": {
          "base_uri": "https://localhost:8080/",
          "height": 34
        },
        "outputId": "db193e45-bc99-4e8d-9baf-fb2534751871"
      },
      "cell_type": "code",
      "source": [
        "not True or not True"
      ],
      "execution_count": 3,
      "outputs": [
        {
          "output_type": "execute_result",
          "data": {
            "text/plain": [
              "False"
            ]
          },
          "metadata": {
            "tags": []
          },
          "execution_count": 3
        }
      ]
    },
    {
      "metadata": {
        "id": "c5N-Ef9rR8ME",
        "colab_type": "code",
        "colab": {}
      },
      "cell_type": "code",
      "source": [
        ""
      ],
      "execution_count": 0,
      "outputs": []
    }
  ]
}