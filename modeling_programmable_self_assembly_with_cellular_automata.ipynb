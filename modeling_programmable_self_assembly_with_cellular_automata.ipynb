{
  "nbformat": 4,
  "nbformat_minor": 0,
  "metadata": {
    "colab": {
      "name": "modeling_programmable_self_assembly_with_cellular_automata.ipynb",
      "version": "0.3.2",
      "provenance": [],
      "collapsed_sections": [],
      "include_colab_link": true
    },
    "kernelspec": {
      "name": "python2",
      "display_name": "Python 2"
    }
  },
  "cells": [
    {
      "cell_type": "markdown",
      "metadata": {
        "id": "view-in-github",
        "colab_type": "text"
      },
      "source": [
        "[View in Colaboratory](https://colab.research.google.com/github/jpskycak/research_notebooks/blob/master/modeling_programmable_self_assembly_with_cellular_automata.ipynb)"
      ]
    },
    {
      "metadata": {
        "id": "lULJBcZs-qHm",
        "colab_type": "code",
        "colab": {
          "base_uri": "https://localhost:8080/",
          "height": 696
        },
        "outputId": "2fda43a2-6153-458f-9de6-5aecc1a98056"
      },
      "cell_type": "code",
      "source": [
        "import numpy as np\n",
        "import matplotlib.pyplot as plt\n",
        "import itertools\n",
        "import random\n",
        "\n",
        "# initial coordinates for agents\n",
        "L = 10\n",
        "scaling_factor = 5\n",
        "gridshape = (scaling_factor*L,scaling_factor*L)\n",
        "grid = np.zeros(gridshape)\n",
        "grid[L:2*L,L:2*L] = 1\n",
        "plt.imshow(grid)\n",
        "plt.grid(False)\n",
        "plt.show()\n",
        "\n",
        "# make shape\n",
        "shape = np.zeros(gridshape)\n",
        "\n",
        "#shape[:L,:L] = 1\n",
        "\n",
        "#shape[L-5:L,L-5:L] = 1\n",
        "shape[2*L:2*L+5,2*L:2*L+5] = 1\n",
        "\n",
        "#shape[L:-3,L:-3] = 1\n",
        "#shape[int(1.25*L):-3,int(1.25*L):-3] = 0 \n",
        "\n",
        "plt.imshow(shape)\n",
        "plt.grid(False)\n",
        "plt.show()\n",
        "\n",
        "shape_coordinates = []\n",
        "for x in range(shape.shape[0]):\n",
        "  for y in range(shape.shape[1]):\n",
        "    if shape[x,y] == 1:\n",
        "      shape_coordinates.append((x,y))\n",
        "shape_coordinates[:5]"
      ],
      "execution_count": 43,
      "outputs": [
        {
          "output_type": "display_data",
          "data": {
            "image/png": "[encoded data removed]",
            "text/plain": [
              "<matplotlib.figure.Figure at 0x7f581d0f80d0>"
            ]
          },
          "metadata": {
            "tags": []
          }
        },
        {
          "output_type": "display_data",
          "data": {
            "image/png": "[encoded data removed]",
            "text/plain": [
              "<matplotlib.figure.Figure at 0x7f581ce9ad50>"
            ]
          },
          "metadata": {
            "tags": []
          }
        },
        {
          "output_type": "execute_result",
          "data": {
            "text/plain": [
              "[(20, 20), (20, 21), (20, 22), (20, 23), (20, 24)]"
            ]
          },
          "metadata": {
            "tags": []
          },
          "execution_count": 43
        }
      ]
    },
    {
      "metadata": {
        "id": "SqruOrLOCLwy",
        "colab_type": "code",
        "colab": {
          "base_uri": "https://localhost:8080/",
          "height": 141
        },
        "outputId": "9bbfa8c8-a87a-4d29-c5e0-b06b9a2d68ba"
      },
      "cell_type": "code",
      "source": [
        "# instantiate agents at initial coordinates\n",
        "# initialize estimated coordinates as true initial coordinates\n",
        "# update_neighbors_and_distances()\n",
        "\n",
        "agents = []\n",
        "\n",
        "for x in range(gridshape[0]):\n",
        "  for y in range(gridshape[1]):\n",
        "    if grid[x,y]==1:\n",
        "      agents.append({'true_coordinates':(x,y),\n",
        "                     'estimated_coordinates':(x,y),\n",
        "                     'orientation':(-1,0),\n",
        "                     'id':len(agents),\n",
        "                     'is_source':bool((x,y)==(2*L-1,2*L-1))\n",
        "                    })\n",
        "\n",
        "def distance_metric(a,b):\n",
        "  return max(abs(a[0]-b[0]),abs(a[1]-b[1]))\n",
        "  #return abs(a[0]-b[0])+abs(a[1]-b[1])\n",
        "\n",
        "def in_radius(test_point,center,radius):\n",
        "  out = False\n",
        "  if distance_metric(test_point,center) <= radius:\n",
        "    out = True\n",
        "  return out\n",
        "\n",
        "def get_neighbors_distances_estimations(agent,radius=1):\n",
        "  center = agent['true_coordinates']\n",
        "  neighbors = [i for i,a in enumerate(agents) if in_radius(a['true_coordinates'],center,radius) and a['id'] != agent['id']]\n",
        "  distances = [distance_metric(agents[i]['true_coordinates'],center) for i in neighbors]\n",
        "  estimated_coordinates = agent['estimated_coordinates']\n",
        "  \n",
        "  if len(neighbors)>0:\n",
        "  \n",
        "    neighbors_estimated_coordinates = [agents[n]['estimated_coordinates'] for n in neighbors]\n",
        "    # DEBUG: print 'neighbors for agent id ',agent['id'],' at ',center,'are: ',neighbors\n",
        "    def error_estimated_coordinates(xy):\n",
        "      discrepancies = [d - distance_metric(xy,neighbors_estimated_coordinates[i]) for i,d in enumerate(distances)]\n",
        "      return sum([abs(d) for d in discrepancies])\n",
        "\n",
        "    neighbors_estimated_coordinates_x = [c[0] for c in neighbors_estimated_coordinates]\n",
        "    neighbors_estimated_coordinates_y = [c[1] for c in neighbors_estimated_coordinates]\n",
        "    [min_x, max_x] = [min(neighbors_estimated_coordinates_x), max(neighbors_estimated_coordinates_x)]\n",
        "    [min_y, max_y] = [min(neighbors_estimated_coordinates_y), max(neighbors_estimated_coordinates_y)]\n",
        "    candidate_estimations = list(itertools.product(range(min_x,max_x+1),range(min_y,max_y+1)))\n",
        "    candidate_estimation_errors = [error_estimated_coordinates(xy) for xy in candidate_estimations]\n",
        "\n",
        "    optimal_estimations = [candidate_estimations[i] for i,err in enumerate(candidate_estimation_errors) if err==min(candidate_estimation_errors)]\n",
        "    estimated_coordinates = random.choice(optimal_estimations)\n",
        "  \n",
        "  return [neighbors,distances,estimated_coordinates]\n",
        "\n",
        "\n",
        "for a in agents:\n",
        "  [a['neighbors'],a['distances'],a['estimated_coordinates']] = get_neighbors_distances_estimations(a)\n",
        "  \n",
        "agents[0]"
      ],
      "execution_count": 44,
      "outputs": [
        {
          "output_type": "execute_result",
          "data": {
            "text/plain": [
              "{'distances': [1, 1, 1],\n",
              " 'estimated_coordinates': (10, 10),\n",
              " 'id': 0,\n",
              " 'is_source': False,\n",
              " 'neighbors': [1, 10, 11],\n",
              " 'orientation': (-1, 0),\n",
              " 'true_coordinates': (10, 10)}"
            ]
          },
          "metadata": {
            "tags": []
          },
          "execution_count": 44
        }
      ]
    },
    {
      "metadata": {
        "id": "WXLHjhoJx3wz",
        "colab_type": "code",
        "colab": {
          "base_uri": "https://localhost:8080/",
          "height": 158
        },
        "outputId": "574a4a6e-b692-4791-b6b9-a49e770a50e3"
      },
      "cell_type": "code",
      "source": [
        "# initialize gradient values.\n",
        "\n",
        "for a in agents:\n",
        "  if a['is_source']:\n",
        "    a['gradient_value'] = 0\n",
        "    for neighbor_index in a['neighbors']:\n",
        "      neighbor = agents[neighbor_index]\n",
        "      neighbor['gradient_value'] = 1\n",
        "      \n",
        "def do_all_agents_have_gradient_values():\n",
        "  ans = True\n",
        "  for a in agents:\n",
        "    if 'gradient_value' not in a.keys():\n",
        "      ans = False\n",
        "  return ans\n",
        "\n",
        "while not do_all_agents_have_gradient_values():\n",
        "  for a in agents:\n",
        "    if 'gradient_value' not in a.keys():\n",
        "      neighbors = [agents[i] for i in a['neighbors']]\n",
        "      min_gradient_in_neighbors = 9*10**10\n",
        "      should_assign_gradient_value = False\n",
        "      for neighbor in neighbors:\n",
        "        if 'gradient_value' in neighbor.keys():\n",
        "          min_gradient_in_neighbors = min(neighbor['gradient_value'],min_gradient_in_neighbors)\n",
        "          should_assign_gradient_value = True\n",
        "      if should_assign_gradient_value:\n",
        "        a['gradient_value'] = 1+min_gradient_in_neighbors\n",
        "  \n",
        "agents[0]"
      ],
      "execution_count": 45,
      "outputs": [
        {
          "output_type": "execute_result",
          "data": {
            "text/plain": [
              "{'distances': [1, 1, 1],\n",
              " 'estimated_coordinates': (10, 10),\n",
              " 'gradient_value': 9,\n",
              " 'id': 0,\n",
              " 'is_source': False,\n",
              " 'neighbors': [1, 10, 11],\n",
              " 'orientation': (-1, 0),\n",
              " 'true_coordinates': (10, 10)}"
            ]
          },
          "metadata": {
            "tags": []
          },
          "execution_count": 45
        }
      ]
    },
    {
      "metadata": {
        "id": "suTwySBe67rZ",
        "colab_type": "code",
        "colab": {
          "base_uri": "https://localhost:8080/",
          "height": 347
        },
        "outputId": "5e4436ac-5062-4d3e-d5b5-03b444a65daa"
      },
      "cell_type": "code",
      "source": [
        "# check gradient\n",
        "gradient = np.zeros(gridshape)\n",
        "for a in agents:\n",
        "  [x,y] = a['true_coordinates']\n",
        "  gradient[x,y] = a['gradient_value']\n",
        "  \n",
        "plt.imshow(gradient)\n",
        "plt.grid(False)\n",
        "plt.show()"
      ],
      "execution_count": 46,
      "outputs": [
        {
          "output_type": "display_data",
          "data": {
            "image/png": "[encoded data removed]",
            "text/plain": [
              "<matplotlib.figure.Figure at 0x7f581d172c90>"
            ]
          },
          "metadata": {
            "tags": []
          }
        }
      ]
    },
    {
      "metadata": {
        "id": "BpHZTxleZts2",
        "colab_type": "code",
        "colab": {}
      },
      "cell_type": "code",
      "source": [
        "# edge-following\n",
        "def leaves_shape(old_loc,new_loc):\n",
        "  ans = False\n",
        "  if old_loc in shape_coordinates:\n",
        "    if new_loc not in shape_coordinates:\n",
        "      ans = True\n",
        "  return ans\n",
        "  \n",
        "def can_move(a,debug=False):\n",
        "  neighbors = a['neighbors']\n",
        "  (x0,y0) = a['true_coordinates']\n",
        "  (dx,dy) = a['orientation']\n",
        "  (x,y) = (x0+dx,y0+dy)\n",
        "\n",
        "  ans = False\n",
        "  occupied = [agents[neighbors[i]]['true_coordinates'] for i,d in enumerate(a['distances']) if d==1]\n",
        "  if (x,y) not in occupied:\n",
        "    if x in range(gridshape[0]) and y in range(gridshape[1]): # in grid\n",
        "      if not leaves_shape((x0,y0),(x,y)): # doesn't leave shape\n",
        "        needs_a_neighbor = [point for point in [(x+1,y),(x-1,y),(x,y+1),(x,y-1),(x-1,y-1),(x-1,y+1),(x+1,y-1),(x+1,y+1)] if point != (x0,y0)]\n",
        "        if any([(point in occupied) for point in needs_a_neighbor]): # doesn't isolate itself\n",
        "          ans = True\n",
        "          if debug:\n",
        "            ans = [(x0,y0), (dx,dy), (x,y)]\n",
        "  return ans\n",
        "\n",
        "def update(a):\n",
        "  [a['neighbors'],a['distances'],a['estimated_coordinates']] = get_neighbors_distances_estimations(a)\n",
        "\n",
        "def timestep(first_attempt_agent_index=0,agents=agents,shape_coordinates=shape_coordinates):\n",
        "  \n",
        "  if can_move(agents[first_attempt_agent_index]):\n",
        "    selected_agent_index = first_attempt_agent_index\n",
        "  else:\n",
        "    movable_agents_not_in_shape = [i for i,a in enumerate(agents) if can_move(a) and a['estimated_coordinates'] not in shape_coordinates]\n",
        "    selected_agent_index = random.choice(movable_agents_not_in_shape)\n",
        "  \n",
        "  selected_agent = agents[selected_agent_index]\n",
        "  \n",
        "  highlight_list = ['loc before move: '+str(selected_agent['true_coordinates'])]\n",
        "  highlight_list = ['orientation before move: '+str(selected_agent['orientation'])]\n",
        "  \n",
        "  # move\n",
        "  (x0,y0) = selected_agent['true_coordinates']\n",
        "  (dx,dy) = selected_agent['orientation']\n",
        "  selected_agent['true_coordinates'] = (x0+dx,y0+dy)\n",
        "  \n",
        "  highlight_list = highlight_list + ['loc after move: '+str(selected_agent['true_coordinates'])]\n",
        "  \n",
        "  old_neighbors = selected_agent['neighbors']\n",
        "  update(selected_agent)\n",
        "  new_neighbors = selected_agent['neighbors']\n",
        "  \n",
        "  highlight_list = highlight_list + ['loc after update: '+str(selected_agent['true_coordinates'])]\n",
        "  \n",
        "  move_tries = 0\n",
        "  turn_sequence = [(turnx,turny) for (turnx,turny) in [(-1,0),(0,1),(1,0),(0,-1)] if (turnx+dx,turny+dy) != (0,0)]\n",
        "  i = turn_sequence.index(selected_agent['orientation'])\n",
        "  turn_sequence = [turn_sequence[(i+1)%3],turn_sequence[(i+2)%3],turn_sequence[i]]\n",
        "    \n",
        "  num_turns = 0\n",
        "  while not can_move(selected_agent):\n",
        "    selected_agent['orientation'] = turn_sequence[num_turns]\n",
        "    num_turns += 1\n",
        "    if num_turns == 3:\n",
        "      break\n",
        "     \n",
        "  highlight_list = highlight_list + ['loc after turn: '+str(selected_agent['true_coordinates'])]\n",
        "  highlight_list = highlight_list + ['orientation after turn: '+str(selected_agent['orientation'])]\n",
        "  \n",
        "  for i in list(set(old_neighbors).union(set(new_neighbors))):\n",
        "    update(agents[i]) \n",
        "    \n",
        "  debug_list = highlight_list + ['loc after neighbor updates: '+str(selected_agent['true_coordinates'])]\n",
        "    \n",
        "  return selected_agent_index, debug_list\n",
        "\n",
        "def plot_grid(highlight_list=[]):\n",
        "  grid = np.zeros((scaling_factor*L,scaling_factor*L))\n",
        "  for s in shape_coordinates:\n",
        "    grid[s]=0.5\n",
        "  for a in agents:\n",
        "    grid[a['true_coordinates']]=1\n",
        "    \n",
        "  for coordinates in highlight_list:\n",
        "    grid[coordinates[0],coordinates[1]]=2\n",
        "    \n",
        "  plt.imshow(grid)\n",
        "  plt.grid(False)\n",
        "  plt.show()\n",
        "  "
      ],
      "execution_count": 0,
      "outputs": []
    },
    {
      "metadata": {
        "id": "O9Q-g8nGaK61",
        "colab_type": "code",
        "colab": {
          "base_uri": "https://localhost:8080/",
          "height": 7370
        },
        "outputId": "bba412dd-c882-45f1-88e0-2da265c834c6"
      },
      "cell_type": "code",
      "source": [
        "#selected_agent_index = 0\n",
        "for t in range(20):\n",
        "  selected_agent_index, debug_list = timestep(selected_agent_index)\n",
        "  if t%1==0:\n",
        "    print 't='+str(t)\n",
        "    print debug_list\n",
        "    plot_grid()"
      ],
      "execution_count": 57,
      "outputs": [
        {
          "output_type": "stream",
          "text": [
            "t=0\n",
            "['orientation before move: (1, 0)', 'loc after move: (14, 20)', 'loc after update: (14, 20)', 'loc after turn: (14, 20)', 'orientation after turn: (1, 0)', 'loc after neighbor updates: (14, 20)']\n"
          ],
          "name": "stdout"
        },
        {
          "output_type": "display_data",
          "data": {
            "image/png": "[encoded data removed]",
            "text/plain": [
              "<matplotlib.figure.Figure at 0x7f581d26b7d0>"
            ]
          },
          "metadata": {
            "tags": []
          }
        },
        {
          "output_type": "stream",
          "text": [
            "t=1\n",
            "['orientation before move: (1, 0)', 'loc after move: (15, 20)', 'loc after update: (15, 20)', 'loc after turn: (15, 20)', 'orientation after turn: (1, 0)', 'loc after neighbor updates: (15, 20)']\n"
          ],
          "name": "stdout"
        },
        {
          "output_type": "display_data",
          "data": {
            "image/png": "[encoded data removed]",
            "text/plain": [
              "<matplotlib.figure.Figure at 0x7f581cef6ad0>"
            ]
          },
          "metadata": {
            "tags": []
          }
        },
        {
          "output_type": "stream",
          "text": [
            "t=2\n",
            "['orientation before move: (1, 0)', 'loc after move: (16, 20)', 'loc after update: (16, 20)', 'loc after turn: (16, 20)', 'orientation after turn: (1, 0)', 'loc after neighbor updates: (16, 20)']\n"
          ],
          "name": "stdout"
        },
        {
          "output_type": "display_data",
          "data": {
            "image/png": "[encoded data removed]",
            "text/plain": [
              "<matplotlib.figure.Figure at 0x7f581d020390>"
            ]
          },
          "metadata": {
            "tags": []
          }
        },
        {
          "output_type": "stream",
          "text": [
            "t=3\n",
            "['orientation before move: (1, 0)', 'loc after move: (17, 20)', 'loc after update: (17, 20)', 'loc after turn: (17, 20)', 'orientation after turn: (1, 0)', 'loc after neighbor updates: (17, 20)']\n"
          ],
          "name": "stdout"
        },
        {
          "output_type": "display_data",
          "data": {
            "image/png": "[encoded data removed]",
            "text/plain": [
              "<matplotlib.figure.Figure at 0x7f581d176f10>"
            ]
          },
          "metadata": {
            "tags": []
          }
        },
        {
          "output_type": "stream",
          "text": [
            "t=4\n",
            "['orientation before move: (1, 0)', 'loc after move: (18, 20)', 'loc after update: (18, 20)', 'loc after turn: (18, 20)', 'orientation after turn: (1, 0)', 'loc after neighbor updates: (18, 20)']\n"
          ],
          "name": "stdout"
        },
        {
          "output_type": "display_data",
          "data": {
            "image/png": "[encoded data removed]",
            "text/plain": [
              "<matplotlib.figure.Figure at 0x7f581d20ce90>"
            ]
          },
          "metadata": {
            "tags": []
          }
        },
        {
          "output_type": "stream",
          "text": [
            "t=5\n",
            "['orientation before move: (1, 0)', 'loc after move: (19, 20)', 'loc after update: (19, 20)', 'loc after turn: (19, 20)', 'orientation after turn: (0, 1)', 'loc after neighbor updates: (19, 20)']\n"
          ],
          "name": "stdout"
        },
        {
          "output_type": "display_data",
          "data": {
            "image/png": "[encoded data removed]",
            "text/plain": [
              "<matplotlib.figure.Figure at 0x7f581d20c810>"
            ]
          },
          "metadata": {
            "tags": []
          }
        },
        {
          "output_type": "stream",
          "text": [
            "t=6\n",
            "['orientation before move: (0, 1)', 'loc after move: (19, 21)', 'loc after update: (19, 21)', 'loc after turn: (19, 21)', 'orientation after turn: (0, 1)', 'loc after neighbor updates: (19, 21)']\n"
          ],
          "name": "stdout"
        },
        {
          "output_type": "display_data",
          "data": {
            "image/png": "[encoded data removed]",
            "text/plain": [
              "<matplotlib.figure.Figure at 0x7f581d0ee7d0>"
            ]
          },
          "metadata": {
            "tags": []
          }
        },
        {
          "output_type": "stream",
          "text": [
            "t=7\n",
            "['orientation before move: (0, 1)', 'loc after move: (19, 22)', 'loc after update: (19, 22)', 'loc after turn: (19, 22)', 'orientation after turn: (0, 1)', 'loc after neighbor updates: (19, 22)']\n"
          ],
          "name": "stdout"
        },
        {
          "output_type": "display_data",
          "data": {
            "image/png": "[encoded data removed]",
            "text/plain": [
              "<matplotlib.figure.Figure at 0x7f581d17bb10>"
            ]
          },
          "metadata": {
            "tags": []
          }
        },
        {
          "output_type": "stream",
          "text": [
            "t=8\n",
            "['orientation before move: (0, 1)', 'loc after move: (19, 23)', 'loc after update: (19, 23)', 'loc after turn: (19, 23)', 'orientation after turn: (0, 1)', 'loc after neighbor updates: (19, 23)']\n"
          ],
          "name": "stdout"
        },
        {
          "output_type": "display_data",
          "data": {
            "image/png": "[encoded data removed]",
            "text/plain": [
              "<matplotlib.figure.Figure at 0x7f581d018550>"
            ]
          },
          "metadata": {
            "tags": []
          }
        },
        {
          "output_type": "stream",
          "text": [
            "t=9\n",
            "['orientation before move: (0, 1)', 'loc after move: (19, 24)', 'loc after update: (19, 24)', 'loc after turn: (19, 24)', 'orientation after turn: (0, 1)', 'loc after neighbor updates: (19, 24)']\n"
          ],
          "name": "stdout"
        },
        {
          "output_type": "display_data",
          "data": {
            "image/png": "[encoded data removed]",
            "text/plain": [
              "<matplotlib.figure.Figure at 0x7f581f45c250>"
            ]
          },
          "metadata": {
            "tags": []
          }
        },
        {
          "output_type": "stream",
          "text": [
            "t=10\n",
            "['orientation before move: (0, 1)', 'loc after move: (19, 25)', 'loc after update: (19, 25)', 'loc after turn: (19, 25)', 'orientation after turn: (1, 0)', 'loc after neighbor updates: (19, 25)']\n"
          ],
          "name": "stdout"
        },
        {
          "output_type": "display_data",
          "data": {
            "image/png": "[encoded data removed]",
            "text/plain": [
              "<matplotlib.figure.Figure at 0x7f581f46a550>"
            ]
          },
          "metadata": {
            "tags": []
          }
        },
        {
          "output_type": "stream",
          "text": [
            "t=11\n",
            "['orientation before move: (1, 0)', 'loc after move: (20, 25)', 'loc after update: (20, 25)', 'loc after turn: (20, 25)', 'orientation after turn: (1, 0)', 'loc after neighbor updates: (20, 25)']\n"
          ],
          "name": "stdout"
        },
        {
          "output_type": "display_data",
          "data": {
            "image/png": "[encoded data removed]",
            "text/plain": [
              "<matplotlib.figure.Figure at 0x7f581d367dd0>"
            ]
          },
          "metadata": {
            "tags": []
          }
        },
        {
          "output_type": "stream",
          "text": [
            "t=12\n",
            "['orientation before move: (1, 0)', 'loc after move: (21, 25)', 'loc after update: (21, 25)', 'loc after turn: (21, 25)', 'orientation after turn: (1, 0)', 'loc after neighbor updates: (21, 25)']\n"
          ],
          "name": "stdout"
        },
        {
          "output_type": "display_data",
          "data": {
            "image/png": "[encoded data removed]",
            "text/plain": [
              "<matplotlib.figure.Figure at 0x7f581d332250>"
            ]
          },
          "metadata": {
            "tags": []
          }
        },
        {
          "output_type": "stream",
          "text": [
            "t=13\n",
            "['orientation before move: (1, 0)', 'loc after move: (22, 25)', 'loc after update: (22, 25)', 'loc after turn: (22, 25)', 'orientation after turn: (1, 0)', 'loc after neighbor updates: (22, 25)']\n"
          ],
          "name": "stdout"
        },
        {
          "output_type": "display_data",
          "data": {
            "image/png": "[encoded data removed]",
            "text/plain": [
              "<matplotlib.figure.Figure at 0x7f581cdf9750>"
            ]
          },
          "metadata": {
            "tags": []
          }
        },
        {
          "output_type": "stream",
          "text": [
            "t=14\n",
            "['orientation before move: (1, 0)', 'loc after move: (23, 25)', 'loc after update: (23, 25)', 'loc after turn: (23, 25)', 'orientation after turn: (1, 0)', 'loc after neighbor updates: (23, 25)']\n"
          ],
          "name": "stdout"
        },
        {
          "output_type": "display_data",
          "data": {
            "image/png": "[encoded data removed]",
            "text/plain": [
              "<matplotlib.figure.Figure at 0x7f581d250590>"
            ]
          },
          "metadata": {
            "tags": []
          }
        },
        {
          "output_type": "stream",
          "text": [
            "t=15\n",
            "['orientation before move: (1, 0)', 'loc after move: (24, 25)', 'loc after update: (24, 25)', 'loc after turn: (24, 25)', 'orientation after turn: (1, 0)', 'loc after neighbor updates: (24, 25)']\n"
          ],
          "name": "stdout"
        },
        {
          "output_type": "display_data",
          "data": {
            "image/png": "[encoded data removed]",
            "text/plain": [
              "<matplotlib.figure.Figure at 0x7f581d1c8f50>"
            ]
          },
          "metadata": {
            "tags": []
          }
        },
        {
          "output_type": "stream",
          "text": [
            "t=16\n",
            "['orientation before move: (1, 0)', 'loc after move: (25, 25)', 'loc after update: (25, 25)', 'loc after turn: (25, 25)', 'orientation after turn: (0, -1)', 'loc after neighbor updates: (25, 25)']\n"
          ],
          "name": "stdout"
        },
        {
          "output_type": "display_data",
          "data": {
            "image/png": "[encoded data removed]",
            "text/plain": [
              "<matplotlib.figure.Figure at 0x7f581ce1a350>"
            ]
          },
          "metadata": {
            "tags": []
          }
        },
        {
          "output_type": "stream",
          "text": [
            "t=17\n",
            "['orientation before move: (0, -1)', 'loc after move: (25, 24)', 'loc after update: (25, 24)', 'loc after turn: (25, 24)', 'orientation after turn: (0, -1)', 'loc after neighbor updates: (25, 24)']\n"
          ],
          "name": "stdout"
        },
        {
          "output_type": "display_data",
          "data": {
            "image/png": "[encoded data removed]",
            "text/plain": [
              "<matplotlib.figure.Figure at 0x7f581cf45ed0>"
            ]
          },
          "metadata": {
            "tags": []
          }
        },
        {
          "output_type": "stream",
          "text": [
            "t=18\n",
            "['orientation before move: (0, -1)', 'loc after move: (25, 23)', 'loc after update: (25, 23)', 'loc after turn: (25, 23)', 'orientation after turn: (0, -1)', 'loc after neighbor updates: (25, 23)']\n"
          ],
          "name": "stdout"
        },
        {
          "output_type": "display_data",
          "data": {
            "image/png": "[encoded data removed]",
            "text/plain": [
              "<matplotlib.figure.Figure at 0x7f581ce1a050>"
            ]
          },
          "metadata": {
            "tags": []
          }
        },
        {
          "output_type": "stream",
          "text": [
            "t=19\n",
            "['orientation before move: (0, -1)', 'loc after move: (25, 22)', 'loc after update: (25, 22)', 'loc after turn: (25, 22)', 'orientation after turn: (0, -1)', 'loc after neighbor updates: (25, 22)']\n"
          ],
          "name": "stdout"
        },
        {
          "output_type": "display_data",
          "data": {
            "image/png": "[encoded data removed]",
            "text/plain": [
              "<matplotlib.figure.Figure at 0x7f581cf0df50>"
            ]
          },
          "metadata": {
            "tags": []
          }
        }
      ]
    },
    {
      "metadata": {
        "id": "6-wBUrtUd6wB",
        "colab_type": "code",
        "colab": {}
      },
      "cell_type": "code",
      "source": [
        ""
      ],
      "execution_count": 0,
      "outputs": []
    }
  ]
}