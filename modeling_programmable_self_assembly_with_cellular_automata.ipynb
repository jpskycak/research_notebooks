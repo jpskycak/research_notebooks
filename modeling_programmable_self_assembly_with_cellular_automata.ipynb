{
  "nbformat": 4,
  "nbformat_minor": 0,
  "metadata": {
    "colab": {
      "name": "modeling_programmable_self_assembly_with_cellular_automata.ipynb",
      "version": "0.3.2",
      "provenance": [],
      "collapsed_sections": [],
      "include_colab_link": true
    },
    "kernelspec": {
      "name": "python2",
      "display_name": "Python 2"
    }
  },
  "cells": [
    {
      "cell_type": "markdown",
      "metadata": {
        "id": "view-in-github",
        "colab_type": "text"
      },
      "source": [
        "[View in Colaboratory](https://colab.research.google.com/github/jpskycak/research_notebooks/blob/master/modeling_programmable_self_assembly_with_cellular_automata.ipynb)"
      ]
    },
    {
      "metadata": {
        "id": "lULJBcZs-qHm",
        "colab_type": "code",
        "colab": {}
      },
      "cell_type": "code",
      "source": [
        "import numpy as np\n",
        "import matplotlib.pyplot as plt\n",
        "import itertools\n",
        "import random\n",
        "\n",
        "class Grid:\n",
        "  \n",
        "  def __init__(self,L=10,scale=5):\n",
        "    self.shape = (scale*L, scale*L)\n",
        "    self.agents = np.zeros(self.shape)\n",
        "    self.agents[L:2*L,L:2*L] = 1\n",
        "    self.template = np.zeros(self.shape)\n",
        "    self.template[2*L:3*L,2*L:3*L] = 1\n",
        "    \n",
        "  def coordinates(self, which='agents'):\n",
        "    if which == 'agents':\n",
        "      return [(i,j) for i,row in enumerate(self.agents) for j,val in enumerate(row) if val==1]\n",
        "    elif which == 'template':\n",
        "      return [(i,j) for i,row in enumerate(self.template) for j,val in enumerate(row) if val==1]\n",
        "    \n",
        "  def plot(self):\n",
        "    grid = np.zeros(self.shape)\n",
        "    for p in self.coordinates('template'):\n",
        "      grid[p]=0.5\n",
        "    for p in self.coordinates('agents'):\n",
        "      grid[p]=1\n",
        "    plt.imshow(grid)\n",
        "    plt.grid(False)\n",
        "    plt.show()"
      ],
      "execution_count": 0,
      "outputs": []
    },
    {
      "metadata": {
        "id": "AMrs8r09Bz4c",
        "colab_type": "code",
        "colab": {}
      },
      "cell_type": "code",
      "source": [
        "g = Grid()"
      ],
      "execution_count": 0,
      "outputs": []
    },
    {
      "metadata": {
        "id": "ye15vozy-Gun",
        "colab_type": "code",
        "colab": {
          "base_uri": "https://localhost:8080/",
          "height": 347
        },
        "outputId": "b1943f18-ccf0-4ea7-c397-f72550d6c533"
      },
      "cell_type": "code",
      "source": [
        "g.plot()"
      ],
      "execution_count": 24,
      "outputs": [
        {
          "output_type": "display_data",
          "data": {
            "image/png": "[encoded data removed]",
            "text/plain": [
              "<matplotlib.figure.Figure at 0x7f03d9565450>"
            ]
          },
          "metadata": {
            "tags": []
          }
        }
      ]
    },
    {
      "metadata": {
        "id": "SqruOrLOCLwy",
        "colab_type": "code",
        "colab": {
          "base_uri": "https://localhost:8080/",
          "height": 141
        },
        "outputId": "4ed8c969-37aa-4ad5-c646-6a7e577b7b03"
      },
      "cell_type": "code",
      "source": [
        "# instantiate agents at initial coordinates\n",
        "# initialize estimated coordinates as true initial coordinates\n",
        "# update_neighbors_and_distances()\n",
        "\n",
        "agents = []\n",
        "\n",
        "for x in range(gridshape[0]):\n",
        "  for y in range(gridshape[1]):\n",
        "    if grid[x,y]==1:\n",
        "      agents.append({'true_coordinates':(x,y),\n",
        "                     'estimated_coordinates':(x,y),\n",
        "                     'orientation':(-1,0),\n",
        "                     'id':len(agents),\n",
        "                     'is_source':bool((x,y)==(2*L-1,2*L-1))\n",
        "                    })\n",
        "\n",
        "def distance_metric(a,b):\n",
        "  return max(abs(a[0]-b[0]),abs(a[1]-b[1]))\n",
        "  #return abs(a[0]-b[0])+abs(a[1]-b[1])\n",
        "\n",
        "def in_radius(test_point,center,radius):\n",
        "  out = False\n",
        "  if distance_metric(test_point,center) <= radius:\n",
        "    out = True\n",
        "  return out\n",
        "\n",
        "def get_neighbors_distances_estimations(agent,radius=1):\n",
        "  center = agent['true_coordinates']\n",
        "  neighbors = [i for i,a in enumerate(agents) if in_radius(a['true_coordinates'],center,radius) and a['id'] != agent['id']]\n",
        "  distances = [distance_metric(agents[i]['true_coordinates'],center) for i in neighbors]\n",
        "  estimated_coordinates = agent['estimated_coordinates']\n",
        "  \n",
        "  if len(neighbors)>0:\n",
        "  \n",
        "    neighbors_estimated_coordinates = [agents[n]['estimated_coordinates'] for n in neighbors]\n",
        "    # DEBUG: print 'neighbors for agent id ',agent['id'],' at ',center,'are: ',neighbors\n",
        "    def error_estimated_coordinates(xy):\n",
        "      discrepancies = [d - distance_metric(xy,neighbors_estimated_coordinates[i]) for i,d in enumerate(distances)]\n",
        "      return sum([abs(d) for d in discrepancies])\n",
        "\n",
        "    neighbors_estimated_coordinates_x = [c[0] for c in neighbors_estimated_coordinates]\n",
        "    neighbors_estimated_coordinates_y = [c[1] for c in neighbors_estimated_coordinates]\n",
        "    [min_x, max_x] = [min(neighbors_estimated_coordinates_x), max(neighbors_estimated_coordinates_x)]\n",
        "    [min_y, max_y] = [min(neighbors_estimated_coordinates_y), max(neighbors_estimated_coordinates_y)]\n",
        "    candidate_estimations = list(itertools.product(range(min_x,max_x+1),range(min_y,max_y+1)))\n",
        "    candidate_estimation_errors = [error_estimated_coordinates(xy) for xy in candidate_estimations]\n",
        "\n",
        "    optimal_estimations = [candidate_estimations[i] for i,err in enumerate(candidate_estimation_errors) if err==min(candidate_estimation_errors)]\n",
        "    estimated_coordinates = random.choice(optimal_estimations)\n",
        "  \n",
        "  return [neighbors,distances,estimated_coordinates]\n",
        "\n",
        "\n",
        "for a in agents:\n",
        "  [a['neighbors'],a['distances'],a['estimated_coordinates']] = get_neighbors_distances_estimations(a)\n",
        "  \n",
        "agents[0]"
      ],
      "execution_count": 65,
      "outputs": [
        {
          "output_type": "execute_result",
          "data": {
            "text/plain": [
              "{'distances': [1, 1, 1],\n",
              " 'estimated_coordinates': (10, 10),\n",
              " 'id': 0,\n",
              " 'is_source': False,\n",
              " 'neighbors': [1, 10, 11],\n",
              " 'orientation': (-1, 0),\n",
              " 'true_coordinates': (10, 10)}"
            ]
          },
          "metadata": {
            "tags": []
          },
          "execution_count": 65
        }
      ]
    },
    {
      "metadata": {
        "id": "WXLHjhoJx3wz",
        "colab_type": "code",
        "colab": {
          "base_uri": "https://localhost:8080/",
          "height": 158
        },
        "outputId": "fa18e21d-9ca7-4b8b-9865-99115c1c5758"
      },
      "cell_type": "code",
      "source": [
        "# initialize gradient values.\n",
        "\n",
        "for a in agents:\n",
        "  if a['is_source']:\n",
        "    a['gradient_value'] = 0\n",
        "    for neighbor_index in a['neighbors']:\n",
        "      neighbor = agents[neighbor_index]\n",
        "      neighbor['gradient_value'] = 1\n",
        "      \n",
        "def do_all_agents_have_gradient_values():\n",
        "  ans = True\n",
        "  for a in agents:\n",
        "    if 'gradient_value' not in a.keys():\n",
        "      ans = False\n",
        "  return ans\n",
        "\n",
        "while not do_all_agents_have_gradient_values():\n",
        "  for a in agents:\n",
        "    if 'gradient_value' not in a.keys():\n",
        "      neighbors = [agents[i] for i in a['neighbors']]\n",
        "      min_gradient_in_neighbors = 9*10**10\n",
        "      should_assign_gradient_value = False\n",
        "      for neighbor in neighbors:\n",
        "        if 'gradient_value' in neighbor.keys():\n",
        "          min_gradient_in_neighbors = min(neighbor['gradient_value'],min_gradient_in_neighbors)\n",
        "          should_assign_gradient_value = True\n",
        "      if should_assign_gradient_value:\n",
        "        a['gradient_value'] = 1+min_gradient_in_neighbors\n",
        "  \n",
        "agents[0]"
      ],
      "execution_count": 66,
      "outputs": [
        {
          "output_type": "execute_result",
          "data": {
            "text/plain": [
              "{'distances': [1, 1, 1],\n",
              " 'estimated_coordinates': (10, 10),\n",
              " 'gradient_value': 9,\n",
              " 'id': 0,\n",
              " 'is_source': False,\n",
              " 'neighbors': [1, 10, 11],\n",
              " 'orientation': (-1, 0),\n",
              " 'true_coordinates': (10, 10)}"
            ]
          },
          "metadata": {
            "tags": []
          },
          "execution_count": 66
        }
      ]
    },
    {
      "metadata": {
        "id": "suTwySBe67rZ",
        "colab_type": "code",
        "colab": {
          "base_uri": "https://localhost:8080/",
          "height": 347
        },
        "outputId": "de48463b-40e1-436a-f45b-4afca3c2ed73"
      },
      "cell_type": "code",
      "source": [
        "# check gradient\n",
        "gradient = np.zeros(gridshape)\n",
        "for a in agents:\n",
        "  [x,y] = a['true_coordinates']\n",
        "  gradient[x,y] = a['gradient_value']\n",
        "  \n",
        "plt.imshow(gradient)\n",
        "plt.grid(False)\n",
        "plt.show()"
      ],
      "execution_count": 67,
      "outputs": [
        {
          "output_type": "display_data",
          "data": {
            "image/png": "[encoded data removed]",
            "text/plain": [
              "<matplotlib.figure.Figure at 0x7f581ce36850>"
            ]
          },
          "metadata": {
            "tags": []
          }
        }
      ]
    },
    {
      "metadata": {
        "id": "BpHZTxleZts2",
        "colab_type": "code",
        "colab": {}
      },
      "cell_type": "code",
      "source": [
        "# edge-following\n",
        "def leaves_shape(old_loc,new_loc):\n",
        "  ans = False\n",
        "  if old_loc in shape_coordinates:\n",
        "    if new_loc not in shape_coordinates:\n",
        "      ans = True\n",
        "  return ans\n",
        "  \n",
        "def can_move(a,debug=False):\n",
        "  neighbors = a['neighbors']\n",
        "  (x0,y0) = a['true_coordinates']\n",
        "  (dx,dy) = a['orientation']\n",
        "  (x,y) = (x0+dx,y0+dy)\n",
        "\n",
        "  ans = False\n",
        "  occupied = [agents[neighbors[i]]['true_coordinates'] for i,d in enumerate(a['distances']) if d==1]\n",
        "  if (x,y) not in occupied:\n",
        "    if x in range(gridshape[0]) and y in range(gridshape[1]): # in grid\n",
        "      if not leaves_shape((x0,y0),(x,y)): # doesn't leave shape\n",
        "        needs_a_neighbor = [point for point in [(x+1,y),(x-1,y),(x,y+1),(x,y-1),(x-1,y-1),(x-1,y+1),(x+1,y-1),(x+1,y+1)] if point != (x0,y0)]\n",
        "        if any([(point in occupied) for point in needs_a_neighbor]): # doesn't isolate itself\n",
        "          ans = True\n",
        "          if debug:\n",
        "            ans = [(x0,y0), (dx,dy), (x,y)]\n",
        "  return ans\n",
        "\n",
        "def update(a):\n",
        "  [a['neighbors'],a['distances'],a['estimated_coordinates']] = get_neighbors_distances_estimations(a)\n",
        "\n",
        "def timestep(first_attempt_agent_index=0,agents=agents,shape_coordinates=shape_coordinates):\n",
        "  \n",
        "  if can_move(agents[first_attempt_agent_index]):\n",
        "    selected_agent_index = first_attempt_agent_index\n",
        "  else:\n",
        "    movable_agents_not_in_shape = [i for i,a in enumerate(agents) if can_move(a) and a['estimated_coordinates'] not in shape_coordinates]\n",
        "    selected_agent_index = random.choice(movable_agents_not_in_shape)\n",
        "  \n",
        "  selected_agent = agents[selected_agent_index]\n",
        "  \n",
        "  highlight_list = ['loc before move: '+str(selected_agent['true_coordinates'])]\n",
        "  highlight_list = ['orientation before move: '+str(selected_agent['orientation'])]\n",
        "  \n",
        "  # move\n",
        "  (x0,y0) = selected_agent['true_coordinates']\n",
        "  (dx,dy) = selected_agent['orientation']\n",
        "  selected_agent['true_coordinates'] = (x0+dx,y0+dy)\n",
        "  \n",
        "  highlight_list = highlight_list + ['loc after move: '+str(selected_agent['true_coordinates'])]\n",
        "  \n",
        "  old_neighbors = selected_agent['neighbors']\n",
        "  update(selected_agent)\n",
        "  new_neighbors = selected_agent['neighbors']\n",
        "  \n",
        "  highlight_list = highlight_list + ['loc after update: '+str(selected_agent['true_coordinates'])]\n",
        "  \n",
        "  move_tries = 0\n",
        "  #clockwise_sequence = [(-1,0),(-1,1),(0,1),(1,1),(1,0),(1,-1),(0,-1),(-1,-1)]\n",
        "  clockwise_sequence = [(-1,0),(0,1),(1,0),(0,-1)]\n",
        "  turn_sequence = [(turnx,turny) for (turnx,turny) in clockwise_sequence if (turnx+dx,turny+dy) != (0,0)]\n",
        "  i = turn_sequence.index(selected_agent['orientation'])\n",
        "  turn_sequence = [turn_sequence[(i+1)%3],turn_sequence[(i+2)%3],turn_sequence[i]]\n",
        "    \n",
        "  num_turns = 0\n",
        "  while not can_move(selected_agent):\n",
        "    selected_agent['orientation'] = turn_sequence[num_turns]\n",
        "    num_turns += 1\n",
        "    if num_turns == 3:\n",
        "      break\n",
        "     \n",
        "  highlight_list = highlight_list + ['loc after turn: '+str(selected_agent['true_coordinates'])]\n",
        "  highlight_list = highlight_list + ['orientation after turn: '+str(selected_agent['orientation'])]\n",
        "  \n",
        "  for i in list(set(old_neighbors).union(set(new_neighbors))):\n",
        "    update(agents[i]) \n",
        "    \n",
        "  debug_list = highlight_list + ['loc after neighbor updates: '+str(selected_agent['true_coordinates'])]\n",
        "    \n",
        "  return selected_agent_index, debug_list\n",
        "\n",
        "def plot_grid(highlight_list=[]):\n",
        "  grid = np.zeros((scaling_factor*L,scaling_factor*L))\n",
        "  for s in shape_coordinates:\n",
        "    grid[s]=0.5\n",
        "  for a in agents:\n",
        "    grid[a['true_coordinates']]=1\n",
        "    \n",
        "  for coordinates in highlight_list:\n",
        "    grid[coordinates[0],coordinates[1]]=2\n",
        "    \n",
        "  plt.imshow(grid)\n",
        "  plt.grid(False)\n",
        "  plt.show()\n",
        "  "
      ],
      "execution_count": 0,
      "outputs": []
    },
    {
      "metadata": {
        "id": "O9Q-g8nGaK61",
        "colab_type": "code",
        "colab": {
          "base_uri": "https://localhost:8080/",
          "height": 7370
        },
        "outputId": "ceb06408-22bc-4bd3-e5ac-699403734f06"
      },
      "cell_type": "code",
      "source": [
        "selected_agent_index = 0\n",
        "for t in range(1000):\n",
        "  selected_agent_index, debug_list = timestep(selected_agent_index)\n",
        "  if t%50==0:\n",
        "    print 't='+str(t)\n",
        "    print debug_list\n",
        "    plot_grid()"
      ],
      "execution_count": 69,
      "outputs": [
        {
          "output_type": "stream",
          "text": [
            "t=0\n",
            "['orientation before move: (-1, 0)', 'loc after move: (9, 10)', 'loc after update: (9, 10)', 'loc after turn: (9, 10)', 'orientation after turn: (0, 1)', 'loc after neighbor updates: (9, 10)']\n"
          ],
          "name": "stdout"
        },
        {
          "output_type": "display_data",
          "data": {
            "image/png": "[encoded data removed]",
            "text/plain": [
              "<matplotlib.figure.Figure at 0x7f581cd56590>"
            ]
          },
          "metadata": {
            "tags": []
          }
        },
        {
          "output_type": "stream",
          "text": [
            "t=50\n",
            "['orientation before move: (0, 1)', 'loc after move: (20, 16)', 'loc after update: (20, 16)', 'loc after turn: (20, 16)', 'orientation after turn: (0, 1)', 'loc after neighbor updates: (20, 16)']\n"
          ],
          "name": "stdout"
        },
        {
          "output_type": "display_data",
          "data": {
            "image/png": "[encoded data removed]",
            "text/plain": [
              "<matplotlib.figure.Figure at 0x7f581d1ce5d0>"
            ]
          },
          "metadata": {
            "tags": []
          }
        },
        {
          "output_type": "stream",
          "text": [
            "t=100\n",
            "['orientation before move: (1, 0)', 'loc after move: (19, 20)', 'loc after update: (19, 20)', 'loc after turn: (19, 20)', 'orientation after turn: (1, 0)', 'loc after neighbor updates: (19, 20)']\n"
          ],
          "name": "stdout"
        },
        {
          "output_type": "display_data",
          "data": {
            "image/png": "[encoded data removed]",
            "text/plain": [
              "<matplotlib.figure.Figure at 0x7f581d1bd690>"
            ]
          },
          "metadata": {
            "tags": []
          }
        },
        {
          "output_type": "stream",
          "text": [
            "t=150\n",
            "['orientation before move: (0, 1)', 'loc after move: (9, 19)', 'loc after update: (9, 19)', 'loc after turn: (9, 19)', 'orientation after turn: (1, 0)', 'loc after neighbor updates: (9, 19)']\n"
          ],
          "name": "stdout"
        },
        {
          "output_type": "display_data",
          "data": {
            "image/png": "[encoded data removed]",
            "text/plain": [
              "<matplotlib.figure.Figure at 0x7f581d262f90>"
            ]
          },
          "metadata": {
            "tags": []
          }
        },
        {
          "output_type": "stream",
          "text": [
            "t=200\n",
            "['orientation before move: (1, 0)', 'loc after move: (20, 9)', 'loc after update: (20, 9)', 'loc after turn: (20, 9)', 'orientation after turn: (0, 1)', 'loc after neighbor updates: (20, 9)']\n"
          ],
          "name": "stdout"
        },
        {
          "output_type": "display_data",
          "data": {
            "image/png": "[encoded data removed]",
            "text/plain": [
              "<matplotlib.figure.Figure at 0x7f581d0c6ed0>"
            ]
          },
          "metadata": {
            "tags": []
          }
        },
        {
          "output_type": "stream",
          "text": [
            "t=250\n",
            "['orientation before move: (0, 1)', 'loc after move: (9, 19)', 'loc after update: (9, 19)', 'loc after turn: (9, 19)', 'orientation after turn: (1, 0)', 'loc after neighbor updates: (9, 19)']\n"
          ],
          "name": "stdout"
        },
        {
          "output_type": "display_data",
          "data": {
            "image/png": "[encoded data removed]",
            "text/plain": [
              "<matplotlib.figure.Figure at 0x7f581d262510>"
            ]
          },
          "metadata": {
            "tags": []
          }
        },
        {
          "output_type": "stream",
          "text": [
            "t=300\n",
            "['orientation before move: (1, 0)', 'loc after move: (10, 17)', 'loc after update: (10, 17)', 'loc after turn: (10, 17)', 'orientation after turn: (1, 0)', 'loc after neighbor updates: (10, 17)']\n"
          ],
          "name": "stdout"
        },
        {
          "output_type": "display_data",
          "data": {
            "image/png": "[encoded data removed]",
            "text/plain": [
              "<matplotlib.figure.Figure at 0x7f581d1a6a10>"
            ]
          },
          "metadata": {
            "tags": []
          }
        },
        {
          "output_type": "stream",
          "text": [
            "t=350\n",
            "['orientation before move: (1, 0)', 'loc after move: (13, 9)', 'loc after update: (13, 9)', 'loc after turn: (13, 9)', 'orientation after turn: (1, 0)', 'loc after neighbor updates: (13, 9)']\n"
          ],
          "name": "stdout"
        },
        {
          "output_type": "display_data",
          "data": {
            "image/png": "[encoded data removed]",
            "text/plain": [
              "<matplotlib.figure.Figure at 0x7f581f7d8350>"
            ]
          },
          "metadata": {
            "tags": []
          }
        },
        {
          "output_type": "stream",
          "text": [
            "t=400\n",
            "['orientation before move: (0, 1)', 'loc after move: (20, 15)', 'loc after update: (20, 15)', 'loc after turn: (20, 15)', 'orientation after turn: (0, 1)', 'loc after neighbor updates: (20, 15)']\n"
          ],
          "name": "stdout"
        },
        {
          "output_type": "display_data",
          "data": {
            "image/png": "[encoded data removed]",
            "text/plain": [
              "<matplotlib.figure.Figure at 0x7f581cdba190>"
            ]
          },
          "metadata": {
            "tags": []
          }
        },
        {
          "output_type": "stream",
          "text": [
            "t=450\n",
            "['orientation before move: (-1, 0)', 'loc after move: (13, 19)', 'loc after update: (13, 19)', 'loc after turn: (13, 19)', 'orientation after turn: (-1, 0)', 'loc after neighbor updates: (13, 19)']\n"
          ],
          "name": "stdout"
        },
        {
          "output_type": "display_data",
          "data": {
            "image/png": "[encoded data removed]",
            "text/plain": [
              "<matplotlib.figure.Figure at 0x7f581d20cd90>"
            ]
          },
          "metadata": {
            "tags": []
          }
        },
        {
          "output_type": "stream",
          "text": [
            "t=500\n",
            "['orientation before move: (-1, 0)', 'loc after move: (21, 21)', 'loc after update: (21, 21)', 'loc after turn: (21, 21)', 'orientation after turn: (0, 1)', 'loc after neighbor updates: (21, 21)']\n"
          ],
          "name": "stdout"
        },
        {
          "output_type": "display_data",
          "data": {
            "image/png": "[encoded data removed]",
            "text/plain": [
              "<matplotlib.figure.Figure at 0x7f581d34c250>"
            ]
          },
          "metadata": {
            "tags": []
          }
        },
        {
          "output_type": "stream",
          "text": [
            "t=550\n",
            "['orientation before move: (0, 1)', 'loc after move: (21, 23)', 'loc after update: (21, 23)', 'loc after turn: (21, 23)', 'orientation after turn: (1, 0)', 'loc after neighbor updates: (21, 23)']\n"
          ],
          "name": "stdout"
        },
        {
          "output_type": "display_data",
          "data": {
            "image/png": "[encoded data removed]",
            "text/plain": [
              "<matplotlib.figure.Figure at 0x7f581d0ac150>"
            ]
          },
          "metadata": {
            "tags": []
          }
        },
        {
          "output_type": "stream",
          "text": [
            "t=600\n",
            "['orientation before move: (1, 0)', 'loc after move: (23, 23)', 'loc after update: (23, 23)', 'loc after turn: (23, 23)', 'orientation after turn: (0, -1)', 'loc after neighbor updates: (23, 23)']\n"
          ],
          "name": "stdout"
        },
        {
          "output_type": "display_data",
          "data": {
            "image/png": "[encoded data removed]",
            "text/plain": [
              "<matplotlib.figure.Figure at 0x7f581d0bccd0>"
            ]
          },
          "metadata": {
            "tags": []
          }
        },
        {
          "output_type": "stream",
          "text": [
            "t=650\n",
            "['orientation before move: (0, -1)', 'loc after move: (23, 21)', 'loc after update: (23, 21)', 'loc after turn: (23, 21)', 'orientation after turn: (-1, 0)', 'loc after neighbor updates: (23, 21)']\n"
          ],
          "name": "stdout"
        },
        {
          "output_type": "display_data",
          "data": {
            "image/png": "[encoded data removed]",
            "text/plain": [
              "<matplotlib.figure.Figure at 0x7f581cf0fc50>"
            ]
          },
          "metadata": {
            "tags": []
          }
        },
        {
          "output_type": "stream",
          "text": [
            "t=700\n",
            "['orientation before move: (-1, 0)', 'loc after move: (21, 21)', 'loc after update: (21, 21)', 'loc after turn: (21, 21)', 'orientation after turn: (0, 1)', 'loc after neighbor updates: (21, 21)']\n"
          ],
          "name": "stdout"
        },
        {
          "output_type": "display_data",
          "data": {
            "image/png": "[encoded data removed]",
            "text/plain": [
              "<matplotlib.figure.Figure at 0x7f581cf72fd0>"
            ]
          },
          "metadata": {
            "tags": []
          }
        },
        {
          "output_type": "stream",
          "text": [
            "t=750\n",
            "['orientation before move: (0, 1)', 'loc after move: (21, 23)', 'loc after update: (21, 23)', 'loc after turn: (21, 23)', 'orientation after turn: (1, 0)', 'loc after neighbor updates: (21, 23)']\n"
          ],
          "name": "stdout"
        },
        {
          "output_type": "display_data",
          "data": {
            "image/png": "[encoded data removed]",
            "text/plain": [
              "<matplotlib.figure.Figure at 0x7f581cf84a50>"
            ]
          },
          "metadata": {
            "tags": []
          }
        },
        {
          "output_type": "stream",
          "text": [
            "t=800\n",
            "['orientation before move: (1, 0)', 'loc after move: (23, 23)', 'loc after update: (23, 23)', 'loc after turn: (23, 23)', 'orientation after turn: (0, -1)', 'loc after neighbor updates: (23, 23)']\n"
          ],
          "name": "stdout"
        },
        {
          "output_type": "display_data",
          "data": {
            "image/png": "[encoded data removed]",
            "text/plain": [
              "<matplotlib.figure.Figure at 0x7f581d18f910>"
            ]
          },
          "metadata": {
            "tags": []
          }
        },
        {
          "output_type": "stream",
          "text": [
            "t=850\n",
            "['orientation before move: (0, -1)', 'loc after move: (23, 21)', 'loc after update: (23, 21)', 'loc after turn: (23, 21)', 'orientation after turn: (-1, 0)', 'loc after neighbor updates: (23, 21)']\n"
          ],
          "name": "stdout"
        },
        {
          "output_type": "display_data",
          "data": {
            "image/png": "[encoded data removed]",
            "text/plain": [
              "<matplotlib.figure.Figure at 0x7f583b685590>"
            ]
          },
          "metadata": {
            "tags": []
          }
        },
        {
          "output_type": "stream",
          "text": [
            "t=900\n",
            "['orientation before move: (-1, 0)', 'loc after move: (21, 21)', 'loc after update: (21, 21)', 'loc after turn: (21, 21)', 'orientation after turn: (0, 1)', 'loc after neighbor updates: (21, 21)']\n"
          ],
          "name": "stdout"
        },
        {
          "output_type": "display_data",
          "data": {
            "image/png": "[encoded data removed]",
            "text/plain": [
              "<matplotlib.figure.Figure at 0x7f581f46aa50>"
            ]
          },
          "metadata": {
            "tags": []
          }
        },
        {
          "output_type": "stream",
          "text": [
            "t=950\n",
            "['orientation before move: (0, 1)', 'loc after move: (21, 23)', 'loc after update: (21, 23)', 'loc after turn: (21, 23)', 'orientation after turn: (1, 0)', 'loc after neighbor updates: (21, 23)']\n"
          ],
          "name": "stdout"
        },
        {
          "output_type": "display_data",
          "data": {
            "image/png": "[encoded data removed]",
            "text/plain": [
              "<matplotlib.figure.Figure at 0x7f581cf804d0>"
            ]
          },
          "metadata": {
            "tags": []
          }
        }
      ]
    },
    {
      "metadata": {
        "id": "6-wBUrtUd6wB",
        "colab_type": "code",
        "colab": {}
      },
      "cell_type": "code",
      "source": [
        ""
      ],
      "execution_count": 0,
      "outputs": []
    }
  ]
}