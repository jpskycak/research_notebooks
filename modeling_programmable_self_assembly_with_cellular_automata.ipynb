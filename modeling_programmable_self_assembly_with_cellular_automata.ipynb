{
  "nbformat": 4,
  "nbformat_minor": 0,
  "metadata": {
    "colab": {
      "name": "modeling_programmable_self_assembly_with_cellular_automata.ipynb",
      "version": "0.3.2",
      "provenance": [],
      "collapsed_sections": [],
      "include_colab_link": true
    },
    "kernelspec": {
      "name": "python2",
      "display_name": "Python 2"
    }
  },
  "cells": [
    {
      "cell_type": "markdown",
      "metadata": {
        "id": "view-in-github",
        "colab_type": "text"
      },
      "source": [
        "[View in Colaboratory](https://colab.research.google.com/github/jpskycak/research_notebooks/blob/master/modeling_programmable_self_assembly_with_cellular_automata.ipynb)"
      ]
    },
    {
      "metadata": {
        "id": "lULJBcZs-qHm",
        "colab_type": "code",
        "colab": {
          "base_uri": "https://localhost:8080/",
          "height": 696
        },
        "outputId": "577da05d-3f5a-41a6-a3e8-6112d1bb9dbd"
      },
      "cell_type": "code",
      "source": [
        "import numpy as np\n",
        "import matplotlib.pyplot as plt\n",
        "import itertools\n",
        "import random\n",
        "\n",
        "# initial coordinates for agents\n",
        "L = 10\n",
        "scaling_factor = 5\n",
        "gridshape = (scaling_factor*L,scaling_factor*L)\n",
        "grid = np.zeros(gridshape)\n",
        "grid[L:2*L,L:2*L] = 1\n",
        "plt.imshow(grid)\n",
        "plt.grid(False)\n",
        "plt.show()\n",
        "\n",
        "# make shape\n",
        "shape = np.zeros(gridshape)\n",
        "\n",
        "#shape[:L,:L] = 1\n",
        "\n",
        "shape[L-5:L,L-5:L] = 1\n",
        "shape[2*L:2*L+5,2*L:2*L+5] = 1\n",
        "\n",
        "#shape[L:-3,L:-3] = 1\n",
        "#shape[int(1.25*L):-3,int(1.25*L):-3] = 0 \n",
        "\n",
        "plt.imshow(shape)\n",
        "plt.grid(False)\n",
        "plt.show()\n",
        "\n",
        "shape_coordinates = []\n",
        "for x in range(shape.shape[0]):\n",
        "  for y in range(shape.shape[1]):\n",
        "    if shape[x,y] == 1:\n",
        "      shape_coordinates.append((x,y))\n",
        "shape_coordinates[:5]"
      ],
      "execution_count": 7,
      "outputs": [
        {
          "output_type": "display_data",
          "data": {
            "image/png": "[encoded data removed]",
            "text/plain": [
              "<matplotlib.figure.Figure at 0x7f581ce9f3d0>"
            ]
          },
          "metadata": {
            "tags": []
          }
        },
        {
          "output_type": "display_data",
          "data": {
            "image/png": "[encoded data removed]",
            "text/plain": [
              "<matplotlib.figure.Figure at 0x7f581cedd550>"
            ]
          },
          "metadata": {
            "tags": []
          }
        },
        {
          "output_type": "execute_result",
          "data": {
            "text/plain": [
              "[(5, 5), (5, 6), (5, 7), (5, 8), (5, 9)]"
            ]
          },
          "metadata": {
            "tags": []
          },
          "execution_count": 7
        }
      ]
    },
    {
      "metadata": {
        "id": "SqruOrLOCLwy",
        "colab_type": "code",
        "colab": {
          "base_uri": "https://localhost:8080/",
          "height": 141
        },
        "outputId": "8d021b2a-1945-4213-d616-eecebae7a76b"
      },
      "cell_type": "code",
      "source": [
        "# instantiate agents at initial coordinates\n",
        "# initialize estimated coordinates as true initial coordinates\n",
        "# update_neighbors_and_distances()\n",
        "\n",
        "agents = []\n",
        "\n",
        "for x in range(gridshape[0]):\n",
        "  for y in range(gridshape[1]):\n",
        "    if grid[x,y]==1:\n",
        "      agents.append({'true_coordinates':(x,y),\n",
        "                     'estimated_coordinates':(x,y),\n",
        "                     'orientation':(-1,0),\n",
        "                     'id':len(agents),\n",
        "                     'is_source':bool((x,y)==(2*L-1,2*L-1))\n",
        "                    })\n",
        "\n",
        "def distance_metric(a,b):\n",
        "  return max(abs(a[0]-b[0]),abs(a[1]-b[1]))\n",
        "  #return abs(a[0]-b[0])+abs(a[1]-b[1])\n",
        "\n",
        "def in_radius(test_point,center,radius):\n",
        "  out = False\n",
        "  if distance_metric(test_point,center) <= radius:\n",
        "    out = True\n",
        "  return out\n",
        "\n",
        "def get_neighbors_distances_estimations(agent,radius=1):\n",
        "  center = agent['true_coordinates']\n",
        "  neighbors = [i for i,a in enumerate(agents) if in_radius(a['true_coordinates'],center,radius) and a['id'] != agent['id']]\n",
        "  distances = [distance_metric(agents[i]['true_coordinates'],center) for i in neighbors]\n",
        "  estimated_coordinates = agent['estimated_coordinates']\n",
        "  \n",
        "  if len(neighbors)>0:\n",
        "  \n",
        "    neighbors_estimated_coordinates = [agents[n]['estimated_coordinates'] for n in neighbors]\n",
        "    # DEBUG: print 'neighbors for agent id ',agent['id'],' at ',center,'are: ',neighbors\n",
        "    def error_estimated_coordinates(xy):\n",
        "      discrepancies = [d - distance_metric(xy,neighbors_estimated_coordinates[i]) for i,d in enumerate(distances)]\n",
        "      return sum([abs(d) for d in discrepancies])\n",
        "\n",
        "    neighbors_estimated_coordinates_x = [c[0] for c in neighbors_estimated_coordinates]\n",
        "    neighbors_estimated_coordinates_y = [c[1] for c in neighbors_estimated_coordinates]\n",
        "    [min_x, max_x] = [min(neighbors_estimated_coordinates_x), max(neighbors_estimated_coordinates_x)]\n",
        "    [min_y, max_y] = [min(neighbors_estimated_coordinates_y), max(neighbors_estimated_coordinates_y)]\n",
        "    candidate_estimations = list(itertools.product(range(min_x,max_x+1),range(min_y,max_y+1)))\n",
        "    candidate_estimation_errors = [error_estimated_coordinates(xy) for xy in candidate_estimations]\n",
        "\n",
        "    optimal_estimations = [candidate_estimations[i] for i,err in enumerate(candidate_estimation_errors) if err==min(candidate_estimation_errors)]\n",
        "    estimated_coordinates = random.choice(optimal_estimations)\n",
        "  \n",
        "  return [neighbors,distances,estimated_coordinates]\n",
        "\n",
        "\n",
        "for a in agents:\n",
        "  [a['neighbors'],a['distances'],a['estimated_coordinates']] = get_neighbors_distances_estimations(a)\n",
        "  \n",
        "agents[0]"
      ],
      "execution_count": 8,
      "outputs": [
        {
          "output_type": "execute_result",
          "data": {
            "text/plain": [
              "{'distances': [1, 1, 1],\n",
              " 'estimated_coordinates': (10, 10),\n",
              " 'id': 0,\n",
              " 'is_source': False,\n",
              " 'neighbors': [1, 10, 11],\n",
              " 'orientation': (-1, 0),\n",
              " 'true_coordinates': (10, 10)}"
            ]
          },
          "metadata": {
            "tags": []
          },
          "execution_count": 8
        }
      ]
    },
    {
      "metadata": {
        "id": "WXLHjhoJx3wz",
        "colab_type": "code",
        "colab": {
          "base_uri": "https://localhost:8080/",
          "height": 158
        },
        "outputId": "6d091d26-d16f-4c54-bb99-e546fa70ed07"
      },
      "cell_type": "code",
      "source": [
        "# initialize gradient values.\n",
        "\n",
        "for a in agents:\n",
        "  if a['is_source']:\n",
        "    a['gradient_value'] = 0\n",
        "    for neighbor_index in a['neighbors']:\n",
        "      neighbor = agents[neighbor_index]\n",
        "      neighbor['gradient_value'] = 1\n",
        "      \n",
        "def do_all_agents_have_gradient_values():\n",
        "  ans = True\n",
        "  for a in agents:\n",
        "    if 'gradient_value' not in a.keys():\n",
        "      ans = False\n",
        "  return ans\n",
        "\n",
        "while not do_all_agents_have_gradient_values():\n",
        "  for a in agents:\n",
        "    if 'gradient_value' not in a.keys():\n",
        "      neighbors = [agents[i] for i in a['neighbors']]\n",
        "      min_gradient_in_neighbors = 9*10**10\n",
        "      should_assign_gradient_value = False\n",
        "      for neighbor in neighbors:\n",
        "        if 'gradient_value' in neighbor.keys():\n",
        "          min_gradient_in_neighbors = min(neighbor['gradient_value'],min_gradient_in_neighbors)\n",
        "          should_assign_gradient_value = True\n",
        "      if should_assign_gradient_value:\n",
        "        a['gradient_value'] = 1+min_gradient_in_neighbors\n",
        "  \n",
        "agents[0]"
      ],
      "execution_count": 9,
      "outputs": [
        {
          "output_type": "execute_result",
          "data": {
            "text/plain": [
              "{'distances': [1, 1, 1],\n",
              " 'estimated_coordinates': (10, 10),\n",
              " 'gradient_value': 9,\n",
              " 'id': 0,\n",
              " 'is_source': False,\n",
              " 'neighbors': [1, 10, 11],\n",
              " 'orientation': (-1, 0),\n",
              " 'true_coordinates': (10, 10)}"
            ]
          },
          "metadata": {
            "tags": []
          },
          "execution_count": 9
        }
      ]
    },
    {
      "metadata": {
        "id": "suTwySBe67rZ",
        "colab_type": "code",
        "colab": {
          "base_uri": "https://localhost:8080/",
          "height": 347
        },
        "outputId": "3753ebf7-6628-462e-d45b-159f7643378e"
      },
      "cell_type": "code",
      "source": [
        "# check gradient\n",
        "gradient = np.zeros(gridshape)\n",
        "for a in agents:\n",
        "  [x,y] = a['true_coordinates']\n",
        "  gradient[x,y] = a['gradient_value']\n",
        "  \n",
        "plt.imshow(gradient)\n",
        "plt.grid(False)\n",
        "plt.show()"
      ],
      "execution_count": 10,
      "outputs": [
        {
          "output_type": "display_data",
          "data": {
            "image/png": "[encoded data removed]",
            "text/plain": [
              "<matplotlib.figure.Figure at 0x7f581d0acd90>"
            ]
          },
          "metadata": {
            "tags": []
          }
        }
      ]
    },
    {
      "metadata": {
        "id": "BpHZTxleZts2",
        "colab_type": "code",
        "colab": {}
      },
      "cell_type": "code",
      "source": [
        "# edge-following\n",
        "def leaves_shape(old_loc,new_loc):\n",
        "  ans = False\n",
        "  if old_loc in shape_coordinates:\n",
        "    if new_loc not in shape_coordinates:\n",
        "      ans = True\n",
        "  return ans\n",
        "  \n",
        "def can_move(a,debug=False):\n",
        "  neighbors = a['neighbors']\n",
        "  (x0,y0) = a['true_coordinates']\n",
        "  (dx,dy) = a['orientation']\n",
        "  (x,y) = (x0+dx,y0+dy)\n",
        "\n",
        "  ans = False\n",
        "  occupied = [agents[neighbors[i]]['true_coordinates'] for i,d in enumerate(a['distances']) if d==1]\n",
        "  if (x,y) not in occupied:\n",
        "    if x in range(gridshape[0]) and y in range(gridshape[1]): # in grid\n",
        "      if not leaves_shape((x0,y0),(x,y)): # doesn't leave shape\n",
        "        needs_a_neighbor = [point for point in [(x+1,y),(x-1,y),(x,y+1),(x,y-1),(x-1,y-1),(x-1,y+1),(x+1,y-1),(x+1,y+1)] if point != (x0,y0)]\n",
        "        if any([(point in occupied) for point in needs_a_neighbor]): # doesn't isolate itself\n",
        "          ans = True\n",
        "          if debug:\n",
        "            ans = [(x0,y0), (dx,dy), (x,y)]\n",
        "  return ans\n",
        "\n",
        "def update(a):\n",
        "  [a['neighbors'],a['distances'],a['estimated_coordinates']] = get_neighbors_distances_estimations(a)\n",
        "\n",
        "def timestep(first_agent_index=0,agents=agents,shape_coordinates=shape_coordinates):\n",
        "  \n",
        "  if can_move(agents[first_agent_index]):\n",
        "    selected_agent_index = first_agent_index\n",
        "  else:\n",
        "    movable_agents = [i for i,a in enumerate(agents) if can_move(a)]\n",
        "    selected_agent_index = random.choice(movable_agents)\n",
        "  \n",
        "  selected_agent = agents[selected_agent_index]\n",
        "  \n",
        "  highlight_list = ['loc before move: '+str(selected_agent['true_coordinates'])]\n",
        "  highlight_list = ['orientation before move: '+str(selected_agent['orientation'])]\n",
        "  \n",
        "  # move\n",
        "  (x0,y0) = selected_agent['true_coordinates']\n",
        "  (dx,dy) = selected_agent['orientation']\n",
        "  selected_agent['true_coordinates'] = (x0+dx,y0+dy)\n",
        "  \n",
        "  highlight_list = highlight_list + ['loc after move: '+str(selected_agent['true_coordinates'])]\n",
        "  \n",
        "  old_neighbors = selected_agent['neighbors']\n",
        "  update(selected_agent)\n",
        "  new_neighbors = selected_agent['neighbors']\n",
        "  \n",
        "  highlight_list = highlight_list + ['loc after update: '+str(selected_agent['true_coordinates'])]\n",
        "  \n",
        "  move_tries = 0\n",
        "  new_orientations = [(newx,newy) for (newx,newy) in [(-1,0),(0,1),(1,0),(0,-1)] if (newx+dx,newy+dy) != (0,0)]\n",
        "  for ori in new_orientations:\n",
        "    selected_agent['orientation'] = ori\n",
        "    if can_move(selected_agent):\n",
        "      break\n",
        "     \n",
        "  highlight_list = highlight_list + ['loc after turn: '+str(selected_agent['true_coordinates'])]\n",
        "  highlight_list = highlight_list + ['orientation after turn: '+str(selected_agent['orientation'])]\n",
        "  \n",
        "  for i in list(set(old_neighbors).union(set(new_neighbors))):\n",
        "    update(agents[i]) \n",
        "    \n",
        "  debug_list = highlight_list + ['loc after neighbor updates: '+str(selected_agent['true_coordinates'])]\n",
        "    \n",
        "  return selected_agent_index, debug_list\n",
        "\n",
        "def plot_grid(highlight_list=[]):\n",
        "  grid = np.zeros((scaling_factor*L,scaling_factor*L))\n",
        "  for s in shape_coordinates:\n",
        "    grid[s]=0.5\n",
        "  for a in agents:\n",
        "    grid[a['true_coordinates']]=1\n",
        "    \n",
        "  for coordinates in highlight_list:\n",
        "    grid[coordinates[0],coordinates[1]]=2\n",
        "    \n",
        "  plt.imshow(grid)\n",
        "  plt.grid(False)\n",
        "  plt.show()\n",
        "  "
      ],
      "execution_count": 0,
      "outputs": []
    },
    {
      "metadata": {
        "id": "O9Q-g8nGaK61",
        "colab_type": "code",
        "colab": {
          "base_uri": "https://localhost:8080/",
          "height": 3703
        },
        "outputId": "c140ead2-86f4-404e-f4c1-020f1fa1efb3"
      },
      "cell_type": "code",
      "source": [
        "selected_agent_index = 0\n",
        "for t in range(100):\n",
        "  selected_agent_index, debug_list = timestep(selected_agent_index)\n",
        "  if t%10==0:\n",
        "    print 't='+str(t)\n",
        "    print debug_list\n",
        "    plot_grid()"
      ],
      "execution_count": 14,
      "outputs": [
        {
          "output_type": "stream",
          "text": [
            "t=0\n",
            "['orientation before move: (-1, 0)', 'loc after move: (9, 10)', 'loc after update: (9, 10)', 'loc after turn: (9, 10)', 'orientation after turn: (0, 1)', 'loc after neighbor updates: (9, 10)']\n"
          ],
          "name": "stdout"
        },
        {
          "output_type": "display_data",
          "data": {
            "image/png": "[encoded data removed]",
            "text/plain": [
              "<matplotlib.figure.Figure at 0x7f581d268250>"
            ]
          },
          "metadata": {
            "tags": []
          }
        },
        {
          "output_type": "stream",
          "text": [
            "t=10\n",
            "['orientation before move: (0, 1)', 'loc after move: (9, 20)', 'loc after update: (9, 20)', 'loc after turn: (9, 20)', 'orientation after turn: (1, 0)', 'loc after neighbor updates: (9, 20)']\n"
          ],
          "name": "stdout"
        },
        {
          "output_type": "display_data",
          "data": {
            "image/png": "[encoded data removed]",
            "text/plain": [
              "<matplotlib.figure.Figure at 0x7f581d357f50>"
            ]
          },
          "metadata": {
            "tags": []
          }
        },
        {
          "output_type": "stream",
          "text": [
            "t=20\n",
            "['orientation before move: (1, 0)', 'loc after move: (19, 20)', 'loc after update: (19, 20)', 'loc after turn: (19, 20)', 'orientation after turn: (1, 0)', 'loc after neighbor updates: (19, 20)']\n"
          ],
          "name": "stdout"
        },
        {
          "output_type": "display_data",
          "data": {
            "image/png": "[encoded data removed]",
            "text/plain": [
              "<matplotlib.figure.Figure at 0x7f581d357a90>"
            ]
          },
          "metadata": {
            "tags": []
          }
        },
        {
          "output_type": "stream",
          "text": [
            "t=30\n",
            "['orientation before move: (1, 0)', 'loc after move: (13, 20)', 'loc after update: (13, 20)', 'loc after turn: (13, 20)', 'orientation after turn: (1, 0)', 'loc after neighbor updates: (13, 20)']\n"
          ],
          "name": "stdout"
        },
        {
          "output_type": "display_data",
          "data": {
            "image/png": "[encoded data removed]",
            "text/plain": [
              "<matplotlib.figure.Figure at 0x7f581d34ff10>"
            ]
          },
          "metadata": {
            "tags": []
          }
        },
        {
          "output_type": "stream",
          "text": [
            "t=40\n",
            "['orientation before move: (0, -1)', 'loc after move: (21, 20)', 'loc after update: (21, 20)', 'loc after turn: (21, 20)', 'orientation after turn: (0, -1)', 'loc after neighbor updates: (21, 20)']\n"
          ],
          "name": "stdout"
        },
        {
          "output_type": "display_data",
          "data": {
            "image/png": "[encoded data removed]",
            "text/plain": [
              "<matplotlib.figure.Figure at 0x7f581d27a290>"
            ]
          },
          "metadata": {
            "tags": []
          }
        },
        {
          "output_type": "stream",
          "text": [
            "t=50\n",
            "['orientation before move: (1, 0)', 'loc after move: (12, 20)', 'loc after update: (12, 20)', 'loc after turn: (12, 20)', 'orientation after turn: (1, 0)', 'loc after neighbor updates: (12, 20)']\n"
          ],
          "name": "stdout"
        },
        {
          "output_type": "display_data",
          "data": {
            "image/png": "[encoded data removed]",
            "text/plain": [
              "<matplotlib.figure.Figure at 0x7f581cf20dd0>"
            ]
          },
          "metadata": {
            "tags": []
          }
        },
        {
          "output_type": "stream",
          "text": [
            "t=60\n",
            "['orientation before move: (1, 0)', 'loc after move: (21, 21)', 'loc after update: (21, 21)', 'loc after turn: (21, 21)', 'orientation after turn: (1, 0)', 'loc after neighbor updates: (21, 21)']\n"
          ],
          "name": "stdout"
        },
        {
          "output_type": "display_data",
          "data": {
            "image/png": "[encoded data removed]",
            "text/plain": [
              "<matplotlib.figure.Figure at 0x7f581d0b3510>"
            ]
          },
          "metadata": {
            "tags": []
          }
        },
        {
          "output_type": "stream",
          "text": [
            "t=70\n",
            "['orientation before move: (1, 0)', 'loc after move: (12, 9)', 'loc after update: (12, 9)', 'loc after turn: (12, 9)', 'orientation after turn: (1, 0)', 'loc after neighbor updates: (12, 9)']\n"
          ],
          "name": "stdout"
        },
        {
          "output_type": "display_data",
          "data": {
            "image/png": "[encoded data removed]",
            "text/plain": [
              "<matplotlib.figure.Figure at 0x7f581d04d610>"
            ]
          },
          "metadata": {
            "tags": []
          }
        },
        {
          "output_type": "stream",
          "text": [
            "t=80\n",
            "['orientation before move: (0, 1)', 'loc after move: (20, 11)', 'loc after update: (20, 11)', 'loc after turn: (20, 11)', 'orientation after turn: (0, 1)', 'loc after neighbor updates: (20, 11)']\n"
          ],
          "name": "stdout"
        },
        {
          "output_type": "display_data",
          "data": {
            "image/png": "[encoded data removed]",
            "text/plain": [
              "<matplotlib.figure.Figure at 0x7f581d143c50>"
            ]
          },
          "metadata": {
            "tags": []
          }
        },
        {
          "output_type": "stream",
          "text": [
            "t=90\n",
            "['orientation before move: (1, 0)', 'loc after move: (22, 19)', 'loc after update: (22, 19)', 'loc after turn: (22, 19)', 'orientation after turn: (1, 0)', 'loc after neighbor updates: (22, 19)']\n"
          ],
          "name": "stdout"
        },
        {
          "output_type": "display_data",
          "data": {
            "image/png": "[encoded data removed]",
            "text/plain": [
              "<matplotlib.figure.Figure at 0x7f581d17b410>"
            ]
          },
          "metadata": {
            "tags": []
          }
        }
      ]
    },
    {
      "metadata": {
        "id": "6-wBUrtUd6wB",
        "colab_type": "code",
        "colab": {}
      },
      "cell_type": "code",
      "source": [
        ""
      ],
      "execution_count": 0,
      "outputs": []
    }
  ]
}