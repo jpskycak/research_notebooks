{
  "nbformat": 4,
  "nbformat_minor": 0,
  "metadata": {
    "colab": {
      "name": "modeling_programmable_self_assembly_with_cellular_automata.ipynb",
      "version": "0.3.2",
      "provenance": [],
      "collapsed_sections": [],
      "include_colab_link": true
    },
    "kernelspec": {
      "name": "python2",
      "display_name": "Python 2"
    }
  },
  "cells": [
    {
      "cell_type": "markdown",
      "metadata": {
        "id": "view-in-github",
        "colab_type": "text"
      },
      "source": [
        "[View in Colaboratory](https://colab.research.google.com/github/jpskycak/research_notebooks/blob/master/modeling_programmable_self_assembly_with_cellular_automata.ipynb)"
      ]
    },
    {
      "metadata": {
        "id": "lULJBcZs-qHm",
        "colab_type": "code",
        "colab": {}
      },
      "cell_type": "code",
      "source": [
        "import numpy as np\n",
        "import matplotlib.pyplot as plt\n",
        "import itertools\n",
        "import random\n",
        "  \n",
        "def linf_distance((a,b),(x,y)):\n",
        "  return max(abs(a-x),abs(b-y))\n",
        "def l1_distance((a,b),(x,y)):\n",
        "  return abs(a-x)+abs(b-y)\n",
        "def displacement(initial,terminal):\n",
        "  return (terminal[0]-initial[0], terminal[1]-initial[1])\n",
        "def get_coordinates(array):\n",
        "  return [(i,j) for i,row in enumerate(array) for j,val in enumerate(row) if val==1]\n",
        "def arrow(direction):\n",
        "  # arrows: http://xahlee.info/comp/unicode_arrows.html\n",
        "  arrowdict = {'(-1, 0)':'🡑',\n",
        "              '(-1, 1)':'🡕',\n",
        "              '(0, 1)':'🡒',\n",
        "              '(1, 1)':'🡖',\n",
        "              '(1, 0)':'🡓',\n",
        "              '(1, -1)':'🡗',\n",
        "              '(0, -1)':'🡐',\n",
        "              '(-1, -1)':'🡔'}\n",
        "  return arrowdict[str(direction)]\n",
        "  \n",
        "class Agents:\n",
        "  \n",
        "  ##########################\n",
        "  ### PLOTTING / LOGGING ###\n",
        "  ##########################\n",
        "  \n",
        "  def make_grid(self,highlight_agents_by_index=[],gradient=True):\n",
        "    grid = np.ones((self.grid_shape[0],self.grid_shape[1],3))\n",
        "    for p in self.template_coordinates:\n",
        "      grid[p][0] = 1\n",
        "      grid[p][1] = 1\n",
        "      grid[p][2] = 125\n",
        "      \n",
        "    if gradient:\n",
        "      max_gradient = max(self.gradient)\n",
        "      for i,p in enumerate(self.agent_coordinates):\n",
        "        val = 100+ 100*(1 - float(max_gradient - self.gradient[i])/max_gradient)\n",
        "        grid[p][0] = val\n",
        "        grid[p][1] = val\n",
        "        grid[p][2] = val\n",
        "        if self.activity[i] == False:\n",
        "          grid[p][2] = 1\n",
        "        if i in highlight_agents_by_index:\n",
        "          grid[p][1] = 1\n",
        "    else:\n",
        "      for i,p in enumerate(self.agent_coordinates):\n",
        "        grid[p][0] = 200\n",
        "        grid[p][1] = 200\n",
        "        grid[p][2] = 200\n",
        "        if self.activity[i] == False:\n",
        "          grid[p][2] = 1\n",
        "        if i in highlight_agents_by_index:\n",
        "          grid[p][1] = 1\n",
        "        \n",
        "    return grid\n",
        "  \n",
        "  def update_logarray(self,highlight_agents_by_index=[]):\n",
        "    grid = self.make_grid(highlight_agents_by_index=highlight_agents_by_index)\n",
        "    self.logarray.append(grid)\n",
        "    \n",
        "  def plot(self,t=0):\n",
        "    print self.logstr[t]\n",
        "    nskip = 1\n",
        "    grids = [self.logarray[nskip+2*t],self.logarray[nskip+2*t+1]]\n",
        "    for grid in grids:\n",
        "      plt.imshow(grid)\n",
        "      plt.grid(False)\n",
        "      plt.show()\n",
        "  \n",
        "  #########################\n",
        "  ### UPDATES UTILITIES ###\n",
        "  #########################\n",
        "  \n",
        "  def prospective_location(self,i):\n",
        "    (x0,y0) = self.agent_coordinates[i]\n",
        "    (dx,dy) = self.direction[i]\n",
        "    (x,y) = (x0+dx,y0+dy)\n",
        "    return (x,y)\n",
        "  \n",
        "  def linf_distance_to_template(self,p):\n",
        "    return min([linf_distance(p,t) for t in self.template_coordinates])\n",
        "  \n",
        "  def angle(self,i,p):\n",
        "    p_direction = displacement(self.agent_coordinates[i],p)\n",
        "    return l1_distance(self.direction[i],p_direction)\n",
        "  \n",
        "  def choose(self,i,plist):\n",
        "    if len(plist) == 1:\n",
        "      return plist[0]\n",
        "    elif len(plist) >= 2:\n",
        "      angles = [self.angle(i,p) for p in plist]\n",
        "      leastangle = min(angles)\n",
        "      plist = [plist[j] for j,a in enumerate(angles) if a==leastangle]\n",
        "      if len(plist) == 1:\n",
        "        return plist[0]\n",
        "      else:\n",
        "        distances = [self.linf_distance_to_template(p) for p in plist]\n",
        "        leastdist = min(distances)\n",
        "        plist = [plist[j] for j,d in enumerate(distances) if d==leastdist]\n",
        "        if len(plist) == 1:\n",
        "          return plist[0]\n",
        "        elif len(plist) >= 2:\n",
        "          return random.choice(plist)\n",
        "  \n",
        "  def surroundings(self,i):\n",
        "    (x0,y0) = self.agent_coordinates[i]\n",
        "    coordinates = [(x0-1,y0),(x0-1,y0+1),(x0,y0+1),(x0+1,y0+1),(x0+1,y0),(x0+1,y0-1),(x0,y0-1),(x0-1,y0-1)]\n",
        "    ans = [{'coordinates': (x,y),\n",
        "            'is_unoccupied': (x,y) not in self.agent_coordinates,\n",
        "            'is_in_template': (x,y) in self.template_coordinates,\n",
        "            'is_in_grid': x in range(self.grid_shape[0]) and y in range(self.grid_shape[1])} for (x,y) in coordinates]\n",
        "    return ans\n",
        "  \n",
        "  def edgefollows(self,i):\n",
        "    surr = self.surroundings(i)\n",
        "    o = [s['is_unoccupied'] for s in surr]\n",
        "    ans = []\n",
        "    for k in range(8):\n",
        "      o0, o1, o2, o3, o4, o5, o6, o7 = o[(k+0)%8], o[(k+1)%8], o[(k+2)%8], o[(k+3)%8], o[(k+4)%8], o[(k+5)%8], o[(k+6)%8], o[(k+7)%8]\n",
        "      x0, x1, x2, x3, x4, x5, x6, x7 = not o0, not o1, not o2, not o3, not o4, not o5, not o6, not o7\n",
        "      if o0 and o1 and o2 and o3:\n",
        "        if x4 and x5 and x6 and x7:\n",
        "          #  x  x  x\n",
        "          #  x     o*\n",
        "          #  o* o  o\n",
        "          ans = [surr[(k+0)%8]['coordinates'],surr[(k+3)%8]['coordinates']]\n",
        "          break\n",
        "        elif o4 and x5 and x6 and x7:\n",
        "          #  x  x  o*   x  x  x\n",
        "          #  x     o    o*    o*\n",
        "          #  o* o  o    o  o  o\n",
        "          ans = [surr[(k+0)%8]['coordinates'],surr[(k+4)%8]['coordinates']]\n",
        "          break\n",
        "        elif o4 and o5 and x6 and x7:\n",
        "          #  x  x  o*\n",
        "          #  o*    o\n",
        "          #  o  o  o\n",
        "          ans = [surr[(k+0)%8]['coordinates'],surr[(k+5)%8]['coordinates']]\n",
        "          break\n",
        "        elif o4 and o5 and o6 and x7:\n",
        "          #  x  o* o\n",
        "          #  o*    o\n",
        "          #  o  o  o\n",
        "          ans = [surr[(k+0)%8]['coordinates'],surr[(k+6)%8]['coordinates']]\n",
        "          break\n",
        "      elif o0 and o1 and x3 and x4 and o5 and x6:\n",
        "        #  o  e  x\n",
        "        #  o     o*\n",
        "        #  e  x  x\n",
        "        ans = [surr[(k+5)%8]['coordinates']]\n",
        "        break\n",
        "      elif o0 and x1 and x2 and x3 and o4 and x5 and x6 and x7:\n",
        "        #  x  x  x\n",
        "        #  o*    o*\n",
        "        #  x  x  x\n",
        "        ans = [surr[(k+0)%8]['coordinates'],surr[(k+4)%8]['coordinates']]\n",
        "        break\n",
        "    surr_in_grid = [s['coordinates'] for s in surr if s['is_in_grid']]\n",
        "    ans = [p for p in ans if p in surr_in_grid]\n",
        "    return ans\n",
        "  \n",
        "  ###############\n",
        "  ### UPDATES ###\n",
        "  ###############\n",
        "  \n",
        "  def update_direction_coordinates(self,i):\n",
        "    if self.activity[i]: # forward edge-follow\n",
        "      p = self.prospective_location(i)\n",
        "      plist = self.edgefollows(i)\n",
        "      if p in plist:\n",
        "        self.agent_coordinates[i] = p\n",
        "      elif len(plist)>0: # turn & edge-follow\n",
        "        p = self.choose(i,plist)\n",
        "        self.direction[i] = displacement(self.agent_coordinates[i],p)\n",
        "        self.update_activity(i)\n",
        "        if self.activity[i]:\n",
        "          self.agent_coordinates[i] = p\n",
        "  \n",
        "  def get_neighbors(self,i):\n",
        "    p0 = self.agent_coordinates[i]\n",
        "    return [j for j,p in enumerate(self.agent_coordinates) if linf_distance(p0,p)==1 and i!=j]\n",
        "  \n",
        "  def update_neighbors(self):\n",
        "    self.neighbors = [self.get_neighbors(i) for i in range(len(self.agent_coordinates))]\n",
        "    \n",
        "  def update_gradient(self):\n",
        "    self.gradient = ['' for _ in self.agent_coordinates]\n",
        "    i_source = self.is_source.index(True)\n",
        "    self.gradient[i_source] = 0\n",
        "    for j in self.neighbors[i_source]:\n",
        "      self.gradient[j] = 1\n",
        "    while '' in self.gradient:\n",
        "      for i,g in enumerate(self.gradient):\n",
        "        if g=='':\n",
        "          min_gradient_in_neighbors = 10**10 # big number\n",
        "          should_assign_gradient_value = False\n",
        "          for j in self.neighbors[i]:\n",
        "            if self.gradient[j] != '':\n",
        "              min_gradient_in_neighbors = min(self.gradient[j],min_gradient_in_neighbors)\n",
        "              should_assign_gradient_value = True\n",
        "          if should_assign_gradient_value:\n",
        "            self.gradient[i] = 1+min_gradient_in_neighbors\n",
        "            \n",
        "  def update_activity(self,i):\n",
        "    if self.activity[i]:\n",
        "      p0 = self.agent_coordinates[i]\n",
        "      p = self.prospective_location(i)\n",
        "      if p0 in self.template_coordinates: # if inside the shape\n",
        "        if p not in self.template_coordinates: # turn off if moving forward would leave the shape\n",
        "          self.activity[i] = False\n",
        "        inactive_neighbors = [j for j in self.neighbors[i] if self.activity[j]==False]\n",
        "        if len(inactive_neighbors)>0:\n",
        "          if any([self.gradient[i] == self.gradient[j] for j in inactive_neighbors]): # turn off if inactive neighbor has same gradient value\n",
        "            self.activity[i] = False\n",
        "    \n",
        "  def update_activities(self):\n",
        "    for i in range(len(self.agent_coordinates)):\n",
        "      self.update_activity(i)\n",
        "      \n",
        "  def update_logstr(self,i,(p0,dir0,activity0,neighbors0,edgefollows0),(p1,dir1,activity1,neighbors1,edgefollows1)):\n",
        "    dir0, dir1 = arrow(dir0), arrow(dir1)\n",
        "    translation_dict = {True:'on',False:'off'}\n",
        "    activity0, activity1 = translation_dict[activity0], translation_dict[activity1]\n",
        "    template_string = 'Agent {0}: [{1},{2},{3}]-->[{4},{5},{6}]\\nNeighbors: {7}\\nEdgefollows: {8}'\n",
        "    newstring = template_string.format(i,p0,dir0,activity0,p1,dir1,activity1,neighbors0,edgefollows0)\n",
        "    self.logstr.append(newstring)\n",
        "  \n",
        "  ##########################\n",
        "  ### DYNAMICS UTILITIES ###\n",
        "  ##########################\n",
        "  \n",
        "  def init_template_coordinates(self):\n",
        "    L = self.L\n",
        "    template_array = np.zeros(self.grid_shape)\n",
        "    template_array[2*L-1:3*L-1,2*L-1:3*L-1] = 1\n",
        "    return get_coordinates(template_array)\n",
        "  \n",
        "  def init_agent_coordinates(self):\n",
        "    L = self.L\n",
        "    agents_array = np.zeros(self.grid_shape)\n",
        "    agents_array[L:2*L,L:2*L] = 1\n",
        "    return get_coordinates(agents_array)\n",
        "  \n",
        "  def init_activity(self):\n",
        "    ans = [True for _ in self.agent_coordinates]\n",
        "    ans[-1] = False\n",
        "    return ans\n",
        "  \n",
        "  def init_direction(self):\n",
        "    return [(1,0) for _ in self.agent_coordinates]\n",
        "  \n",
        "  def init_is_source(self):\n",
        "    ans = []\n",
        "    prod = [i*j for (i,j) in self.agent_coordinates]\n",
        "    maxprod = max(prod)\n",
        "    return [bool(p == maxprod) for p in prod]\n",
        "    \n",
        "  def get_logstr_params(self,i):\n",
        "    p0, dir0, activity0 = self.agent_coordinates[i], self.direction[i], self.activity[i]\n",
        "    neighbors0 = ' '.join([str(self.agent_coordinates[j]) for j in self.neighbors[i]])\n",
        "    edgefollows0 = ' '.join([str(e) for e in self.edgefollows(i)])\n",
        "    return (p0,dir0,activity0,neighbors0,edgefollows0)\n",
        "  \n",
        "  def move(self,i):\n",
        "    orig_coordinates = self.agent_coordinates[i]\n",
        "    self.update_direction_coordinates(i)\n",
        "    self.coordinates_log.append(self.agent_coordinates)\n",
        "    self.update_neighbors()\n",
        "    self.update_gradient()\n",
        "    self.gradient_log.append(self.gradient)\n",
        "    self.update_activities()\n",
        "    if self.agent_coordinates[i] == orig_coordinates:\n",
        "      return False\n",
        "    else:\n",
        "      return True\n",
        "      \n",
        "  ################\n",
        "  ### DYNAMICS ###\n",
        "  ################\n",
        "  \n",
        "  def __init__(self,L=5,scale=5):\n",
        "    self.L = L\n",
        "    self.scale = scale\n",
        "    self.grid_shape = (scale*L, scale*L)\n",
        "    self.template_coordinates = self.init_template_coordinates()\n",
        "    self.agent_coordinates = self.init_agent_coordinates()\n",
        "    self.coordinates_log = []\n",
        "    #self.coordinates_log.append(self.agent_coordinates)\n",
        "    self.activity = self.init_activity()    \n",
        "    self.direction = self.init_direction()\n",
        "    self.is_source = self.init_is_source()\n",
        "    \n",
        "    self.gradient = []\n",
        "    self.update_neighbors()\n",
        "    self.update_gradient() \n",
        "    self.gradient_log = []\n",
        "    #self.gradient_log.append(self.gradient)\n",
        "    \n",
        "    self.logstr = []\n",
        "    self.logarray = [self.make_grid()]\n",
        "   \n",
        "  def timestep(self,computation='parallel',log=True):\n",
        "      \n",
        "    subset = [i for i,a in enumerate(self.activity) if a==True]\n",
        "    random.shuffle(subset)\n",
        "    if computation=='parallel':\n",
        "      for i in subset:\n",
        "        if len(self.edgefollows(i))>0:\n",
        "          if log:\n",
        "            logstr_params0 = self.get_logstr_params(i)\n",
        "            self.update_logarray(highlight_agents_by_index=[i])\n",
        "            self.move(i)\n",
        "            logstr_params1 = self.get_logstr_params(i)\n",
        "            self.update_logstr(i,logstr_params0,logstr_params1)\n",
        "            self.update_logarray(highlight_agents_by_index=[i])\n",
        "          else:\n",
        "            self.move(i)\n",
        "    elif computation=='series':\n",
        "      for i in [random.choice(subset)]:\n",
        "        if len(self.edgefollows(i))>0:\n",
        "          ans = True\n",
        "          while ans:\n",
        "            if log:\n",
        "              logstr_params0 = self.get_logstr_params(i)\n",
        "              self.update_logarray(highlight_agents_by_index=[i])\n",
        "              ans = self.move(i)\n",
        "              logstr_params1 = self.get_logstr_params(i)\n",
        "              self.update_logstr(i,logstr_params0,logstr_params1) \n",
        "              self.update_logarray(highlight_agents_by_index=[i])\n",
        "            else:\n",
        "              self.move(i)\n",
        "            \n",
        "  def run(self,max_iter=1000,log_every=10,computation='parallel'):\n",
        "    counter = 0\n",
        "    tenth = int(float(max_iter)/10)\n",
        "    tenths = 0\n",
        "    print 'running...'\n",
        "    while counter < max_iter:\n",
        "      log = False\n",
        "      if counter % log_every == 0:\n",
        "        log=True\n",
        "      if counter % tenth == 0:\n",
        "        print('       ...'+str(tenths*10)+'%')\n",
        "        tenths += 1\n",
        "      a.timestep(computation=computation,log=log)\n",
        "      counter += 1\n",
        "      if set(a.agent_coordinates) == set(a.template_coordinates):\n",
        "        self.update_logarray()\n",
        "        print 'SUCCESS'\n",
        "        break\n",
        "      if counter == max_iter:\n",
        "        print 'reached max iterations'"
      ],
      "execution_count": 0,
      "outputs": []
    },
    {
      "metadata": {
        "id": "R5900FytY5OW",
        "colab_type": "code",
        "colab": {
          "base_uri": "https://localhost:8080/",
          "height": 221
        },
        "outputId": "8ad6eae9-6a2b-49a2-8bcd-8a55eb42434a"
      },
      "cell_type": "code",
      "source": [
        "a = Agents(L=5)\n",
        "a.run(max_iter=200,log_every=1,computation='parallel')"
      ],
      "execution_count": 460,
      "outputs": [
        {
          "output_type": "stream",
          "text": [
            "running...\n",
            "       ...0%\n",
            "       ...10%\n",
            "       ...20%\n",
            "       ...30%\n",
            "       ...40%\n",
            "       ...50%\n",
            "       ...60%\n",
            "       ...70%\n",
            "       ...80%\n",
            "       ...90%\n",
            "reached max iterations\n"
          ],
          "name": "stdout"
        }
      ]
    },
    {
      "metadata": {
        "id": "G_ipIwHX764R",
        "colab_type": "code",
        "colab": {
          "base_uri": "https://localhost:8080/",
          "height": 5477
        },
        "outputId": "07a5ec78-e9e6-44a7-8ab2-b85980be462a"
      },
      "cell_type": "code",
      "source": [
        "for t in range(5):\n",
        "  print '______________________________'\n",
        "  print 't='+str(t)\n",
        "  a.plot(t)\n",
        "  gradient_log = a.gradient_log[t]\n",
        "  coordinates_log = a.coordinates_log[t]\n",
        "  print gradient_log\n",
        "  \n",
        "  arrayshape = a.logarray[t].shape\n",
        "  gradarray = np.zeros((arrayshape[0],arrayshape[1]))\n",
        "  for i,(x,y) in enumerate(coordinates_log):\n",
        "    gradarray[x,y] = float(5+gradient_log[i])/10\n",
        "  #print gradarray\n",
        "  plt.imshow(gradarray)\n",
        "  plt.grid(False)\n",
        "  plt.show()          "
      ],
      "execution_count": 461,
      "outputs": [
        {
          "output_type": "stream",
          "text": [
            "______________________________\n",
            "t=0\n",
            "Agent 4: [(5, 9),🡓,on]-->[(6, 10),🡖,on]\n",
            "Neighbors: (5, 8) (6, 8) (6, 9)\n",
            "Edgefollows: (4, 8) (6, 10)\n"
          ],
          "name": "stdout"
        },
        {
          "output_type": "display_data",
          "data": {
            "image/png": "[encoded data removed]",
            "text/plain": [
              "<matplotlib.figure.Figure at 0x7f5898519c90>"
            ]
          },
          "metadata": {
            "tags": []
          }
        },
        {
          "output_type": "display_data",
          "data": {
            "image/png": "[encoded data removed]",
            "text/plain": [
              "<matplotlib.figure.Figure at 0x7f589871d690>"
            ]
          },
          "metadata": {
            "tags": []
          }
        },
        {
          "output_type": "stream",
          "text": [
            "[4, 4, 4, 4, 3, 4, 3, 3, 3, 3, 4, 3, 2, 2, 2, 4, 3, 2, 1, 1, 4, 3, 2, 1, 0]\n"
          ],
          "name": "stdout"
        },
        {
          "output_type": "display_data",
          "data": {
            "image/png": "[encoded data removed]",
            "text/plain": [
              "<matplotlib.figure.Figure at 0x7f58988d29d0>"
            ]
          },
          "metadata": {
            "tags": []
          }
        },
        {
          "output_type": "stream",
          "text": [
            "______________________________\n",
            "t=1\n",
            "Agent 0: [(5, 5),🡓,on]-->[(6, 4),🡗,on]\n",
            "Neighbors: (5, 6) (6, 5) (6, 6)\n",
            "Edgefollows: (6, 4) (4, 6)\n"
          ],
          "name": "stdout"
        },
        {
          "output_type": "display_data",
          "data": {
            "image/png": "[encoded data removed]",
            "text/plain": [
              "<matplotlib.figure.Figure at 0x7f5898399590>"
            ]
          },
          "metadata": {
            "tags": []
          }
        },
        {
          "output_type": "display_data",
          "data": {
            "image/png": "[encoded data removed]",
            "text/plain": [
              "<matplotlib.figure.Figure at 0x7f58997aab90>"
            ]
          },
          "metadata": {
            "tags": []
          }
        },
        {
          "output_type": "stream",
          "text": [
            "[5, 4, 4, 4, 3, 4, 3, 3, 3, 3, 4, 3, 2, 2, 2, 4, 3, 2, 1, 1, 4, 3, 2, 1, 0]\n"
          ],
          "name": "stdout"
        },
        {
          "output_type": "display_data",
          "data": {
            "image/png": "[encoded data removed]",
            "text/plain": [
              "<matplotlib.figure.Figure at 0x7f58985293d0>"
            ]
          },
          "metadata": {
            "tags": []
          }
        },
        {
          "output_type": "stream",
          "text": [
            "______________________________\n",
            "t=2\n",
            "Agent 3: [(5, 8),🡓,on]-->[(5, 9),🡒,on]\n",
            "Neighbors: (5, 7) (6, 7) (6, 8) (6, 9)\n",
            "Edgefollows: (4, 7) (5, 9)\n"
          ],
          "name": "stdout"
        },
        {
          "output_type": "display_data",
          "data": {
            "image/png": "[encoded data removed]",
            "text/plain": [
              "<matplotlib.figure.Figure at 0x7f589861af50>"
            ]
          },
          "metadata": {
            "tags": []
          }
        },
        {
          "output_type": "display_data",
          "data": {
            "image/png": "[encoded data removed]",
            "text/plain": [
              "<matplotlib.figure.Figure at 0x7f5898560ed0>"
            ]
          },
          "metadata": {
            "tags": []
          }
        },
        {
          "output_type": "stream",
          "text": [
            "[5, 4, 4, 4, 3, 4, 3, 3, 3, 3, 4, 3, 2, 2, 2, 4, 3, 2, 1, 1, 4, 3, 2, 1, 0]\n"
          ],
          "name": "stdout"
        },
        {
          "output_type": "display_data",
          "data": {
            "image/png": "[encoded data removed]",
            "text/plain": [
              "<matplotlib.figure.Figure at 0x7f58987c42d0>"
            ]
          },
          "metadata": {
            "tags": []
          }
        },
        {
          "output_type": "stream",
          "text": [
            "______________________________\n",
            "t=3\n",
            "Agent 20: [(9, 5),🡓,on]-->[(10, 6),🡖,on]\n",
            "Neighbors: (8, 5) (8, 6) (9, 6)\n",
            "Edgefollows: (10, 6) (8, 4)\n"
          ],
          "name": "stdout"
        },
        {
          "output_type": "display_data",
          "data": {
            "image/png": "[encoded data removed]",
            "text/plain": [
              "<matplotlib.figure.Figure at 0x7f58983efc10>"
            ]
          },
          "metadata": {
            "tags": []
          }
        },
        {
          "output_type": "display_data",
          "data": {
            "image/png": "[encoded data removed]",
            "text/plain": [
              "<matplotlib.figure.Figure at 0x7f5898705c90>"
            ]
          },
          "metadata": {
            "tags": []
          }
        },
        {
          "output_type": "stream",
          "text": [
            "[5, 4, 4, 4, 3, 4, 3, 3, 3, 3, 4, 3, 2, 2, 2, 4, 3, 2, 1, 1, 3, 3, 2, 1, 0]\n"
          ],
          "name": "stdout"
        },
        {
          "output_type": "display_data",
          "data": {
            "image/png": "[encoded data removed]",
            "text/plain": [
              "<matplotlib.figure.Figure at 0x7f589870f210>"
            ]
          },
          "metadata": {
            "tags": []
          }
        },
        {
          "output_type": "stream",
          "text": [
            "______________________________\n",
            "t=4\n",
            "Agent 1: [(5, 6),🡓,on]-->[(5, 5),🡐,on]\n",
            "Neighbors: (5, 7) (6, 5) (6, 6) (6, 7)\n",
            "Edgefollows: (5, 5) (4, 7)\n"
          ],
          "name": "stdout"
        },
        {
          "output_type": "display_data",
          "data": {
            "image/png": "[encoded data removed]",
            "text/plain": [
              "<matplotlib.figure.Figure at 0x7f5898832310>"
            ]
          },
          "metadata": {
            "tags": []
          }
        },
        {
          "output_type": "display_data",
          "data": {
            "image/png": "[encoded data removed]",
            "text/plain": [
              "<matplotlib.figure.Figure at 0x7f5899485990>"
            ]
          },
          "metadata": {
            "tags": []
          }
        },
        {
          "output_type": "stream",
          "text": [
            "[5, 4, 4, 4, 3, 4, 3, 3, 3, 3, 4, 3, 2, 2, 2, 4, 3, 2, 1, 1, 3, 3, 2, 1, 0]\n"
          ],
          "name": "stdout"
        },
        {
          "output_type": "display_data",
          "data": {
            "image/png": "[encoded data removed]",
            "text/plain": [
              "<matplotlib.figure.Figure at 0x7f5899973850>"
            ]
          },
          "metadata": {
            "tags": []
          }
        }
      ]
    },
    {
      "metadata": {
        "id": "BcHOXTNQn4Rm",
        "colab_type": "code",
        "colab": {}
      },
      "cell_type": "code",
      "source": [
        ""
      ],
      "execution_count": 0,
      "outputs": []
    }
  ]
}