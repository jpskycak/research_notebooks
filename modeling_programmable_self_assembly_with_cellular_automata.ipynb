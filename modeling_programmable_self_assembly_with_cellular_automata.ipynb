{
  "nbformat": 4,
  "nbformat_minor": 0,
  "metadata": {
    "colab": {
      "name": "modeling_programmable_self_assembly_with_cellular_automata.ipynb",
      "version": "0.3.2",
      "provenance": [],
      "collapsed_sections": [],
      "include_colab_link": true
    },
    "kernelspec": {
      "name": "python2",
      "display_name": "Python 2"
    }
  },
  "cells": [
    {
      "cell_type": "markdown",
      "metadata": {
        "id": "view-in-github",
        "colab_type": "text"
      },
      "source": [
        "[View in Colaboratory](https://colab.research.google.com/github/jpskycak/research_notebooks/blob/master/modeling_programmable_self_assembly_with_cellular_automata.ipynb)"
      ]
    },
    {
      "metadata": {
        "id": "lULJBcZs-qHm",
        "colab_type": "code",
        "colab": {}
      },
      "cell_type": "code",
      "source": [
        "import numpy as np\n",
        "import matplotlib.pyplot as plt\n",
        "import itertools\n",
        "import random\n",
        "  \n",
        "def distance((a,b),(x,y)):\n",
        "  return max(abs(a-x),abs(b-y))\n",
        "def get_coordinates(array):\n",
        "  return [(i,j) for i,row in enumerate(array) for j,val in enumerate(row) if val==1]\n",
        "  \n",
        "class Agents:\n",
        "  \n",
        "  def __init__(self,L=10,scale=5):\n",
        "    self.grid_shape = (scale*L, scale*L)\n",
        "    agents_array = np.zeros(self.grid_shape)\n",
        "    agents_array[L:2*L,L:2*L] = 1\n",
        "    template_array = np.zeros(self.grid_shape)\n",
        "    template_array[2*L-1:3*L-1,2*L-1:3*L-1] = 1\n",
        "    self.template_coordinates = get_coordinates(template_array)\n",
        "    \n",
        "    self.true_coordinates = get_coordinates(agents_array)\n",
        "    self.estimated_coordinates = self.true_coordinates\n",
        "    self.orientation = [(1,0) for _ in self.true_coordinates]\n",
        "    self.update_neighbors()\n",
        "    \n",
        "    prod = [i*j for (i,j) in self.true_coordinates]\n",
        "    maxprod = max(prod)\n",
        "    self.is_source = [bool(p == maxprod) for p in prod]\n",
        "    self.update_gradient()  \n",
        "    self.log = []\n",
        "    \n",
        "  def get_neighbors(self,i):\n",
        "    center = self.true_coordinates[i]\n",
        "    return [j for j,p in enumerate(self.true_coordinates) if distance(center,p)==1 and i!=j]\n",
        "  \n",
        "  def plot(self,highlight=[]):\n",
        "    grid = np.zeros(self.grid_shape)\n",
        "    for p in self.template_coordinates:\n",
        "      grid[p]=0.33\n",
        "    #max_gradient = max(self.gradient)\n",
        "    for i,p in enumerate(self.true_coordinates):\n",
        "      grid[p] = 1#1+ 2*(1 - float(max_gradient - self.gradient[i])/max_gradient)\n",
        "    for i in highlight:\n",
        "      grid[self.true_coordinates[i]] = 2\n",
        "    plt.imshow(grid)\n",
        "    plt.grid(False)\n",
        "    plt.show()\n",
        "  \n",
        "  def update_neighbors(self):\n",
        "    self.neighbors = [self.get_neighbors(i) for i in range(len(self.true_coordinates))]\n",
        "  \n",
        "  def get_estimated_coordinates(self,i):\n",
        "    neighbors_estimated_coordinates = [self.estimated_coordinates[j] for j in self.neighbors[i]]\n",
        "    neighbors_estimated_coordinates_x = [p[0] for p in neighbors_estimated_coordinates]\n",
        "    neighbors_estimated_coordinates_y = [p[1] for p in neighbors_estimated_coordinates]\n",
        "    [min_x, max_x] = [min(neighbors_estimated_coordinates_x), max(neighbors_estimated_coordinates_x)]\n",
        "    [min_y, max_y] = [min(neighbors_estimated_coordinates_y), max(neighbors_estimated_coordinates_y)]\n",
        "    candidate_estimations = list(itertools.product(range(min_x-1,max_x+2),range(min_y-1,max_y+2)))\n",
        "    \n",
        "    def error_estimated_coordinates(p):\n",
        "      errors = [1 - distance(p,p_neighbor) for p_neighbor in neighbors_estimated_coordinates]\n",
        "      return sum([abs(err) for err in errors])\n",
        "    \n",
        "    candidate_estimation_errors = [error_estimated_coordinates(p) for p in candidate_estimations]\n",
        "    optimal_estimations = [candidate_estimations[i] for i,err in enumerate(candidate_estimation_errors) if err==min(candidate_estimation_errors)]\n",
        "    estimated_coordinates = random.choice(optimal_estimations)\n",
        "    return estimated_coordinates\n",
        "  \n",
        "  def update_estimated_coordinates(self):\n",
        "    self.estimated_coordinates = [self.get_estimated_coordinates(i) for i in range(len(self.true_coordinates))]\n",
        "    \n",
        "  def update_gradient(self):\n",
        "    self.gradient = ['' for _ in self.true_coordinates]\n",
        "    i_source = self.is_source.index(True)\n",
        "    self.gradient[i_source] = 0\n",
        "    for j in self.neighbors[i_source]:\n",
        "      self.gradient[j] = 1\n",
        "    while '' in self.gradient:\n",
        "      for i,g in enumerate(self.gradient):\n",
        "        if g=='':\n",
        "          min_gradient_in_neighbors = 9*10**10\n",
        "          should_assign_gradient_value = False\n",
        "          for j in self.neighbors[i]:\n",
        "            if self.gradient[j] != '':\n",
        "              min_gradient_in_neighbors = min(self.gradient[j],min_gradient_in_neighbors)\n",
        "              should_assign_gradient_value = True\n",
        "          if should_assign_gradient_value:\n",
        "            self.gradient[i] = 1+min_gradient_in_neighbors\n",
        "    \n",
        "\n",
        "  def can_move(self,i):\n",
        "    ans = False\n",
        "    occupied = [self.true_coordinates[j] for j in self.neighbors[i]]\n",
        "    (x0,y0) = self.true_coordinates[i]\n",
        "    (dx,dy) = self.orientation[i]\n",
        "    (x,y) = (x0+dx,y0+dy)\n",
        "    surroundings0 = [(x0-1,y0),(x0-1,y0+1),(x0,y0+1),(x0+1,y0+1),(x0+1,y0),(x0+1,y0-1),(x0,y0-1),(x0-1,y0-1)]\n",
        "    surroundings0_unoccupied = [s not in occupied for s in surroundings0]\n",
        "    surroundings = [(x+1,y),(x-1,y),(x,y+1),(x,y-1),(x-1,y-1),(x-1,y+1),(x+1,y-1),(x+1,y+1)]\n",
        "    if any([surroundings0_unoccupied[n%8] and surroundings0_unoccupied[(n+1)%8] and surroundings0_unoccupied[(n+2)%8] and surroundings0_unoccupied[(n+3)%8] for n in range(8)]): # has open semicircle    \n",
        "      if (x,y) not in occupied:\n",
        "        if any([(p in occupied) for p in surroundings if p != (x0,y0)]): # doesn't break off from the mass\n",
        "          if x in range(self.grid_shape[0]) and y in range(self.grid_shape[1]): # stays in grid\n",
        "            if (x0,y0) not in self.template_coordinates or ((x0,y0) in self.template_coordinates and (x,y) in self.template_coordinates): # doesn't exit template\n",
        "              ans = True\n",
        "    return ans\n",
        "  \n",
        "  def move(self,i):\n",
        "    def arrow(orientation):\n",
        "      if orientation == (-1,0):\n",
        "        return '⇡'\n",
        "      elif orientation == (1,0):\n",
        "        return '⇣'\n",
        "      elif orientation == (0,-1):\n",
        "        return '⇠'\n",
        "      elif orientation == (0,1):\n",
        "        return '⇢'\n",
        "    def fill_log_turn(s):\n",
        "      return s.format(i,self.true_coordinates[i],arrow((dx0,dy0)),' and '.join([arrow(t) for t in turns]),arrow(self.orientation[i]))\n",
        "    def fill_log_edgefollow(s):\n",
        "      return s.format(i,arrow(self.orientation[i]),(x0,y0),self.true_coordinates[i])\n",
        "    \n",
        "    if self.can_move(i): # edge-follow\n",
        "      (x0,y0) = self.true_coordinates[i]\n",
        "      (dx,dy) = self.orientation[i]\n",
        "      self.true_coordinates[i] = (x0+dx,y0+dy)\n",
        "      self.update_neighbors()\n",
        "      self.update_estimated_coordinates()\n",
        "      self.log.append(fill_log_edgefollow('Agent {0} moves in direction {1} from {2} to {3}.'))\n",
        "    else: # turn\n",
        "      (dx0,dy0) = self.orientation[i]\n",
        "      turns = list(set([(-1,0),(0,1),(1,0),(0,-1)])-set([(-dx0,-dy0),(dx0,dy0)])) # can't go backwards\n",
        "      admissible_turns = []\n",
        "      for t in turns:\n",
        "        self.orientation[i] = t\n",
        "        if self.can_move(i):\n",
        "          admissible_turns.append(t)\n",
        "      if len(admissible_turns) == 0: # keep original orientation\n",
        "        self.orientation[i] = (dx0,dy0)\n",
        "        self.log.append(fill_log_turn('Agent {0} at {1} is unable to move in direction {2}. Of turns {3}, none are valid, so agent maintains direction {4}.'))\n",
        "      elif len(admissible_turns) == 1: # turn\n",
        "        self.orientation[i] = admissible_turns[0]\n",
        "        self.log.append(fill_log_turn('Agent {0} at {1} is unable to move in direction {2}. Of turns {3}, only {4} is valid.'))\n",
        "      elif len(admissible_turns) == 2: # turn in direction that gets closest to shape\n",
        "        distance_to_template = []\n",
        "        (x0,y0) = self.estimated_coordinates[i]\n",
        "        for (dx,dy) in turns:\n",
        "          (x,y) = (x0+dx,y0+dy)\n",
        "          distance_to_template.append(min([distance((x,y),p) for p in self.template_coordinates]))\n",
        "        if distance_to_template[0] > distance_to_template[1]:\n",
        "          self.orientation[i] = turns[0]\n",
        "          self.log.append(fill_log_turn('Agent {0} at {1} is unable to move in direction {2}. Both turns {3} are valid, but {4} is more optimal.'))\n",
        "        elif distance_to_template[0] < distance_to_template[1]:\n",
        "          self.orientation[i] = turns[1]\n",
        "          self.log.append(fill_log_turn('Agent {0} at {1} is unable to move in direction {2}. Both turns {3} are valid, but {4} is more optimal.'))\n",
        "        elif distance_to_template[0] == distance_to_template[1]:\n",
        "          self.orientation[i] = random.choice(turns)\n",
        "          self.log.append(fill_log_turn('Agent {0} at {1} is unable to move in direction {2}. Both turns {3} are valid and optimal, and {4} is randomly chosen.'))\n",
        " \n",
        "  def timestep_forward_parallel(self,details=False):\n",
        "    nonsurrounded_subset = [i for i,neighbor_list in enumerate(self.neighbors) if len(neighbor_list)<8]\n",
        "    random.shuffle(nonsurrounded_subset)\n",
        "    for i in nonsurrounded_subset:\n",
        "      self.move(i)\n",
        "      if details:\n",
        "        try:\n",
        "          print self.log[-1]\n",
        "        except:\n",
        "          pass\n",
        "        self.plot(highlight=[i])\n",
        "    \n",
        "  def timestep_forward_series(self,try_first=0,details=False):\n",
        "    pre_coordinate = self.true_coordinates[try_first]\n",
        "    pre_orientation = self.orientation[try_first]\n",
        "    self.move(try_first)\n",
        "    if self.true_coordinates[try_first] == pre_coordinate and self.orientation[try_first] == pre_orientation: # agent didn't move\n",
        "      try_first = random.choice([i for i in range(len(self.true_coordinates)) if self.can_move(i)])\n",
        "    return try_first\n",
        "    "
      ],
      "execution_count": 0,
      "outputs": []
    },
    {
      "metadata": {
        "id": "ye15vozy-Gun",
        "colab_type": "code",
        "colab": {
          "base_uri": "https://localhost:8080/",
          "height": 3327
        },
        "outputId": "af412d36-480a-42b8-f84a-e18bc05b5096"
      },
      "cell_type": "code",
      "source": [
        "a = Agents()\n",
        "try_first = 0\n",
        "for i in range(5000):\n",
        "  try_first = a.timestep_forward_series(try_first)\n",
        "  if i%500==0:\n",
        "    a.plot()"
      ],
      "execution_count": 6,
      "outputs": [
        {
          "output_type": "display_data",
          "data": {
            "image/png": "[encoded data removed]",
            "text/plain": [
              "<matplotlib.figure.Figure at 0x7ffa1fbe8090>"
            ]
          },
          "metadata": {
            "tags": []
          }
        },
        {
          "output_type": "display_data",
          "data": {
            "image/png": "[encoded data removed]",
            "text/plain": [
              "<matplotlib.figure.Figure at 0x7ffa1fac1190>"
            ]
          },
          "metadata": {
            "tags": []
          }
        },
        {
          "output_type": "display_data",
          "data": {
            "image/png": "[encoded data removed]",
            "text/plain": [
              "<matplotlib.figure.Figure at 0x7ffa1fa9c0d0>"
            ]
          },
          "metadata": {
            "tags": []
          }
        },
        {
          "output_type": "display_data",
          "data": {
            "image/png": "[encoded data removed]",
            "text/plain": [
              "<matplotlib.figure.Figure at 0x7ffa1fdfb9d0>"
            ]
          },
          "metadata": {
            "tags": []
          }
        },
        {
          "output_type": "display_data",
          "data": {
            "image/png": "[encoded data removed]",
            "text/plain": [
              "<matplotlib.figure.Figure at 0x7ffa1f9be090>"
            ]
          },
          "metadata": {
            "tags": []
          }
        },
        {
          "output_type": "display_data",
          "data": {
            "image/png": "[encoded data removed]",
            "text/plain": [
              "<matplotlib.figure.Figure at 0x7ffa1fca7a10>"
            ]
          },
          "metadata": {
            "tags": []
          }
        },
        {
          "output_type": "display_data",
          "data": {
            "image/png": "[encoded data removed]",
            "text/plain": [
              "<matplotlib.figure.Figure at 0x7ffa1fc1b2d0>"
            ]
          },
          "metadata": {
            "tags": []
          }
        },
        {
          "output_type": "display_data",
          "data": {
            "image/png": "[encoded data removed]",
            "text/plain": [
              "<matplotlib.figure.Figure at 0x7ffa1fd09e10>"
            ]
          },
          "metadata": {
            "tags": []
          }
        },
        {
          "output_type": "display_data",
          "data": {
            "image/png": "[encoded data removed]",
            "text/plain": [
              "<matplotlib.figure.Figure at 0x7ffa1f8653d0>"
            ]
          },
          "metadata": {
            "tags": []
          }
        },
        {
          "output_type": "display_data",
          "data": {
            "image/png": "[encoded data removed]",
            "text/plain": [
              "<matplotlib.figure.Figure at 0x7ffa1fc88a90>"
            ]
          },
          "metadata": {
            "tags": []
          }
        }
      ]
    },
    {
      "metadata": {
        "id": "NK6W2tLhNWQn",
        "colab_type": "code",
        "colab": {
          "base_uri": "https://localhost:8080/",
          "height": 1398
        },
        "outputId": "1f6c7ceb-4240-46b4-e7c6-7b57ef0fb2b5"
      },
      "cell_type": "code",
      "source": [
        "a = Agents()\n",
        "for i in range(100):\n",
        "  a.timestep_forward_parallel()\n",
        "  if i%10==0:\n",
        "    a.plot()"
      ],
      "execution_count": 9,
      "outputs": [
        {
          "output_type": "display_data",
          "data": {
            "image/png": "[encoded data removed]",
            "text/plain": [
              "<matplotlib.figure.Figure at 0x7ffa1f87c0d0>"
            ]
          },
          "metadata": {
            "tags": []
          }
        },
        {
          "output_type": "display_data",
          "data": {
            "image/png": "[encoded data removed]",
            "text/plain": [
              "<matplotlib.figure.Figure at 0x7ffa21f484d0>"
            ]
          },
          "metadata": {
            "tags": []
          }
        },
        {
          "output_type": "error",
          "ename": "ValueError",
          "evalue": "ignored",
          "traceback": [
            "\u001b[0;31m\u001b[0m",
            "\u001b[0;31mValueError\u001b[0mTraceback (most recent call last)",
            "\u001b[0;32m<ipython-input-9-68a8ed612267>\u001b[0m in \u001b[0;36m<module>\u001b[0;34m()\u001b[0m\n\u001b[1;32m      1\u001b[0m \u001b[0ma\u001b[0m \u001b[0;34m=\u001b[0m \u001b[0mAgents\u001b[0m\u001b[0;34m(\u001b[0m\u001b[0;34m)\u001b[0m\u001b[0;34m\u001b[0m\u001b[0m\n\u001b[1;32m      2\u001b[0m \u001b[0;32mfor\u001b[0m \u001b[0mi\u001b[0m \u001b[0;32min\u001b[0m \u001b[0mrange\u001b[0m\u001b[0;34m(\u001b[0m\u001b[0;36m100\u001b[0m\u001b[0;34m)\u001b[0m\u001b[0;34m:\u001b[0m\u001b[0;34m\u001b[0m\u001b[0m\n\u001b[0;32m----> 3\u001b[0;31m   \u001b[0ma\u001b[0m\u001b[0;34m.\u001b[0m\u001b[0mtimestep_forward_parallel\u001b[0m\u001b[0;34m(\u001b[0m\u001b[0;34m)\u001b[0m\u001b[0;34m\u001b[0m\u001b[0m\n\u001b[0m\u001b[1;32m      4\u001b[0m   \u001b[0;32mif\u001b[0m \u001b[0mi\u001b[0m\u001b[0;34m%\u001b[0m\u001b[0;36m10\u001b[0m\u001b[0;34m==\u001b[0m\u001b[0;36m0\u001b[0m\u001b[0;34m:\u001b[0m\u001b[0;34m\u001b[0m\u001b[0m\n\u001b[1;32m      5\u001b[0m     \u001b[0ma\u001b[0m\u001b[0;34m.\u001b[0m\u001b[0mplot\u001b[0m\u001b[0;34m(\u001b[0m\u001b[0;34m)\u001b[0m\u001b[0;34m\u001b[0m\u001b[0m\n",
            "\u001b[0;32m<ipython-input-5-37ac82ae6105>\u001b[0m in \u001b[0;36mtimestep_forward_parallel\u001b[0;34m(self, details)\u001b[0m\n\u001b[1;32m    162\u001b[0m     \u001b[0mrandom\u001b[0m\u001b[0;34m.\u001b[0m\u001b[0mshuffle\u001b[0m\u001b[0;34m(\u001b[0m\u001b[0mnonsurrounded_subset\u001b[0m\u001b[0;34m)\u001b[0m\u001b[0;34m\u001b[0m\u001b[0m\n\u001b[1;32m    163\u001b[0m     \u001b[0;32mfor\u001b[0m \u001b[0mi\u001b[0m \u001b[0;32min\u001b[0m \u001b[0mnonsurrounded_subset\u001b[0m\u001b[0;34m:\u001b[0m\u001b[0;34m\u001b[0m\u001b[0m\n\u001b[0;32m--> 164\u001b[0;31m       \u001b[0mself\u001b[0m\u001b[0;34m.\u001b[0m\u001b[0mmove\u001b[0m\u001b[0;34m(\u001b[0m\u001b[0mi\u001b[0m\u001b[0;34m)\u001b[0m\u001b[0;34m\u001b[0m\u001b[0m\n\u001b[0m\u001b[1;32m    165\u001b[0m       \u001b[0;32mif\u001b[0m \u001b[0mdetails\u001b[0m\u001b[0;34m:\u001b[0m\u001b[0;34m\u001b[0m\u001b[0m\n\u001b[1;32m    166\u001b[0m         \u001b[0;32mtry\u001b[0m\u001b[0;34m:\u001b[0m\u001b[0;34m\u001b[0m\u001b[0m\n",
            "\u001b[0;32m<ipython-input-5-37ac82ae6105>\u001b[0m in \u001b[0;36mmove\u001b[0;34m(self, i)\u001b[0m\n\u001b[1;32m    126\u001b[0m       \u001b[0mself\u001b[0m\u001b[0;34m.\u001b[0m\u001b[0mtrue_coordinates\u001b[0m\u001b[0;34m[\u001b[0m\u001b[0mi\u001b[0m\u001b[0;34m]\u001b[0m \u001b[0;34m=\u001b[0m \u001b[0;34m(\u001b[0m\u001b[0mx0\u001b[0m\u001b[0;34m+\u001b[0m\u001b[0mdx\u001b[0m\u001b[0;34m,\u001b[0m\u001b[0my0\u001b[0m\u001b[0;34m+\u001b[0m\u001b[0mdy\u001b[0m\u001b[0;34m)\u001b[0m\u001b[0;34m\u001b[0m\u001b[0m\n\u001b[1;32m    127\u001b[0m       \u001b[0mself\u001b[0m\u001b[0;34m.\u001b[0m\u001b[0mupdate_neighbors\u001b[0m\u001b[0;34m(\u001b[0m\u001b[0;34m)\u001b[0m\u001b[0;34m\u001b[0m\u001b[0m\n\u001b[0;32m--> 128\u001b[0;31m       \u001b[0mself\u001b[0m\u001b[0;34m.\u001b[0m\u001b[0mupdate_estimated_coordinates\u001b[0m\u001b[0;34m(\u001b[0m\u001b[0;34m)\u001b[0m\u001b[0;34m\u001b[0m\u001b[0m\n\u001b[0m\u001b[1;32m    129\u001b[0m       \u001b[0mself\u001b[0m\u001b[0;34m.\u001b[0m\u001b[0mlog\u001b[0m\u001b[0;34m.\u001b[0m\u001b[0mappend\u001b[0m\u001b[0;34m(\u001b[0m\u001b[0mfill_log_edgefollow\u001b[0m\u001b[0;34m(\u001b[0m\u001b[0;34m'Agent {0} moves in direction {1} from {2} to {3}.'\u001b[0m\u001b[0;34m)\u001b[0m\u001b[0;34m)\u001b[0m\u001b[0;34m\u001b[0m\u001b[0m\n\u001b[1;32m    130\u001b[0m     \u001b[0;32melse\u001b[0m\u001b[0;34m:\u001b[0m \u001b[0;31m# turn\u001b[0m\u001b[0;34m\u001b[0m\u001b[0m\n",
            "\u001b[0;32m<ipython-input-5-37ac82ae6105>\u001b[0m in \u001b[0;36mupdate_estimated_coordinates\u001b[0;34m(self)\u001b[0m\n\u001b[1;32m     68\u001b[0m \u001b[0;34m\u001b[0m\u001b[0m\n\u001b[1;32m     69\u001b[0m   \u001b[0;32mdef\u001b[0m \u001b[0mupdate_estimated_coordinates\u001b[0m\u001b[0;34m(\u001b[0m\u001b[0mself\u001b[0m\u001b[0;34m)\u001b[0m\u001b[0;34m:\u001b[0m\u001b[0;34m\u001b[0m\u001b[0m\n\u001b[0;32m---> 70\u001b[0;31m     \u001b[0mself\u001b[0m\u001b[0;34m.\u001b[0m\u001b[0mestimated_coordinates\u001b[0m \u001b[0;34m=\u001b[0m \u001b[0;34m[\u001b[0m\u001b[0mself\u001b[0m\u001b[0;34m.\u001b[0m\u001b[0mget_estimated_coordinates\u001b[0m\u001b[0;34m(\u001b[0m\u001b[0mi\u001b[0m\u001b[0;34m)\u001b[0m \u001b[0;32mfor\u001b[0m \u001b[0mi\u001b[0m \u001b[0;32min\u001b[0m \u001b[0mrange\u001b[0m\u001b[0;34m(\u001b[0m\u001b[0mlen\u001b[0m\u001b[0;34m(\u001b[0m\u001b[0mself\u001b[0m\u001b[0;34m.\u001b[0m\u001b[0mtrue_coordinates\u001b[0m\u001b[0;34m)\u001b[0m\u001b[0;34m)\u001b[0m\u001b[0;34m]\u001b[0m\u001b[0;34m\u001b[0m\u001b[0m\n\u001b[0m\u001b[1;32m     71\u001b[0m \u001b[0;34m\u001b[0m\u001b[0m\n\u001b[1;32m     72\u001b[0m   \u001b[0;32mdef\u001b[0m \u001b[0mupdate_gradient\u001b[0m\u001b[0;34m(\u001b[0m\u001b[0mself\u001b[0m\u001b[0;34m)\u001b[0m\u001b[0;34m:\u001b[0m\u001b[0;34m\u001b[0m\u001b[0m\n",
            "\u001b[0;32m<ipython-input-5-37ac82ae6105>\u001b[0m in \u001b[0;36mget_estimated_coordinates\u001b[0;34m(self, i)\u001b[0m\n\u001b[1;32m     54\u001b[0m     \u001b[0mneighbors_estimated_coordinates_x\u001b[0m \u001b[0;34m=\u001b[0m \u001b[0;34m[\u001b[0m\u001b[0mp\u001b[0m\u001b[0;34m[\u001b[0m\u001b[0;36m0\u001b[0m\u001b[0;34m]\u001b[0m \u001b[0;32mfor\u001b[0m \u001b[0mp\u001b[0m \u001b[0;32min\u001b[0m \u001b[0mneighbors_estimated_coordinates\u001b[0m\u001b[0;34m]\u001b[0m\u001b[0;34m\u001b[0m\u001b[0m\n\u001b[1;32m     55\u001b[0m     \u001b[0mneighbors_estimated_coordinates_y\u001b[0m \u001b[0;34m=\u001b[0m \u001b[0;34m[\u001b[0m\u001b[0mp\u001b[0m\u001b[0;34m[\u001b[0m\u001b[0;36m1\u001b[0m\u001b[0;34m]\u001b[0m \u001b[0;32mfor\u001b[0m \u001b[0mp\u001b[0m \u001b[0;32min\u001b[0m \u001b[0mneighbors_estimated_coordinates\u001b[0m\u001b[0;34m]\u001b[0m\u001b[0;34m\u001b[0m\u001b[0m\n\u001b[0;32m---> 56\u001b[0;31m     \u001b[0;34m[\u001b[0m\u001b[0mmin_x\u001b[0m\u001b[0;34m,\u001b[0m \u001b[0mmax_x\u001b[0m\u001b[0;34m]\u001b[0m \u001b[0;34m=\u001b[0m \u001b[0;34m[\u001b[0m\u001b[0mmin\u001b[0m\u001b[0;34m(\u001b[0m\u001b[0mneighbors_estimated_coordinates_x\u001b[0m\u001b[0;34m)\u001b[0m\u001b[0;34m,\u001b[0m \u001b[0mmax\u001b[0m\u001b[0;34m(\u001b[0m\u001b[0mneighbors_estimated_coordinates_x\u001b[0m\u001b[0;34m)\u001b[0m\u001b[0;34m]\u001b[0m\u001b[0;34m\u001b[0m\u001b[0m\n\u001b[0m\u001b[1;32m     57\u001b[0m     \u001b[0;34m[\u001b[0m\u001b[0mmin_y\u001b[0m\u001b[0;34m,\u001b[0m \u001b[0mmax_y\u001b[0m\u001b[0;34m]\u001b[0m \u001b[0;34m=\u001b[0m \u001b[0;34m[\u001b[0m\u001b[0mmin\u001b[0m\u001b[0;34m(\u001b[0m\u001b[0mneighbors_estimated_coordinates_y\u001b[0m\u001b[0;34m)\u001b[0m\u001b[0;34m,\u001b[0m \u001b[0mmax\u001b[0m\u001b[0;34m(\u001b[0m\u001b[0mneighbors_estimated_coordinates_y\u001b[0m\u001b[0;34m)\u001b[0m\u001b[0;34m]\u001b[0m\u001b[0;34m\u001b[0m\u001b[0m\n\u001b[1;32m     58\u001b[0m     \u001b[0mcandidate_estimations\u001b[0m \u001b[0;34m=\u001b[0m \u001b[0mlist\u001b[0m\u001b[0;34m(\u001b[0m\u001b[0mitertools\u001b[0m\u001b[0;34m.\u001b[0m\u001b[0mproduct\u001b[0m\u001b[0;34m(\u001b[0m\u001b[0mrange\u001b[0m\u001b[0;34m(\u001b[0m\u001b[0mmin_x\u001b[0m\u001b[0;34m-\u001b[0m\u001b[0;36m1\u001b[0m\u001b[0;34m,\u001b[0m\u001b[0mmax_x\u001b[0m\u001b[0;34m+\u001b[0m\u001b[0;36m2\u001b[0m\u001b[0;34m)\u001b[0m\u001b[0;34m,\u001b[0m\u001b[0mrange\u001b[0m\u001b[0;34m(\u001b[0m\u001b[0mmin_y\u001b[0m\u001b[0;34m-\u001b[0m\u001b[0;36m1\u001b[0m\u001b[0;34m,\u001b[0m\u001b[0mmax_y\u001b[0m\u001b[0;34m+\u001b[0m\u001b[0;36m2\u001b[0m\u001b[0;34m)\u001b[0m\u001b[0;34m)\u001b[0m\u001b[0;34m)\u001b[0m\u001b[0;34m\u001b[0m\u001b[0m\n",
            "\u001b[0;31mValueError\u001b[0m: min() arg is an empty sequence"
          ]
        }
      ]
    },
    {
      "metadata": {
        "id": "zxuGL3rb7IqT",
        "colab_type": "code",
        "colab": {}
      },
      "cell_type": "code",
      "source": [
        ""
      ],
      "execution_count": 0,
      "outputs": []
    }
  ]
}