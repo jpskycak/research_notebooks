{
  "nbformat": 4,
  "nbformat_minor": 0,
  "metadata": {
    "colab": {
      "name": "modeling_programmable_self_assembly_with_cellular_automata.ipynb",
      "version": "0.3.2",
      "provenance": [],
      "collapsed_sections": [],
      "include_colab_link": true
    },
    "kernelspec": {
      "name": "python2",
      "display_name": "Python 2"
    }
  },
  "cells": [
    {
      "cell_type": "markdown",
      "metadata": {
        "id": "view-in-github",
        "colab_type": "text"
      },
      "source": [
        "[View in Colaboratory](https://colab.research.google.com/github/jpskycak/research_notebooks/blob/master/modeling_programmable_self_assembly_with_cellular_automata.ipynb)"
      ]
    },
    {
      "metadata": {
        "id": "lULJBcZs-qHm",
        "colab_type": "code",
        "colab": {}
      },
      "cell_type": "code",
      "source": [
        "import numpy as np\n",
        "import matplotlib.pyplot as plt\n",
        "import itertools\n",
        "import random\n",
        "\n",
        "def distance((a,b),(x,y)):\n",
        "  return max(abs(a-x),abs(b-y))\n",
        "\n",
        "def get_coordinates(array):\n",
        "  return [(i,j) for i,row in enumerate(array) for j,val in enumerate(row) if val==1]\n",
        "    \n",
        "class Agents:\n",
        "  \n",
        "  def __init__(self,L=10,scale=5):\n",
        "    self.grid_shape = (scale*L, scale*L)\n",
        "    agents_array = np.zeros(self.grid_shape)\n",
        "    agents_array[L:2*L,L:2*L] = 1\n",
        "    template_array = np.zeros(self.grid_shape)\n",
        "    template_array[2*L-1:3*L-1,2*L-1:3*L-1] = 1\n",
        "    self.template_coordinates = get_coordinates(template_array)\n",
        "    \n",
        "    self.true_coordinates = get_coordinates(agents_array)\n",
        "    self.estimated_coordinates = self.true_coordinates\n",
        "    self.orientation = [(-1,0) for _ in self.true_coordinates]\n",
        "    self.update_neighbors()\n",
        "    \n",
        "    prod = [i*j for (i,j) in self.true_coordinates]\n",
        "    maxprod = max(prod)\n",
        "    self.is_source = [bool(p == maxprod) for p in prod]\n",
        "    self.update_gradient()  \n",
        "    self.log = []\n",
        "    \n",
        "  def get_neighbors(self,i):\n",
        "    center = self.true_coordinates[i]\n",
        "    return [j for j,p in enumerate(self.true_coordinates) if distance(center,p)==1 and i!=j]\n",
        "  \n",
        "  def plot(self):\n",
        "    grid = np.zeros(self.grid_shape)\n",
        "    for p in self.template_coordinates:\n",
        "      grid[p]=0.33\n",
        "    #max_gradient = max(self.gradient)\n",
        "    for i,p in enumerate(self.true_coordinates):\n",
        "      grid[p] = 1#1+ 2*(1 - float(max_gradient - self.gradient[i])/max_gradient)\n",
        "    plt.imshow(grid)\n",
        "    plt.grid(False)\n",
        "    plt.show()\n",
        "  \n",
        "  def update_neighbors(self):\n",
        "    self.neighbors = [self.get_neighbors(i) for i in range(len(self.true_coordinates))]\n",
        "  \n",
        "  def get_estimated_coordinates(self,i):\n",
        "    neighbors_estimated_coordinates = [self.estimated_coordinates[j] for j in self.neighbors[i]]\n",
        "    neighbors_estimated_coordinates_x = [p[0] for p in neighbors_estimated_coordinates]\n",
        "    neighbors_estimated_coordinates_y = [p[1] for p in neighbors_estimated_coordinates]\n",
        "    [min_x, max_x] = [min(neighbors_estimated_coordinates_x), max(neighbors_estimated_coordinates_x)]\n",
        "    [min_y, max_y] = [min(neighbors_estimated_coordinates_y), max(neighbors_estimated_coordinates_y)]\n",
        "    candidate_estimations = list(itertools.product(range(min_x-1,max_x+2),range(min_y-1,max_y+2)))\n",
        "    \n",
        "    def error_estimated_coordinates(p):\n",
        "      errors = [1 - distance(p,p_neighbor) for p_neighbor in neighbors_estimated_coordinates]\n",
        "      return sum([abs(err) for err in errors])\n",
        "    \n",
        "    candidate_estimation_errors = [error_estimated_coordinates(p) for p in candidate_estimations]\n",
        "    optimal_estimations = [candidate_estimations[i] for i,err in enumerate(candidate_estimation_errors) if err==min(candidate_estimation_errors)]\n",
        "    estimated_coordinates = random.choice(optimal_estimations)\n",
        "    return estimated_coordinates\n",
        "  \n",
        "  def update_estimated_coordinates(self):\n",
        "    self.estimated_coordinates = [self.get_estimated_coordinates(i) for i in range(len(self.true_coordinates))]\n",
        "    \n",
        "  def update_gradient(self):\n",
        "    self.gradient = ['' for _ in self.true_coordinates]\n",
        "    i_source = self.is_source.index(True)\n",
        "    self.gradient[i_source] = 0\n",
        "    for j in self.neighbors[i_source]:\n",
        "      self.gradient[j] = 1\n",
        "    while '' in self.gradient:\n",
        "      for i,g in enumerate(self.gradient):\n",
        "        if g=='':\n",
        "          min_gradient_in_neighbors = 9*10**10\n",
        "          should_assign_gradient_value = False\n",
        "          for j in self.neighbors[i]:\n",
        "            if self.gradient[j] != '':\n",
        "              min_gradient_in_neighbors = min(self.gradient[j],min_gradient_in_neighbors)\n",
        "              should_assign_gradient_value = True\n",
        "          if should_assign_gradient_value:\n",
        "            self.gradient[i] = 1+min_gradient_in_neighbors\n",
        "    \n",
        "\n",
        "  def can_move(self,i):\n",
        "    ans = False\n",
        "    (x0,y0) = self.true_coordinates[i]\n",
        "    (dx,dy) = self.orientation[i]\n",
        "    (x,y) = (x0+dx,y0+dy)\n",
        "    occupied = [self.true_coordinates[j] for j in self.neighbors[i]]\n",
        "    if (x,y) not in occupied:\n",
        "      surroundings = [p for p in [(x+1,y),(x-1,y),(x,y+1),(x,y-1),(x-1,y-1),(x-1,y+1),(x+1,y-1),(x+1,y+1)] if p != (x0,y0)]\n",
        "      if any([(p in occupied) for p in surroundings]): # doesn't break off from the mass\n",
        "        if x in range(self.grid_shape[0]) and y in range(self.grid_shape[1]): # stays in grid\n",
        "          if (x0,y0) not in self.template_coordinates or ((x0,y0) in self.template_coordinates and (x,y) in self.template_coordinates): # doesn't exit template\n",
        "            ans = True\n",
        "    return ans\n",
        "  \n",
        "  def move(self,i):\n",
        "    if self.can_move(i): # edge-follow\n",
        "      (x0,y0) = self.true_coordinates[i]\n",
        "      (dx,dy) = self.orientation[i]\n",
        "      self.true_coordinates[i] = (x0+dx,y0+dy)\n",
        "      self.update_neighbors()\n",
        "      self.update_estimated_coordinates()\n",
        "      self.log.append('agent {0} moves from {1} to {2}'.format(i,(x0,y0),self.true_coordinates[i]))\n",
        "    else: # turn\n",
        "      (dx0,dy0) = self.orientation[i]\n",
        "      turns = list(set([(-1,0),(0,1),(1,0),(0,-1)])-set([(-dx0,-dy0),(dx0,dy0)])) # can't go backwards\n",
        "      admissible_turns = []\n",
        "      for t in turns:\n",
        "        self.orientation[i] = t\n",
        "        if self.can_move(i):\n",
        "          admissible_turns.append(t)\n",
        "      if len(admissible_turns) == 0: # keep original orientation\n",
        "        self.orientation[i] = (dx0,dy0)\n",
        "      elif len(admissible_turns) == 1: # turn\n",
        "        self.orientation[i] = admissible_turns[0]\n",
        "      elif len(admissible_turns) == 2: # turn in direction that gets closest to shape\n",
        "        distance_to_template = []\n",
        "        (x0,y0) = self.true_coordinates[i]\n",
        "        for (dx,dy) in turns:\n",
        "          (x,y) = (x0+dx,y0+dy)\n",
        "          distance_to_template.append(min([distance((x,y),p) for p in self.template_coordinates]))\n",
        "        if distance_to_template[0] > distance_to_template[1]:\n",
        "          self.orientation[i] = turns[0]\n",
        "        elif distance_to_template[0] < distance_to_template[1]:\n",
        "          self.orientation[i] = turns[1]\n",
        "        elif distance_to_template[0] == distance_to_template[1]:\n",
        "          self.orientation[i] = random.choice(turns)\n",
        "        self.log.append('agent {0} turns from {1} to {2}'.format(i,(dx0,dy0),self.orientation[i]))\n",
        "  \n",
        "  def timestep_forward(self):\n",
        "    nonsurrounded_subset = [i for i,neighbor_list in enumerate(self.neighbors) if len(neighbor_list)<8]\n",
        "    random.shuffle(nonsurrounded_subset)\n",
        "    for i in nonsurrounded_subset:\n",
        "      self.move(i)"
      ],
      "execution_count": 0,
      "outputs": []
    },
    {
      "metadata": {
        "id": "ye15vozy-Gun",
        "colab_type": "code",
        "colab": {
          "base_uri": "https://localhost:8080/",
          "height": 347
        },
        "outputId": "d2ac8c40-f41f-4470-df05-0356a80ac646"
      },
      "cell_type": "code",
      "source": [
        "a = Agents()\n",
        "a.plot()"
      ],
      "execution_count": 142,
      "outputs": [
        {
          "output_type": "display_data",
          "data": {
            "image/png": "[encoded data removed]",
            "text/plain": [
              "<matplotlib.figure.Figure at 0x7fecccdcb250>"
            ]
          },
          "metadata": {
            "tags": []
          }
        }
      ]
    },
    {
      "metadata": {
        "id": "MEC88wKRZgUT",
        "colab_type": "code",
        "colab": {}
      },
      "cell_type": "code",
      "source": [
        "a.timestep_forward()"
      ],
      "execution_count": 0,
      "outputs": []
    },
    {
      "metadata": {
        "id": "_5KwLCjmdo_j",
        "colab_type": "code",
        "colab": {
          "base_uri": "https://localhost:8080/",
          "height": 347
        },
        "outputId": "5df23898-e736-4b23-cef1-a9f0a31297fd"
      },
      "cell_type": "code",
      "source": [
        "a.plot()"
      ],
      "execution_count": 144,
      "outputs": [
        {
          "output_type": "display_data",
          "data": {
            "image/png": "[encoded data removed]",
            "text/plain": [
              "<matplotlib.figure.Figure at 0x7feccc8b3050>"
            ]
          },
          "metadata": {
            "tags": []
          }
        }
      ]
    },
    {
      "metadata": {
        "id": "n3UJQ67cmNLv",
        "colab_type": "code",
        "colab": {
          "base_uri": "https://localhost:8080/",
          "height": 230
        },
        "outputId": "2ff37aac-b4ce-4d8f-9dd4-c88bd7f8d436"
      },
      "cell_type": "code",
      "source": [
        "a.log"
      ],
      "execution_count": 145,
      "outputs": [
        {
          "output_type": "execute_result",
          "data": {
            "text/plain": [
              "['agent 2 moves from (10, 12) to (9, 12)',\n",
              " 'agent 6 moves from (10, 16) to (9, 16)',\n",
              " 'agent 5 moves from (10, 15) to (9, 15)',\n",
              " 'agent 7 moves from (10, 17) to (9, 17)',\n",
              " 'agent 3 moves from (10, 13) to (9, 13)',\n",
              " 'agent 0 moves from (10, 10) to (9, 10)',\n",
              " 'agent 1 moves from (10, 11) to (9, 11)',\n",
              " 'agent 10 moves from (11, 10) to (10, 10)',\n",
              " 'agent 9 moves from (10, 19) to (9, 19)',\n",
              " 'agent 4 moves from (10, 14) to (9, 14)',\n",
              " 'agent 8 moves from (10, 18) to (9, 18)',\n",
              " 'agent 19 moves from (11, 19) to (10, 19)']"
            ]
          },
          "metadata": {
            "tags": []
          },
          "execution_count": 145
        }
      ]
    },
    {
      "metadata": {
        "id": "6-wBUrtUd6wB",
        "colab_type": "code",
        "colab": {}
      },
      "cell_type": "code",
      "source": [
        ""
      ],
      "execution_count": 0,
      "outputs": []
    }
  ]
}