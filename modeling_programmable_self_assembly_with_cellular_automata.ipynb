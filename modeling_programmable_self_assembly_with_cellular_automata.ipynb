{
  "nbformat": 4,
  "nbformat_minor": 0,
  "metadata": {
    "colab": {
      "name": "modeling_programmable_self_assembly_with_cellular_automata.ipynb",
      "version": "0.3.2",
      "provenance": [],
      "collapsed_sections": []
    },
    "kernelspec": {
      "name": "python2",
      "display_name": "Python 2"
    }
  },
  "cells": [
    {
      "cell_type": "markdown",
      "metadata": {
        "id": "view-in-github",
        "colab_type": "text"
      },
      "source": [
        "[View in Colaboratory](https://colab.research.google.com/github/jpskycak/research_notebooks/blob/master/modeling_programmable_self_assembly_with_cellular_automata.ipynb)"
      ]
    },
    {
      "metadata": {
        "id": "lULJBcZs-qHm",
        "colab_type": "code",
        "colab": {
          "base_uri": "https://localhost:8080/",
          "height": 696
        },
        "outputId": "4ebe7616-f85b-4975-9a3a-98bf4779887c"
      },
      "cell_type": "code",
      "source": [
        "import numpy as np\n",
        "import matplotlib.pyplot as plt\n",
        "import itertools\n",
        "import random\n",
        "\n",
        "# initial coordinates for agents\n",
        "L = 10\n",
        "scaling_factor = 5\n",
        "gridshape = (scaling_factor*L,scaling_factor*L)\n",
        "grid = np.zeros(gridshape)\n",
        "grid[L:2*L,L:2*L] = 1\n",
        "plt.imshow(grid)\n",
        "plt.grid(False)\n",
        "plt.show()\n",
        "\n",
        "# make shape\n",
        "shape = np.zeros(gridshape)\n",
        "\n",
        "#shape[:L,:L] = 1\n",
        "\n",
        "shape[L-5:L,L-5:L] = 1\n",
        "shape[2*L:2*L+5,2*L:2*L+5] = 1\n",
        "\n",
        "#shape[L:-3,L:-3] = 1\n",
        "#shape[int(1.25*L):-3,int(1.25*L):-3] = 0 \n",
        "\n",
        "plt.imshow(shape)\n",
        "plt.grid(False)\n",
        "plt.show()\n",
        "\n",
        "shape_coordinates = []\n",
        "for x in range(shape.shape[0]):\n",
        "  for y in range(shape.shape[1]):\n",
        "    if shape[x,y] == 1:\n",
        "      shape_coordinates.append((x,y))\n",
        "shape_coordinates[:5]"
      ],
      "execution_count": 82,
      "outputs": [
        {
          "output_type": "display_data",
          "data": {
            "image/png": "[encoded data removed]",
            "text/plain": [
              "<matplotlib.figure.Figure at 0x7f5f91543ed0>"
            ]
          },
          "metadata": {
            "tags": []
          }
        },
        {
          "output_type": "display_data",
          "data": {
            "image/png": "[encoded data removed]",
            "text/plain": [
              "<matplotlib.figure.Figure at 0x7f5f91ab1690>"
            ]
          },
          "metadata": {
            "tags": []
          }
        },
        {
          "output_type": "execute_result",
          "data": {
            "text/plain": [
              "[(5, 5), (5, 6), (5, 7), (5, 8), (5, 9)]"
            ]
          },
          "metadata": {
            "tags": []
          },
          "execution_count": 82
        }
      ]
    },
    {
      "metadata": {
        "id": "SqruOrLOCLwy",
        "colab_type": "code",
        "colab": {
          "base_uri": "https://localhost:8080/",
          "height": 141
        },
        "outputId": "0f92fb11-26f4-4e8f-a4d3-220b6d384242"
      },
      "cell_type": "code",
      "source": [
        "# instantiate agents at initial coordinates\n",
        "# initialize estimated coordinates as true initial coordinates\n",
        "# update_neighbors_and_distances()\n",
        "\n",
        "agents = []\n",
        "\n",
        "for x in range(gridshape[0]):\n",
        "  for y in range(gridshape[1]):\n",
        "    if grid[x,y]==1:\n",
        "      agents.append({'true_coordinates':(x,y),\n",
        "                     'estimated_coordinates':(x,y),\n",
        "                     'orientation':(-1,0),\n",
        "                     'id':len(agents),\n",
        "                     'is_source':bool((x,y)==(2*L-1,2*L-1))\n",
        "                    })\n",
        "\n",
        "def distance_metric(a,b):\n",
        "  return max(abs(a[0]-b[0]),abs(a[1]-b[1]))\n",
        "  #return abs(a[0]-b[0])+abs(a[1]-b[1])\n",
        "\n",
        "def in_radius(test_point,center,radius):\n",
        "  out = False\n",
        "  if distance_metric(test_point,center) <= radius:\n",
        "    out = True\n",
        "  return out\n",
        "\n",
        "def get_neighbors_distances_estimations(agent,radius=1):\n",
        "  center = agent['true_coordinates']\n",
        "  neighbors = [i for i,a in enumerate(agents) if in_radius(a['true_coordinates'],center,radius) and a['id'] != agent['id']]\n",
        "  distances = [distance_metric(agents[i]['true_coordinates'],center) for i in neighbors]\n",
        "  estimated_coordinates = agent['estimated_coordinates']\n",
        "  \n",
        "  if len(neighbors)>0:\n",
        "  \n",
        "    neighbors_estimated_coordinates = [agents[n]['estimated_coordinates'] for n in neighbors]\n",
        "    # DEBUG: print 'neighbors for agent id ',agent['id'],' at ',center,'are: ',neighbors\n",
        "    def error_estimated_coordinates(xy):\n",
        "      discrepancies = [d - distance_metric(xy,neighbors_estimated_coordinates[i]) for i,d in enumerate(distances)]\n",
        "      return sum([abs(d) for d in discrepancies])\n",
        "\n",
        "    neighbors_estimated_coordinates_x = [c[0] for c in neighbors_estimated_coordinates]\n",
        "    neighbors_estimated_coordinates_y = [c[1] for c in neighbors_estimated_coordinates]\n",
        "    [min_x, max_x] = [min(neighbors_estimated_coordinates_x), max(neighbors_estimated_coordinates_x)]\n",
        "    [min_y, max_y] = [min(neighbors_estimated_coordinates_y), max(neighbors_estimated_coordinates_y)]\n",
        "    candidate_estimations = list(itertools.product(range(min_x,max_x+1),range(min_y,max_y+1)))\n",
        "    candidate_estimation_errors = [error_estimated_coordinates(xy) for xy in candidate_estimations]\n",
        "\n",
        "    optimal_estimations = [candidate_estimations[i] for i,err in enumerate(candidate_estimation_errors) if err==min(candidate_estimation_errors)]\n",
        "    estimated_coordinates = random.choice(optimal_estimations)\n",
        "  \n",
        "  return [neighbors,distances,estimated_coordinates]\n",
        "\n",
        "\n",
        "for a in agents:\n",
        "  [a['neighbors'],a['distances'],a['estimated_coordinates']] = get_neighbors_distances_estimations(a)\n",
        "  \n",
        "agents[0]"
      ],
      "execution_count": 83,
      "outputs": [
        {
          "output_type": "execute_result",
          "data": {
            "text/plain": [
              "{'distances': [1, 1, 1],\n",
              " 'estimated_coordinates': (10, 10),\n",
              " 'id': 0,\n",
              " 'is_source': False,\n",
              " 'neighbors': [1, 10, 11],\n",
              " 'orientation': (-1, 0),\n",
              " 'true_coordinates': (10, 10)}"
            ]
          },
          "metadata": {
            "tags": []
          },
          "execution_count": 83
        }
      ]
    },
    {
      "metadata": {
        "id": "WXLHjhoJx3wz",
        "colab_type": "code",
        "colab": {
          "base_uri": "https://localhost:8080/",
          "height": 158
        },
        "outputId": "44e6c07c-fe8e-4f63-f67a-9d831032303a"
      },
      "cell_type": "code",
      "source": [
        "# initialize gradient values.\n",
        "\n",
        "for a in agents:\n",
        "  if a['is_source']:\n",
        "    a['gradient_value'] = 0\n",
        "    for neighbor_index in a['neighbors']:\n",
        "      neighbor = agents[neighbor_index]\n",
        "      neighbor['gradient_value'] = 1\n",
        "      \n",
        "def do_all_agents_have_gradient_values():\n",
        "  ans = True\n",
        "  for a in agents:\n",
        "    if 'gradient_value' not in a.keys():\n",
        "      ans = False\n",
        "  return ans\n",
        "\n",
        "while not do_all_agents_have_gradient_values():\n",
        "  for a in agents:\n",
        "    if 'gradient_value' not in a.keys():\n",
        "      neighbors = [agents[i] for i in a['neighbors']]\n",
        "      min_gradient_in_neighbors = 9*10**10\n",
        "      should_assign_gradient_value = False\n",
        "      for neighbor in neighbors:\n",
        "        if 'gradient_value' in neighbor.keys():\n",
        "          min_gradient_in_neighbors = min(neighbor['gradient_value'],min_gradient_in_neighbors)\n",
        "          should_assign_gradient_value = True\n",
        "      if should_assign_gradient_value:\n",
        "        a['gradient_value'] = 1+min_gradient_in_neighbors\n",
        "  \n",
        "agents[0]"
      ],
      "execution_count": 84,
      "outputs": [
        {
          "output_type": "execute_result",
          "data": {
            "text/plain": [
              "{'distances': [1, 1, 1],\n",
              " 'estimated_coordinates': (10, 10),\n",
              " 'gradient_value': 9,\n",
              " 'id': 0,\n",
              " 'is_source': False,\n",
              " 'neighbors': [1, 10, 11],\n",
              " 'orientation': (-1, 0),\n",
              " 'true_coordinates': (10, 10)}"
            ]
          },
          "metadata": {
            "tags": []
          },
          "execution_count": 84
        }
      ]
    },
    {
      "metadata": {
        "id": "suTwySBe67rZ",
        "colab_type": "code",
        "colab": {
          "base_uri": "https://localhost:8080/",
          "height": 347
        },
        "outputId": "8fdfbc49-a401-4ea7-bba2-1b9a6b83fb53"
      },
      "cell_type": "code",
      "source": [
        "# check gradient\n",
        "gradient = np.zeros(gridshape)\n",
        "for a in agents:\n",
        "  [x,y] = a['true_coordinates']\n",
        "  gradient[x,y] = a['gradient_value']\n",
        "  \n",
        "plt.imshow(gradient)\n",
        "plt.grid(False)\n",
        "plt.show()"
      ],
      "execution_count": 85,
      "outputs": [
        {
          "output_type": "display_data",
          "data": {
            "image/png": "[encoded data removed]",
            "text/plain": [
              "<matplotlib.figure.Figure at 0x7f5f91b34e90>"
            ]
          },
          "metadata": {
            "tags": []
          }
        }
      ]
    },
    {
      "metadata": {
        "id": "BpHZTxleZts2",
        "colab_type": "code",
        "colab": {}
      },
      "cell_type": "code",
      "source": [
        "# edge-following\n",
        "def leaves_shape(old_loc,new_loc):\n",
        "  ans = False\n",
        "  if old_loc in shape_coordinates:\n",
        "    if new_loc not in shape_coordinates:\n",
        "      ans = True\n",
        "  return ans\n",
        "  \n",
        "def can_move(a,debug=False):\n",
        "  neighbors = a['neighbors']\n",
        "  (x0,y0) = a['true_coordinates']\n",
        "  (dx,dy) = a['orientation']\n",
        "  (x,y) = (x0+dx,y0+dy)\n",
        "\n",
        "  ans = False\n",
        "  occupied = [agents[neighbors[i]]['true_coordinates'] for i,d in enumerate(a['distances']) if d==1]\n",
        "  if (x,y) not in occupied:\n",
        "    if x in range(gridshape[0]) and y in range(gridshape[1]): # in grid\n",
        "      if not leaves_shape((x0,y0),(x,y)): # doesn't leave shape\n",
        "        ans = True\n",
        "        if debug:\n",
        "          ans = [(x0,y0), (dx,dy), (x,y)]\n",
        "  return ans\n",
        "\n",
        "def update(a):\n",
        "  [a['neighbors'],a['distances'],a['estimated_coordinates']] = get_neighbors_distances_estimations(a)\n",
        "\n",
        "def timestep(agents=agents,shape_coordinates=shape_coordinates):\n",
        "                \n",
        "  movable_agents = [i for i,a in enumerate(agents) if can_move(a)]\n",
        "  selected_agent_index = random.choice(movable_agents)\n",
        "  selected_agent = agents[selected_agent_index]\n",
        "  \n",
        "  highlight_list = ['loc before move: '+str(selected_agent['true_coordinates'])]\n",
        "  highlight_list = ['orientation before move: '+str(selected_agent['orientation'])]\n",
        "  \n",
        "  # move\n",
        "  (x0,y0) = selected_agent['true_coordinates']\n",
        "  (dx,dy) = selected_agent['orientation']\n",
        "  selected_agent['true_coordinates'] = (x0+dx,y0+dy)\n",
        "  \n",
        "  highlight_list = highlight_list + ['loc after move: '+str(selected_agent['true_coordinates'])]\n",
        "  \n",
        "  old_neighbors = selected_agent['neighbors']\n",
        "  update(selected_agent)\n",
        "  new_neighbors = selected_agent['neighbors']\n",
        "  \n",
        "  highlight_list = highlight_list + ['loc after update: '+str(selected_agent['true_coordinates'])]\n",
        "  \n",
        "  if not can_move(selected_agent): # if it can't move again, then it's on corner (?) and should turn\n",
        "    seq = [(-1,0),(0,1),(1,0),(0,-1)]\n",
        "    i_seq = seq.index(selected_agent['orientation'])\n",
        "    selected_agent['orientation'] = seq[(i_seq+1)%4]\n",
        "     \n",
        "  highlight_list = highlight_list + ['loc after turn: '+str(selected_agent['true_coordinates'])]\n",
        "  highlight_list = highlight_list + ['orientation after turn: '+str(selected_agent['orientation'])]\n",
        "  \n",
        "  for i in list(set(old_neighbors).union(set(new_neighbors))):\n",
        "    update(agents[i]) \n",
        "    \n",
        "  highlight_list = highlight_list + ['loc after neighbor updates: '+str(selected_agent['true_coordinates'])]\n",
        "    \n",
        "  return highlight_list\n",
        "\n",
        "def plot_grid(highlight_list=[]):\n",
        "  grid = np.zeros((scaling_factor*L,scaling_factor*L))\n",
        "  for s in shape_coordinates:\n",
        "    grid[s]=0.5\n",
        "  for a in agents:\n",
        "    grid[a['true_coordinates']]=1\n",
        "    \n",
        "  for coordinates in highlight_list:\n",
        "    grid[coordinates[0],coordinates[1]]=2\n",
        "    \n",
        "  plt.imshow(grid)\n",
        "  plt.grid(False)\n",
        "  plt.show()\n",
        "  "
      ],
      "execution_count": 0,
      "outputs": []
    },
    {
      "metadata": {
        "id": "O9Q-g8nGaK61",
        "colab_type": "code",
        "colab": {
          "base_uri": "https://localhost:8080/",
          "height": 3683
        },
        "outputId": "f9d7d092-a026-4572-a708-4065d8edf146"
      },
      "cell_type": "code",
      "source": [
        "for t in range(10):\n",
        "  highlight_list = timestep()\n",
        "  if t%1==0:\n",
        "    print 't='+str(t)\n",
        "    #plot_grid(highlight_list)\n",
        "    print highlight_list\n",
        "    plot_grid()"
      ],
      "execution_count": 87,
      "outputs": [
        {
          "output_type": "stream",
          "text": [
            "t=0\n",
            "['before move: (10, 15)', 'after move: (9, 15)', 'after update: (9, 15)', 'after turn: (9, 15)', 'after neighbor updates: (9, 15)']\n"
          ],
          "name": "stdout"
        },
        {
          "output_type": "display_data",
          "data": {
            "image/png": "[encoded data removed]",
            "text/plain": [
              "<matplotlib.figure.Figure at 0x7f5f93c64750>"
            ]
          },
          "metadata": {
            "tags": []
          }
        },
        {
          "output_type": "stream",
          "text": [
            "t=1\n",
            "['before move: (10, 12)', 'after move: (9, 12)', 'after update: (9, 12)', 'after turn: (9, 12)', 'after neighbor updates: (9, 12)']\n"
          ],
          "name": "stdout"
        },
        {
          "output_type": "display_data",
          "data": {
            "image/png": "[encoded data removed]",
            "text/plain": [
              "<matplotlib.figure.Figure at 0x7f5f93c64450>"
            ]
          },
          "metadata": {
            "tags": []
          }
        },
        {
          "output_type": "stream",
          "text": [
            "t=2\n",
            "['before move: (11, 12)', 'after move: (10, 12)', 'after update: (10, 12)', 'after turn: (10, 12)', 'after neighbor updates: (10, 12)']\n"
          ],
          "name": "stdout"
        },
        {
          "output_type": "display_data",
          "data": {
            "image/png": "[encoded data removed]",
            "text/plain": [
              "<matplotlib.figure.Figure at 0x7f5f91a15f10>"
            ]
          },
          "metadata": {
            "tags": []
          }
        },
        {
          "output_type": "stream",
          "text": [
            "t=3\n",
            "['before move: (10, 10)', 'after move: (9, 10)', 'after update: (9, 10)', 'after turn: (9, 10)', 'after neighbor updates: (9, 10)']\n"
          ],
          "name": "stdout"
        },
        {
          "output_type": "display_data",
          "data": {
            "image/png": "[encoded data removed]",
            "text/plain": [
              "<matplotlib.figure.Figure at 0x7f5f919faa10>"
            ]
          },
          "metadata": {
            "tags": []
          }
        },
        {
          "output_type": "stream",
          "text": [
            "t=4\n",
            "['before move: (9, 10)', 'after move: (8, 10)', 'after update: (8, 10)', 'after turn: (8, 10)', 'after neighbor updates: (8, 10)']\n"
          ],
          "name": "stdout"
        },
        {
          "output_type": "display_data",
          "data": {
            "image/png": "[encoded data removed]",
            "text/plain": [
              "<matplotlib.figure.Figure at 0x7f5f91597290>"
            ]
          },
          "metadata": {
            "tags": []
          }
        },
        {
          "output_type": "stream",
          "text": [
            "t=5\n",
            "['before move: (11, 10)', 'after move: (10, 10)', 'after update: (10, 10)', 'after turn: (10, 10)', 'after neighbor updates: (10, 10)']\n"
          ],
          "name": "stdout"
        },
        {
          "output_type": "display_data",
          "data": {
            "image/png": "[encoded data removed]",
            "text/plain": [
              "<matplotlib.figure.Figure at 0x7f5f91ab9190>"
            ]
          },
          "metadata": {
            "tags": []
          }
        },
        {
          "output_type": "stream",
          "text": [
            "t=6\n",
            "['before move: (10, 17)', 'after move: (9, 17)', 'after update: (9, 17)', 'after turn: (9, 17)', 'after neighbor updates: (9, 17)']\n"
          ],
          "name": "stdout"
        },
        {
          "output_type": "display_data",
          "data": {
            "image/png": "[encoded data removed]",
            "text/plain": [
              "<matplotlib.figure.Figure at 0x7f5f91ab9810>"
            ]
          },
          "metadata": {
            "tags": []
          }
        },
        {
          "output_type": "stream",
          "text": [
            "t=7\n",
            "['before move: (9, 15)', 'after move: (8, 15)', 'after update: (8, 15)', 'after turn: (8, 15)', 'after neighbor updates: (8, 15)']\n"
          ],
          "name": "stdout"
        },
        {
          "output_type": "display_data",
          "data": {
            "image/png": "[encoded data removed]",
            "text/plain": [
              "<matplotlib.figure.Figure at 0x7f5f9162c750>"
            ]
          },
          "metadata": {
            "tags": []
          }
        },
        {
          "output_type": "stream",
          "text": [
            "t=8\n",
            "['before move: (10, 13)', 'after move: (9, 13)', 'after update: (9, 13)', 'after turn: (9, 13)', 'after neighbor updates: (9, 13)']\n"
          ],
          "name": "stdout"
        },
        {
          "output_type": "display_data",
          "data": {
            "image/png": "[encoded data removed]",
            "text/plain": [
              "<matplotlib.figure.Figure at 0x7f5f917cb510>"
            ]
          },
          "metadata": {
            "tags": []
          }
        },
        {
          "output_type": "stream",
          "text": [
            "t=9\n",
            "['before move: (10, 16)', 'after move: (9, 16)', 'after update: (9, 16)', 'after turn: (9, 16)', 'after neighbor updates: (9, 16)']\n"
          ],
          "name": "stdout"
        },
        {
          "output_type": "display_data",
          "data": {
            "image/png": "[encoded data removed]",
            "text/plain": [
              "<matplotlib.figure.Figure at 0x7f5f91512e10>"
            ]
          },
          "metadata": {
            "tags": []
          }
        }
      ]
    },
    {
      "metadata": {
        "id": "6-wBUrtUd6wB",
        "colab_type": "code",
        "colab": {}
      },
      "cell_type": "code",
      "source": [
        ""
      ],
      "execution_count": 0,
      "outputs": []
    }
  ]
}